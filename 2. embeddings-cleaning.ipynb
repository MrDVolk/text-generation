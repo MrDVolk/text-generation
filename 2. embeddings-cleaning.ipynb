{
 "cells": [
  {
   "cell_type": "code",
   "execution_count": 1,
   "id": "09f0fea7-5945-46a1-a069-bf4137a9ea21",
   "metadata": {},
   "outputs": [
    {
     "name": "stderr",
     "output_type": "stream",
     "text": [
      "100%|██████████| 999995/999995 [01:27<00:00, 11488.76it/s]\n"
     ]
    },
    {
     "name": "stdout",
     "output_type": "stream",
     "text": [
      "Total embeddings shape: (629762, 300)\n"
     ]
    }
   ],
   "source": [
    "import numpy as np\n",
    "from src.embedding_manager import EmbeddingManager\n",
    "\n",
    "em = EmbeddingManager(path='../fasttext.wiki-news-300d-1M.vec')"
   ]
  },
  {
   "cell_type": "markdown",
   "id": "5974783f-26e7-420d-addf-2fe881f31268",
   "metadata": {},
   "source": [
    "# Perform cleaning according to analysis, conducted in embeddings-analysis.ipynb"
   ]
  },
  {
   "cell_type": "code",
   "execution_count": 2,
   "id": "99a4f24f-5fbd-4938-9c24-7dfe89473dbd",
   "metadata": {},
   "outputs": [],
   "source": [
    "def filter_values(array, limits, title):\n",
    "    filtered_out_idx =  (array < limits[0]) | (array > limits[1])\n",
    "    filtered_out = array[filtered_out_idx]\n",
    "    print(f'Filtered out by {title} in {limits}: {filtered_out.shape[0]}')\n",
    "    return filtered_out_idx"
   ]
  },
  {
   "cell_type": "code",
   "execution_count": 3,
   "id": "42674271-7a60-4264-83fa-9cc3f572a0d3",
   "metadata": {},
   "outputs": [
    {
     "name": "stdout",
     "output_type": "stream",
     "text": [
      "Filtered out by mean in (-0.03, 0.03): 118\n",
      "Filtered out by median in (-0.04, 0.04): 4\n",
      "Filtered out by max in (0, 1): 530\n",
      "Filtered out by min in (-1, 0): 18219\n",
      "Total filtered out entries count: 18619\n"
     ]
    }
   ],
   "source": [
    "# Per entry limits\n",
    "mean_limits = (-0.03, 0.03)\n",
    "median_limits = (-0.04, 0.04)\n",
    "max_limits = (0, 1)\n",
    "min_limits = (-1, 0)\n",
    "\n",
    "mean_values = np.mean(em.vectors, axis=1)\n",
    "median_values = np.median(em.vectors, axis=1)\n",
    "max_values = np.max(em.vectors, axis=1)\n",
    "min_values = np.min(em.vectors, axis=1)\n",
    "\n",
    "mean_filtered_out_idx = filter_values(mean_values, mean_limits, 'mean')\n",
    "median_filtered_out_idx = filter_values(median_values, median_limits, 'median')\n",
    "max_filtered_out_idx = filter_values(max_values, max_limits, 'max')\n",
    "min_filtered_out_idx = filter_values(min_values, min_limits, 'min')\n",
    "\n",
    "total_entry_filter_idx = mean_filtered_out_idx | median_filtered_out_idx | max_filtered_out_idx | min_filtered_out_idx\n",
    "print(f'Total filtered out entries count: {em.vectors[total_entry_filter_idx].shape[0]}')\n",
    "\n",
    "em.vectors = em.vectors[~total_entry_filter_idx]\n",
    "em.words = em.words[~total_entry_filter_idx]"
   ]
  },
  {
   "cell_type": "code",
   "execution_count": 4,
   "id": "144f0680-73ee-416d-9535-befa26e60be5",
   "metadata": {},
   "outputs": [
    {
     "name": "stdout",
     "output_type": "stream",
     "text": [
      "Filtered out by mean per dimension in (-0.1, 0.1): 4\n",
      "Filtered out by median per dimension in (-0.1, 0.1): 3\n",
      "Filtered out by max per dimension in (0, 2): 1\n",
      "Filtered out by min per dimension in (-2, 0): 0\n",
      "Total filtered out dimensions count: 4\n"
     ]
    }
   ],
   "source": [
    "# Per dimension limits\n",
    "mean_dim_limits = (-0.1, 0.1)\n",
    "median_dim_limits = (-0.1, 0.1)\n",
    "max_dim_limits = (0, 2)\n",
    "min_dim_limits = (-2, 0)\n",
    "\n",
    "mean_values_per_dim = np.mean(em.vectors, axis=0)\n",
    "median_values_per_dim = np.median(em.vectors, axis=0)\n",
    "max_values_per_dim = np.max(em.vectors, axis=0)\n",
    "min_values_per_dim = np.min(em.vectors, axis=0)\n",
    "\n",
    "mean_dim_filtered_out_idx = filter_values(mean_values_per_dim, mean_dim_limits, 'mean per dimension')\n",
    "median_dim_filtered_out_idx = filter_values(median_values_per_dim, median_dim_limits, 'median per dimension')\n",
    "max_dim_filtered_out_idx = filter_values(max_values_per_dim, max_dim_limits, 'max per dimension')\n",
    "min_dim_filtered_out_idx = filter_values(min_values_per_dim, min_dim_limits, 'min per dimension')\n",
    "\n",
    "total_dimension_filter_idx = mean_dim_filtered_out_idx | median_dim_filtered_out_idx | max_dim_filtered_out_idx | min_dim_filtered_out_idx\n",
    "print(f'Total filtered out dimensions count: {em.vectors[0][total_dimension_filter_idx].shape[0]}')"
   ]
  },
  {
   "cell_type": "code",
   "execution_count": 5,
   "id": "5a126259-e469-4dff-9433-ff2431cd61d3",
   "metadata": {},
   "outputs": [
    {
     "name": "stdout",
     "output_type": "stream",
     "text": [
      "(611143, 296)\n",
      "(611143, 290)\n"
     ]
    }
   ],
   "source": [
    "em.vectors = em.vectors.swapaxes(0, 1)[~total_dimension_filter_idx].swapaxes(0, 1)\n",
    "print(em.vectors.shape)\n",
    "\n",
    "# reduce dimensions a bit more\n",
    "from sklearn.decomposition import PCA\n",
    "pca = PCA(n_components=290)\n",
    "em.vectors = pca.fit_transform(em.vectors)\n",
    "print(em.vectors.shape)"
   ]
  },
  {
   "cell_type": "markdown",
   "id": "52b84e7b-cf89-4deb-ad3e-f28083b6d6f9",
   "metadata": {},
   "source": [
    "## Save filtered embeddings"
   ]
  },
  {
   "cell_type": "code",
   "execution_count": 6,
   "id": "69112852-e609-41d0-94a1-b186b391ee80",
   "metadata": {},
   "outputs": [
    {
     "name": "stderr",
     "output_type": "stream",
     "text": [
      "100%|██████████| 611143/611143 [01:47<00:00, 5685.48it/s]\n"
     ]
    }
   ],
   "source": [
    "from tqdm import tqdm\n",
    "\n",
    "rounded = em.vectors.round(5)\n",
    "with open('../fasttext.wiki-news-cleaned-290d.vec', 'w', encoding='UTF-8') as vec_file:\n",
    "    vec_file.write(f'{em.vectors.shape[0]} {em.vectors.shape[1]}\\n')\n",
    "    for i, word in enumerate(tqdm(em.words)):\n",
    "        vector = rounded[i]\n",
    "        row = word + ' ' + ' '.join([str(val) for val in vector])\n",
    "        vec_file.write(row + '\\n')"
   ]
  },
  {
   "cell_type": "code",
   "execution_count": null,
   "id": "e34f4d4f-5922-4292-9b55-eec6f2507144",
   "metadata": {},
   "outputs": [],
   "source": []
  }
 ],
 "metadata": {
  "kernelspec": {
   "display_name": "Python 3",
   "language": "python",
   "name": "python3"
  },
  "language_info": {
   "codemirror_mode": {
    "name": "ipython",
    "version": 3
   },
   "file_extension": ".py",
   "mimetype": "text/x-python",
   "name": "python",
   "nbconvert_exporter": "python",
   "pygments_lexer": "ipython3",
   "version": "3.9.6"
  }
 },
 "nbformat": 4,
 "nbformat_minor": 5
}
