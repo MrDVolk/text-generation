{
 "cells": [
  {
   "cell_type": "code",
   "execution_count": 1,
   "id": "56b39c7c-011c-4cc8-9ff4-480274a543e2",
   "metadata": {},
   "outputs": [],
   "source": [
    "import numpy as np\n",
    "from embedding_manager import EmbeddingManager"
   ]
  },
  {
   "cell_type": "code",
   "execution_count": 2,
   "id": "86f24561-057c-454d-a7a8-b417dce9f1a4",
   "metadata": {},
   "outputs": [
    {
     "name": "stderr",
     "output_type": "stream",
     "text": [
      "100%|██████████| 999995/999995 [01:17<00:00, 12963.95it/s]\n"
     ]
    },
    {
     "name": "stdout",
     "output_type": "stream",
     "text": [
      "Total embeddings shape: (629762, 300)\n"
     ]
    }
   ],
   "source": [
    "em = EmbeddingManager(path='../fasttext.wiki-news-300d-1M.vec')"
   ]
  },
  {
   "cell_type": "code",
   "execution_count": 3,
   "id": "f5253017-5901-4ba4-8108-9622377c6754",
   "metadata": {},
   "outputs": [
    {
     "name": "stdout",
     "output_type": "stream",
     "text": [
      "Estimator is being prepared...\n"
     ]
    },
    {
     "data": {
      "text/plain": [
       "[('authority', 1.0289617947526117),\n",
       " ('power', 1.1381789353724092),\n",
       " ('government', 1.1628852017446072),\n",
       " ('governmental', 1.1726115075890766),\n",
       " ('man', 1.1744869205508266),\n",
       " ('ruler', 1.2175793611453776),\n",
       " ('statesman', 1.21860621679381),\n",
       " ('woman', 1.2313762892635538),\n",
       " ('dominion', 1.2320704318769573),\n",
       " ('machinery', 1.2456221388303736)]"
      ]
     },
     "execution_count": 3,
     "metadata": {},
     "output_type": "execute_result"
    }
   ],
   "source": [
    "power = em.get_vector('power')\n",
    "authority = em.get_vector('authority')\n",
    "government = em.get_vector('government')\n",
    "man = em.get_vector('man')\n",
    "\n",
    "avg_vector = np.mean([power, authority, government, man], axis=0)\n",
    "em.get_words(avg_vector, 10)"
   ]
  },
  {
   "cell_type": "markdown",
   "id": "2b5afec3-c016-4cae-b33f-4e36be9b07ee",
   "metadata": {},
   "source": [
    "Good enough. Embeddings do not show that kind of insight as they show in typical embeddings tutorial, but it is as expected.\n",
    "\n",
    "There is an option to reduce dimensionality either by taking other embeddings or through PCA, and this might get a little more robust results."
   ]
  },
  {
   "cell_type": "markdown",
   "id": "5cef98e1-29f1-4394-a29a-90e31fc73084",
   "metadata": {},
   "source": [
    "# Simple analysis"
   ]
  },
  {
   "cell_type": "code",
   "execution_count": 43,
   "id": "9be28112-7f53-4ca3-89c8-a9a901b9c91e",
   "metadata": {},
   "outputs": [],
   "source": [
    "import matplotlib.pyplot as plt\n",
    "%matplotlib inline"
   ]
  },
  {
   "cell_type": "code",
   "execution_count": 56,
   "id": "8fb63597-e774-4eac-a2b5-e5b42e4dc79c",
   "metadata": {},
   "outputs": [
    {
     "name": "stdout",
     "output_type": "stream",
     "text": [
      "mean: -0.0031533798\n",
      "median: 1e-04\n",
      "max: 7.4302\n",
      "min: -57.307\n"
     ]
    }
   ],
   "source": [
    "print('mean:', np.mean(em.vectors))\n",
    "print('median:', np.median(em.vectors))\n",
    "print('max:', np.max(em.vectors))\n",
    "print('min:', np.min(em.vectors))\n",
    "\n",
    "mean_values = np.mean(em.vectors, axis=1)\n",
    "median_values = np.median(em.vectors, axis=1)\n",
    "max_values = np.max(em.vectors, axis=1)\n",
    "min_values = np.min(em.vectors, axis=1)"
   ]
  },
  {
   "cell_type": "code",
   "execution_count": 73,
   "id": "4c73cfca-52ff-4b64-a5f3-b6c003a19da8",
   "metadata": {},
   "outputs": [],
   "source": [
    "def plot_distribution(array, title):\n",
    "    print(title.capitalize())\n",
    "    print()\n",
    "    print(f'Mean {title}: {np.mean(array)}')\n",
    "    print(f'Median {title}: {np.median(array)}')\n",
    "    print(f'Max {title}: {np.max(array)}')\n",
    "    print(f'Min {title}: {np.min(array)}')\n",
    "    \n",
    "    _ = plt.hist(array, bins=100)"
   ]
  },
  {
   "cell_type": "code",
   "execution_count": 74,
   "id": "b26dd638-25d2-4cd6-827a-e00bfa29db47",
   "metadata": {},
   "outputs": [
    {
     "name": "stdout",
     "output_type": "stream",
     "text": [
      "Mean values across entries\n",
      "\n",
      "Mean mean values across entries: -0.003153381636366248\n",
      "Median mean values across entries: -0.003001083619892597\n",
      "Max mean values across entries: 0.02512366697192192\n",
      "Min mean values across entries: -0.22580499947071075\n"
     ]
    },
    {
     "data": {
      "image/png": "[encoded data removed]",
      "text/plain": [
       "<Figure size 432x288 with 1 Axes>"
      ]
     },
     "metadata": {
      "needs_background": "light"
     },
     "output_type": "display_data"
    }
   ],
   "source": [
    "plot_distribution(mean_values, 'mean values across entries')"
   ]
  },
  {
   "cell_type": "code",
   "execution_count": 75,
   "id": "b203852d-596b-4b4f-9652-2a58e5f44279",
   "metadata": {},
   "outputs": [
    {
     "name": "stdout",
     "output_type": "stream",
     "text": [
      "Median values across entries\n",
      "\n",
      "Mean median values across entries: 8.126781722239684e-06\n",
      "Median median values across entries: 0.00010000000474974513\n",
      "Max median values across entries: 0.04960000142455101\n",
      "Min median values across entries: -0.060999996960163116\n"
     ]
    },
    {
     "data": {
      "image/png": "[encoded data removed]",
      "text/plain": [
       "<Figure size 432x288 with 1 Axes>"
      ]
     },
     "metadata": {
      "needs_background": "light"
     },
     "output_type": "display_data"
    }
   ],
   "source": [
    "plot_distribution(median_values, 'median values across entries')"
   ]
  },
  {
   "cell_type": "code",
   "execution_count": 76,
   "id": "62b40a65-80ef-417f-8d1f-0803d459753a",
   "metadata": {},
   "outputs": [
    {
     "name": "stdout",
     "output_type": "stream",
     "text": [
      "Max values across entries\n",
      "\n",
      "Mean max values across entries: 0.30751845240592957\n",
      "Median max values across entries: 0.2913999855518341\n",
      "Max max values across entries: 7.430200099945068\n",
      "Min max values across entries: 0.05389999970793724\n"
     ]
    },
    {
     "data": {
      "image/png": "[encoded data removed]",
      "text/plain": [
       "<Figure size 432x288 with 1 Axes>"
      ]
     },
     "metadata": {
      "needs_background": "light"
     },
     "output_type": "display_data"
    }
   ],
   "source": [
    "plot_distribution(max_values, 'max values across entries')"
   ]
  },
  {
   "cell_type": "code",
   "execution_count": 77,
   "id": "34c10a3b-e975-4e65-a4ef-a812d3fb6503",
   "metadata": {},
   "outputs": [
    {
     "name": "stdout",
     "output_type": "stream",
     "text": [
      "Min values across entries\n",
      "\n",
      "Mean min values across entries: -0.8396312594413757\n",
      "Median min values across entries: -0.8338000178337097\n",
      "Max min values across entries: -0.4749000072479248\n",
      "Min min values across entries: -57.30699920654297\n"
     ]
    },
    {
     "data": {
      "image/png": "[encoded data removed]",
      "text/plain": [
       "<Figure size 432x288 with 1 Axes>"
      ]
     },
     "metadata": {
      "needs_background": "light"
     },
     "output_type": "display_data"
    }
   ],
   "source": [
    "plot_distribution(min_values, 'min values across entries')"
   ]
  },
  {
   "cell_type": "markdown",
   "id": "af12cd07-4e47-4203-81d4-dff9696bd8f5",
   "metadata": {},
   "source": [
    "There are clear outliers.\n",
    "\n",
    "Next step is to find out whether we have to filter embeddings in general, or it is a problem with only some of dimensions, and we can get rid of it."
   ]
  },
  {
   "cell_type": "code",
   "execution_count": 106,
   "id": "2d74322e-cb40-4c4e-9d9e-aa2819254836",
   "metadata": {},
   "outputs": [],
   "source": [
    "mean_values_per_dim = np.mean(em.vectors, axis=0)\n",
    "median_values_per_dim = np.median(em.vectors, axis=0)\n",
    "max_values_per_dim = np.max(em.vectors, axis=0)\n",
    "min_values_per_dim = np.min(em.vectors, axis=0)"
   ]
  },
  {
   "cell_type": "code",
   "execution_count": 107,
   "id": "671a5340-0932-405a-b6dd-dd140d59b4f0",
   "metadata": {},
   "outputs": [
    {
     "name": "stdout",
     "output_type": "stream",
     "text": [
      "Mean values across dimensions\n",
      "\n",
      "Mean mean values across dimensions: -0.003153401892632246\n",
      "Median mean values across dimensions: 0.0006508835358545184\n",
      "Max mean values across dimensions: 0.07590746134519577\n",
      "Min mean values across dimensions: -0.8359929919242859\n"
     ]
    },
    {
     "data": {
      "image/png": "[encoded data removed]",
      "text/plain": [
       "<Figure size 432x288 with 1 Axes>"
      ]
     },
     "metadata": {
      "needs_background": "light"
     },
     "output_type": "display_data"
    }
   ],
   "source": [
    "plot_distribution(mean_values_per_dim, 'mean values across dimensions')"
   ]
  },
  {
   "cell_type": "code",
   "execution_count": 108,
   "id": "99c4136a-f67b-4b4a-af79-9a32d1bcbe37",
   "metadata": {},
   "outputs": [
    {
     "name": "stdout",
     "output_type": "stream",
     "text": [
      "Median values across dimensions\n",
      "\n",
      "Mean median values across dimensions: -0.0033461253624409437\n",
      "Median median values across dimensions: 0.0005999999702908099\n",
      "Max median values across dimensions: 0.06719999760389328\n",
      "Min median values across dimensions: -0.8335000276565552\n"
     ]
    },
    {
     "data": {
      "image/png": "[encoded data removed]",
      "text/plain": [
       "<Figure size 432x288 with 1 Axes>"
      ]
     },
     "metadata": {
      "needs_background": "light"
     },
     "output_type": "display_data"
    }
   ],
   "source": [
    "plot_distribution(median_values_per_dim, 'median values across dimensions')"
   ]
  },
  {
   "cell_type": "code",
   "execution_count": 109,
   "id": "0a85b37b-7cd6-47a2-a648-641e9ecc447a",
   "metadata": {},
   "outputs": [
    {
     "name": "stdout",
     "output_type": "stream",
     "text": [
      "Max values across dimensions\n",
      "\n",
      "Mean max values across dimensions: 1.0163142681121826\n",
      "Median max values across dimensions: 0.8324500322341919\n",
      "Max max values across dimensions: 7.430200099945068\n",
      "Min max values across dimensions: -0.1266999989748001\n"
     ]
    },
    {
     "data": {
      "image/png": "[encoded data removed]",
      "text/plain": [
       "<Figure size 432x288 with 1 Axes>"
      ]
     },
     "metadata": {
      "needs_background": "light"
     },
     "output_type": "display_data"
    }
   ],
   "source": [
    "plot_distribution(max_values_per_dim, 'max values across dimensions')"
   ]
  },
  {
   "cell_type": "code",
   "execution_count": 110,
   "id": "5bc04124-50b2-467e-897e-f04bd71557bc",
   "metadata": {},
   "outputs": [
    {
     "name": "stdout",
     "output_type": "stream",
     "text": [
      "Min values across dimensions\n",
      "\n",
      "Mean min values across dimensions: -1.2787516117095947\n",
      "Median min values across dimensions: -0.7749999761581421\n",
      "Max min values across dimensions: -0.5239999890327454\n",
      "Min min values across dimensions: -57.30699920654297\n"
     ]
    },
    {
     "data": {
      "image/png": "[encoded data removed]",
      "text/plain": [
       "<Figure size 432x288 with 1 Axes>"
      ]
     },
     "metadata": {
      "needs_background": "light"
     },
     "output_type": "display_data"
    }
   ],
   "source": [
    "plot_distribution(min_values_per_dim, 'min values across dimensions')"
   ]
  },
  {
   "cell_type": "markdown",
   "id": "9db488dd-f7af-4f0b-b5a5-c040464e4d72",
   "metadata": {},
   "source": [
    "### Clearly there are outliers both in entries and dimensions.\n",
    "\n",
    "Next step is to find the exact amount and try to filter them out."
   ]
  },
  {
   "cell_type": "code",
   "execution_count": 111,
   "id": "fd8e26a1-1c9a-494e-b100-8ff770cc71f1",
   "metadata": {},
   "outputs": [],
   "source": [
    "def filter_values(array, limits, title):\n",
    "    filtered_out_idx =  (array < limits[0]) | (array > limits[1])\n",
    "    filtered_out = array[filtered_out_idx]\n",
    "    print(f'Filtered out by {title} in {limits}: {filtered_out.shape[0]}')\n",
    "    return filtered_out_idx"
   ]
  },
  {
   "cell_type": "code",
   "execution_count": 112,
   "id": "1b2bcda8-7b57-45a4-8d3c-a7734cc442b5",
   "metadata": {},
   "outputs": [],
   "source": [
    "# Per entry limits\n",
    "mean_limits = (-0.03, 0.03)\n",
    "median_limits = (-0.04, 0.04)\n",
    "max_limits = (0, 1)\n",
    "min_limits = (-1, 0)"
   ]
  },
  {
   "cell_type": "code",
   "execution_count": 116,
   "id": "ed6607ae-9649-410a-9c5f-81644aec80a5",
   "metadata": {},
   "outputs": [
    {
     "name": "stdout",
     "output_type": "stream",
     "text": [
      "Filtered out by mean in (-0.03, 0.03): 118\n",
      "Filtered out by median in (-0.04, 0.04): 4\n",
      "Filtered out by max in (0, 1): 530\n",
      "Filtered out by min in (-1, 0): 18219\n",
      "Total filtered out entries count: 18619\n"
     ]
    }
   ],
   "source": [
    "mean_filtered_out_idx = filter_values(mean_values, mean_limits, 'mean')\n",
    "median_filtered_out_idx = filter_values(median_values, median_limits, 'median')\n",
    "max_filtered_out_idx = filter_values(max_values, max_limits, 'max')\n",
    "min_filtered_out_idx = filter_values(min_values, min_limits, 'min')\n",
    "\n",
    "total_entry_filter_idx = mean_filtered_out_idx | median_filtered_out_idx | max_filtered_out_idx | min_filtered_out_idx\n",
    "print(f'Total filtered out entries count: {em.vectors[total_entry_filter_idx].shape[0]}')"
   ]
  },
  {
   "cell_type": "code",
   "execution_count": 124,
   "id": "751491fe-d8e9-49a9-8a67-b471a83ba901",
   "metadata": {},
   "outputs": [
    {
     "name": "stdout",
     "output_type": "stream",
     "text": [
      "Filtered out by mean per dimension in (-0.1, 0.1): 4\n",
      "Filtered out by median per dimension in (-0.1, 0.1): 3\n",
      "Filtered out by max per dimension in (0, 2): 17\n",
      "Filtered out by min per dimension in (-2, 0): 21\n",
      "Total filtered out entries count: 35\n"
     ]
    }
   ],
   "source": [
    "# Per dimension limits\n",
    "mean_dim_limits = (-0.1, 0.1)\n",
    "median_dim_limits = (-0.1, 0.1)\n",
    "max_dim_limits = (0, 2)\n",
    "min_dim_limits = (-2, 0)\n",
    "\n",
    "mean_dim_filtered_out_idx = filter_values(mean_values_per_dim, mean_dim_limits, 'mean per dimension')\n",
    "median_dim_filtered_out_idx = filter_values(median_values_per_dim, median_dim_limits, 'median per dimension')\n",
    "max_dim_filtered_out_idx = filter_values(max_values_per_dim, max_dim_limits, 'max per dimension')\n",
    "min_dim_filtered_out_idx = filter_values(min_values_per_dim, min_dim_limits, 'min per dimension')\n",
    "\n",
    "total_dimension_filter_idx = mean_dim_filtered_out_idx | median_dim_filtered_out_idx | max_dim_filtered_out_idx | min_dim_filtered_out_idx\n",
    "print(f'Total filtered out dimensions count: {em.vectors[0][total_dimension_filter_idx].shape[0]}')"
   ]
  },
  {
   "cell_type": "markdown",
   "id": "076120f1-e9e1-4917-8953-82c0da5b084e",
   "metadata": {},
   "source": [
    "#### Intermediate summary\n",
    "Of course, losing 19k entries from 630k dictionary, which is ~3% of all entries is far less damaging than losing 35 dimensions from 300 dimensioned embedding, which is ~12% of all dimensions.\n",
    "\n",
    "The safest strategy is to filter out entries, check if the remaining words are enough to cover a generic text, and then repeat analysis of dimension outliers, and clean them if necessary."
   ]
  },
  {
   "cell_type": "code",
   "execution_count": null,
   "id": "25a6cbd5-33f5-4e00-9116-9b97680f5fe2",
   "metadata": {},
   "outputs": [],
   "source": []
  },
  {
   "cell_type": "code",
   "execution_count": null,
   "id": "0d95cc53-b2c2-41ee-b0c5-7f6d1c125505",
   "metadata": {},
   "outputs": [],
   "source": []
  },
  {
   "cell_type": "code",
   "execution_count": null,
   "id": "bf33d2e7-50a5-41c1-9fcb-8fa212958a63",
   "metadata": {},
   "outputs": [],
   "source": []
  },
  {
   "cell_type": "code",
   "execution_count": null,
   "id": "aa34d5f6-c445-4b91-88cd-4c02de5b407c",
   "metadata": {},
   "outputs": [],
   "source": []
  },
  {
   "cell_type": "code",
   "execution_count": null,
   "id": "5138f7ec-ebd2-41c8-82a3-f311986529ea",
   "metadata": {},
   "outputs": [],
   "source": []
  },
  {
   "cell_type": "markdown",
   "id": "8bd56cd4-f34d-43bf-8e2d-236d1ec2fadb",
   "metadata": {},
   "source": [
    "### Try find outliers:\n",
    "\n",
    "Use IsolationForest and LocalOutlierFactor to get rid from anomalies"
   ]
  },
  {
   "cell_type": "code",
   "execution_count": 28,
   "id": "808ea8f8-3f15-48e0-b64d-b34f64dde26b",
   "metadata": {},
   "outputs": [],
   "source": [
    "from sklearn.ensemble import IsolationForest\n",
    "from sklearn.neighbors import LocalOutlierFactor"
   ]
  },
  {
   "cell_type": "code",
   "execution_count": null,
   "id": "2fd9694f-60b5-4e09-a4ed-be1e536e8363",
   "metadata": {
    "tags": []
   },
   "outputs": [],
   "source": [
    "# setup isolation forest to get rid from 1000 most anomalous words\n",
    "#isolation_forest = IsolationForest(contamination=0.0016)\n",
    "isolation_forest = IsolationForest()\n",
    "print('Fitting...')\n",
    "isolation_forest.fit(em.vectors)\n",
    "\n",
    "print('Predicting...')\n",
    "outlier_mask = isolation_forest.predict(em.vectors)\n",
    "outlier_idx = outlier_mask == -1\n",
    "outlier_words = em.words[outlier_idx]\n",
    "\n",
    "print(f'Number of anomalies: {outlier_words.shape[0]}')"
   ]
  },
  {
   "cell_type": "code",
   "execution_count": 37,
   "id": "c9301038-8143-49a5-94a8-db5c90c00c11",
   "metadata": {
    "tags": []
   },
   "outputs": [
    {
     "name": "stdout",
     "output_type": "stream",
     "text": [
      "mean: -0.003091353\n",
      "median: 1e-04\n",
      "max: 4.8304\n",
      "min: -27.7679\n"
     ]
    }
   ],
   "source": [
    "corrected_vectors = em.vectors[~outlier_idx]\n",
    "\n",
    "print('mean:', np.mean(corrected_vectors))\n",
    "print('median:', np.median(corrected_vectors))\n",
    "print('max:', np.max(corrected_vectors))\n",
    "print('min:', np.min(corrected_vectors))"
   ]
  },
  {
   "cell_type": "code",
   "execution_count": null,
   "id": "3b42bcb5-f66a-4417-9a4c-997cfb9e04ff",
   "metadata": {},
   "outputs": [],
   "source": []
  }
 ],
 "metadata": {
  "kernelspec": {
   "display_name": "Python 3",
   "language": "python",
   "name": "python3"
  },
  "language_info": {
   "codemirror_mode": {
    "name": "ipython",
    "version": 3
   },
   "file_extension": ".py",
   "mimetype": "text/x-python",
   "name": "python",
   "nbconvert_exporter": "python",
   "pygments_lexer": "ipython3",
   "version": "3.9.6"
  }
 },
 "nbformat": 4,
 "nbformat_minor": 5
}
