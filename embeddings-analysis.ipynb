{
 "cells": [
  {
   "cell_type": "code",
   "execution_count": 1,
   "id": "56b39c7c-011c-4cc8-9ff4-480274a543e2",
   "metadata": {},
   "outputs": [],
   "source": [
    "import numpy as np\n",
    "from embedding_manager import EmbeddingManager"
   ]
  },
  {
   "cell_type": "code",
   "execution_count": 2,
   "id": "86f24561-057c-454d-a7a8-b417dce9f1a4",
   "metadata": {},
   "outputs": [
    {
     "name": "stderr",
     "output_type": "stream",
     "text": [
      "100%|██████████| 999995/999995 [01:17<00:00, 12963.95it/s]\n"
     ]
    },
    {
     "name": "stdout",
     "output_type": "stream",
     "text": [
      "Total embeddings shape: (629762, 300)\n"
     ]
    }
   ],
   "source": [
    "em = EmbeddingManager(path='../fasttext.wiki-news-300d-1M.vec')"
   ]
  },
  {
   "cell_type": "code",
   "execution_count": 3,
   "id": "f5253017-5901-4ba4-8108-9622377c6754",
   "metadata": {},
   "outputs": [
    {
     "name": "stdout",
     "output_type": "stream",
     "text": [
      "Estimator is being prepared...\n"
     ]
    },
    {
     "data": {
      "text/plain": [
       "[('authority', 1.0289617947526117),\n",
       " ('power', 1.1381789353724092),\n",
       " ('government', 1.1628852017446072),\n",
       " ('governmental', 1.1726115075890766),\n",
       " ('man', 1.1744869205508266),\n",
       " ('ruler', 1.2175793611453776),\n",
       " ('statesman', 1.21860621679381),\n",
       " ('woman', 1.2313762892635538),\n",
       " ('dominion', 1.2320704318769573),\n",
       " ('machinery', 1.2456221388303736)]"
      ]
     },
     "execution_count": 3,
     "metadata": {},
     "output_type": "execute_result"
    }
   ],
   "source": [
    "power = em.get_vector('power')\n",
    "authority = em.get_vector('authority')\n",
    "government = em.get_vector('government')\n",
    "man = em.get_vector('man')\n",
    "\n",
    "avg_vector = np.mean([power, authority, government, man], axis=0)\n",
    "em.get_words(avg_vector, 10)"
   ]
  },
  {
   "cell_type": "markdown",
   "id": "2b5afec3-c016-4cae-b33f-4e36be9b07ee",
   "metadata": {},
   "source": [
    "Good enough. Embeddings do not show that kind of insight as they show in typical embeddings tutorial, but it is as expected.\n",
    "\n",
    "There is an option to reduce dimensionality either by taking other embeddings or through PCA, and this might get a little more robust results."
   ]
  },
  {
   "cell_type": "code",
   "execution_count": null,
   "id": "6694584e-bc8d-48ba-a9c7-0faf94e7df10",
   "metadata": {},
   "outputs": [],
   "source": []
  }
 ],
 "metadata": {
  "kernelspec": {
   "display_name": "Python 3",
   "language": "python",
   "name": "python3"
  },
  "language_info": {
   "codemirror_mode": {
    "name": "ipython",
    "version": 3
   },
   "file_extension": ".py",
   "mimetype": "text/x-python",
   "name": "python",
   "nbconvert_exporter": "python",
   "pygments_lexer": "ipython3",
   "version": "3.9.6"
  }
 },
 "nbformat": 4,
 "nbformat_minor": 5
}
