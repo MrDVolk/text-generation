{
 "cells": [
  {
   "cell_type": "markdown",
   "id": "a837cb96-050a-4713-aa55-1d6dc3d8911d",
   "metadata": {},
   "source": [
    "# Bag of words base model for text generation\n",
    "\n",
    "This base model would try to predict next word in the text, treating text as a bag of words.\n",
    "\n",
    "Based on amazon food reviews, base model should be able to reproduce (at least, get close to) those reviews with sklearn algorithms.\n",
    "\n",
    "This notebook is based upon the previous one, \"Sequential base model for text generation\", and will skip some exploration and analysis.\n",
    "\n",
    "## Load data"
   ]
  },
  {
   "cell_type": "code",
   "execution_count": 1,
   "id": "78e3808a-b51b-4177-b4f9-d2e96e171850",
   "metadata": {},
   "outputs": [
    {
     "name": "stderr",
     "output_type": "stream",
     "text": [
      "[nltk_data] Downloading package stopwords to\n",
      "[nltk_data]     C:\\Users\\Dmitry\\AppData\\Roaming\\nltk_data...\n",
      "[nltk_data]   Package stopwords is already up-to-date!\n",
      "100%|██████████| 393579/393579 [00:24<00:00, 15875.78it/s]\n",
      "100%|██████████| 393579/393579 [00:02<00:00, 171567.03it/s]\n"
     ]
    },
    {
     "name": "stdout",
     "output_type": "stream",
     "text": [
      "Fitting...\n",
      "Predicting...\n"
     ]
    },
    {
     "data": {
      "image/png": "[encoded data removed]",
      "text/plain": [
       "<Figure size 1152x576 with 1 Axes>"
      ]
     },
     "metadata": {
      "needs_background": "light"
     },
     "output_type": "display_data"
    }
   ],
   "source": [
    "import warnings\n",
    "warnings.filterwarnings('ignore')\n",
    "\n",
    "import pandas as pd\n",
    "from tqdm import tqdm\n",
    "from src.text_preprocessor import TextPreprocessor\n",
    "\n",
    "tqdm.pandas()\n",
    "\n",
    "reviews_df = pd.read_csv('../amazon-food-reviews.csv')\n",
    "reviews_df.columns = [col_name.lower() for col_name in reviews_df.columns]\n",
    "reviews_df = reviews_df[['text']]\n",
    "reviews_df = reviews_df.drop_duplicates(subset=['text'])\n",
    "reviews_df = reviews_df.dropna()\n",
    "\n",
    "text_preprocessor = TextPreprocessor(lemmatization=False)\n",
    "\n",
    "reviews_df['text'] = reviews_df['text'].progress_apply(text_preprocessor.process)\n",
    "reviews_df['wc'] = reviews_df['text'].progress_apply(lambda x: len([word for word in x.split(' ') if word != '']))\n",
    "\n",
    "\n",
    "from sklearn.ensemble import IsolationForest\n",
    "wc_isolation_forest = IsolationForest(contamination=0.2)\n",
    "wc_vector = reviews_df['wc'].to_numpy().reshape((-1, 1))\n",
    "\n",
    "print('Fitting...')\n",
    "wc_isolation_forest.fit(wc_vector)\n",
    "\n",
    "print('Predicting...')\n",
    "outlier_mask = wc_isolation_forest.predict(wc_vector)\n",
    "outlier_idx = outlier_mask == -1\n",
    "\n",
    "filtered_reviews_df = reviews_df[~outlier_idx]\n",
    "\n",
    "import matplotlib.pyplot as plt\n",
    "%matplotlib inline\n",
    "\n",
    "_ = filtered_reviews_df['wc'].hist(bins=63, figsize=(16,8))"
   ]
  },
  {
   "cell_type": "markdown",
   "id": "f53c6d3a-2109-4ab3-9b18-7034f53bc092",
   "metadata": {},
   "source": [
    "## Prepare data for training"
   ]
  },
  {
   "cell_type": "code",
   "execution_count": 2,
   "id": "360e6e41-5e92-4f18-abf6-4a2d94da45ce",
   "metadata": {},
   "outputs": [
    {
     "data": {
      "image/png": "[encoded data removed]",
      "text/plain": [
       "<Figure size 1152x576 with 1 Axes>"
      ]
     },
     "metadata": {
      "needs_background": "light"
     },
     "output_type": "display_data"
    }
   ],
   "source": [
    "# Debug only!\n",
    "max_word_count_forced = 41\n",
    "filtered_reviews_df = filtered_reviews_df[filtered_reviews_df['wc'] < max_word_count_forced]\n",
    "_ = filtered_reviews_df['wc'].hist(bins=30, figsize=(16,8))"
   ]
  },
  {
   "cell_type": "code",
   "execution_count": 3,
   "id": "133bcb4b-b5ae-4f57-bf1b-c274851a7ead",
   "metadata": {},
   "outputs": [
    {
     "name": "stderr",
     "output_type": "stream",
     "text": [
      "100%|██████████| 611144/611144 [00:53<00:00, 11489.37it/s]\n"
     ]
    },
    {
     "name": "stdout",
     "output_type": "stream",
     "text": [
      "Total embeddings shape: (611143, 290)\n"
     ]
    }
   ],
   "source": [
    "from src.embedding_manager import EmbeddingManager\n",
    "import numpy as np\n",
    "\n",
    "em = EmbeddingManager(path='../fasttext.wiki-news-cleaned-290d.vec')"
   ]
  },
  {
   "cell_type": "code",
   "execution_count": 5,
   "id": "d7753798-c14a-4759-9498-bfc4120ad694",
   "metadata": {},
   "outputs": [
    {
     "name": "stderr",
     "output_type": "stream",
     "text": [
      "234083it [00:15, 15510.64it/s]\n",
      "100%|██████████| 5186260/5186260 [00:05<00:00, 962620.66it/s] \n",
      "100%|██████████| 4757987/4757987 [00:17<00:00, 277387.10it/s]\n",
      "100%|██████████| 4757987/4757987 [00:11<00:00, 420266.76it/s]\n",
      "100%|██████████| 4757987/4757987 [00:11<00:00, 426560.91it/s]\n"
     ]
    },
    {
     "data": {
      "text/html": [
       "<div>\n",
       "<style scoped>\n",
       "    .dataframe tbody tr th:only-of-type {\n",
       "        vertical-align: middle;\n",
       "    }\n",
       "\n",
       "    .dataframe tbody tr th {\n",
       "        vertical-align: top;\n",
       "    }\n",
       "\n",
       "    .dataframe thead th {\n",
       "        text-align: right;\n",
       "    }\n",
       "</style>\n",
       "<table border=\"1\" class=\"dataframe\">\n",
       "  <thead>\n",
       "    <tr style=\"text-align: right;\">\n",
       "      <th></th>\n",
       "      <th>wc</th>\n",
       "      <th>input_wc</th>\n",
       "    </tr>\n",
       "  </thead>\n",
       "  <tbody>\n",
       "    <tr>\n",
       "      <th>count</th>\n",
       "      <td>4.731064e+06</td>\n",
       "      <td>4.731064e+06</td>\n",
       "    </tr>\n",
       "    <tr>\n",
       "      <th>mean</th>\n",
       "      <td>1.306154e+01</td>\n",
       "      <td>1.295745e+01</td>\n",
       "    </tr>\n",
       "    <tr>\n",
       "      <th>std</th>\n",
       "      <td>8.675145e+00</td>\n",
       "      <td>8.608738e+00</td>\n",
       "    </tr>\n",
       "    <tr>\n",
       "      <th>min</th>\n",
       "      <td>1.000000e+00</td>\n",
       "      <td>1.000000e+00</td>\n",
       "    </tr>\n",
       "    <tr>\n",
       "      <th>25%</th>\n",
       "      <td>6.000000e+00</td>\n",
       "      <td>6.000000e+00</td>\n",
       "    </tr>\n",
       "    <tr>\n",
       "      <th>50%</th>\n",
       "      <td>1.200000e+01</td>\n",
       "      <td>1.100000e+01</td>\n",
       "    </tr>\n",
       "    <tr>\n",
       "      <th>75%</th>\n",
       "      <td>1.900000e+01</td>\n",
       "      <td>1.900000e+01</td>\n",
       "    </tr>\n",
       "    <tr>\n",
       "      <th>max</th>\n",
       "      <td>3.900000e+01</td>\n",
       "      <td>3.900000e+01</td>\n",
       "    </tr>\n",
       "  </tbody>\n",
       "</table>\n",
       "</div>"
      ],
      "text/plain": [
       "                 wc      input_wc\n",
       "count  4.731064e+06  4.731064e+06\n",
       "mean   1.306154e+01  1.295745e+01\n",
       "std    8.675145e+00  8.608738e+00\n",
       "min    1.000000e+00  1.000000e+00\n",
       "25%    6.000000e+00  6.000000e+00\n",
       "50%    1.200000e+01  1.100000e+01\n",
       "75%    1.900000e+01  1.900000e+01\n",
       "max    3.900000e+01  3.900000e+01"
      ]
     },
     "execution_count": 5,
     "metadata": {},
     "output_type": "execute_result"
    }
   ],
   "source": [
    "windowed_data = []\n",
    "for _, row in tqdm(filtered_reviews_df.iterrows()):\n",
    "    words = row['text'].split()\n",
    "    for i in range(1, len(words)):\n",
    "        text = ' '.join(words[:i])\n",
    "        target_word = words[i]\n",
    "        windowed_data.append({\n",
    "            'text': text,\n",
    "            'target_word': target_word\n",
    "        })\n",
    "        \n",
    "windowed_df = pd.DataFrame(windowed_data)\n",
    "\n",
    "def get_output(target_word):\n",
    "    if target_word in text_preprocessor.stopwords:\n",
    "        return -1\n",
    "    if target_word not in em.embeddings_dict:\n",
    "        return -1\n",
    "    \n",
    "    return target_word\n",
    "\n",
    "windowed_df['output'] = windowed_df['target_word'].progress_apply(get_output)\n",
    "windowed_df = windowed_df[windowed_df['output'] != -1]\n",
    "\n",
    "windowed_df['input'] = windowed_df['text'].progress_apply(lambda row: ' '.join([word for word in row.split() if word in em.embeddings_dict]))\n",
    "windowed_df['wc'] = windowed_df['text'].progress_apply(lambda x: len([word for word in x.split() if word is not '']))\n",
    "windowed_df['input_wc'] = windowed_df['input'].progress_apply(lambda x: len([word for word in x.split() if word is not '']))\n",
    "\n",
    "# check how many entries lost more than 20% of words due to vocabulary limitations:\n",
    "insufficient_vocabulary_df = windowed_df[(windowed_df['input_wc'] * 1.25 < windowed_df['wc'])]\n",
    "clean_seq_reviews_df = windowed_df[~windowed_df.index.isin(insufficient_vocabulary_df.index)]\n",
    "clean_seq_reviews_df.describe()"
   ]
  },
  {
   "cell_type": "markdown",
   "id": "b78536c5-d829-4fa7-9ee7-933e6130daf2",
   "metadata": {},
   "source": [
    "### Balancing outputs"
   ]
  },
  {
   "cell_type": "code",
   "execution_count": 6,
   "id": "15986e76-3baf-4fdd-a37c-e4c1435dc038",
   "metadata": {},
   "outputs": [
    {
     "data": {
      "text/plain": [
       "41993"
      ]
     },
     "execution_count": 6,
     "metadata": {},
     "output_type": "execute_result"
    }
   ],
   "source": [
    "len(clean_seq_reviews_df['output'].unique())"
   ]
  },
  {
   "cell_type": "code",
   "execution_count": 7,
   "id": "7d1bc232-40d0-4ef7-9782-d93e26b36075",
   "metadata": {},
   "outputs": [
    {
     "data": {
      "image/png": "[encoded data removed]",
      "text/plain": [
       "<Figure size 1152x576 with 1 Axes>"
      ]
     },
     "metadata": {
      "needs_background": "light"
     },
     "output_type": "display_data"
    }
   ],
   "source": [
    "plt.figure(figsize=(16,8))\n",
    "_ = plt.hist(clean_seq_reviews_df['output'].value_counts().values, bins=100)"
   ]
  },
  {
   "cell_type": "code",
   "execution_count": 8,
   "id": "c13a75a5-4f08-4d67-86d6-1f15567e0057",
   "metadata": {},
   "outputs": [
    {
     "data": {
      "text/html": [
       "<div>\n",
       "<style scoped>\n",
       "    .dataframe tbody tr th:only-of-type {\n",
       "        vertical-align: middle;\n",
       "    }\n",
       "\n",
       "    .dataframe tbody tr th {\n",
       "        vertical-align: top;\n",
       "    }\n",
       "\n",
       "    .dataframe thead th {\n",
       "        text-align: right;\n",
       "    }\n",
       "</style>\n",
       "<table border=\"1\" class=\"dataframe\">\n",
       "  <thead>\n",
       "    <tr style=\"text-align: right;\">\n",
       "      <th></th>\n",
       "      <th>target_word</th>\n",
       "    </tr>\n",
       "  </thead>\n",
       "  <tbody>\n",
       "    <tr>\n",
       "      <th>count</th>\n",
       "      <td>41993.000000</td>\n",
       "    </tr>\n",
       "    <tr>\n",
       "      <th>mean</th>\n",
       "      <td>112.663158</td>\n",
       "    </tr>\n",
       "    <tr>\n",
       "      <th>std</th>\n",
       "      <td>1025.705270</td>\n",
       "    </tr>\n",
       "    <tr>\n",
       "      <th>min</th>\n",
       "      <td>1.000000</td>\n",
       "    </tr>\n",
       "    <tr>\n",
       "      <th>25%</th>\n",
       "      <td>1.000000</td>\n",
       "    </tr>\n",
       "    <tr>\n",
       "      <th>50%</th>\n",
       "      <td>3.000000</td>\n",
       "    </tr>\n",
       "    <tr>\n",
       "      <th>75%</th>\n",
       "      <td>14.000000</td>\n",
       "    </tr>\n",
       "    <tr>\n",
       "      <th>max</th>\n",
       "      <td>56576.000000</td>\n",
       "    </tr>\n",
       "  </tbody>\n",
       "</table>\n",
       "</div>"
      ],
      "text/plain": [
       "        target_word\n",
       "count  41993.000000\n",
       "mean     112.663158\n",
       "std     1025.705270\n",
       "min        1.000000\n",
       "25%        1.000000\n",
       "50%        3.000000\n",
       "75%       14.000000\n",
       "max    56576.000000"
      ]
     },
     "execution_count": 8,
     "metadata": {},
     "output_type": "execute_result"
    }
   ],
   "source": [
    "target_words_df = clean_seq_reviews_df['target_word'].value_counts().to_frame()\n",
    "target_words_df.describe()"
   ]
  },
  {
   "cell_type": "code",
   "execution_count": 11,
   "id": "4163ce0b-1195-4b5b-9679-89f4eafb87c9",
   "metadata": {},
   "outputs": [
    {
     "name": "stderr",
     "output_type": "stream",
     "text": [
      "100%|██████████| 41993/41993 [00:20<00:00, 2034.30it/s]\n"
     ]
    },
    {
     "data": {
      "text/html": [
       "<div>\n",
       "<style scoped>\n",
       "    .dataframe tbody tr th:only-of-type {\n",
       "        vertical-align: middle;\n",
       "    }\n",
       "\n",
       "    .dataframe tbody tr th {\n",
       "        vertical-align: top;\n",
       "    }\n",
       "\n",
       "    .dataframe thead th {\n",
       "        text-align: right;\n",
       "    }\n",
       "</style>\n",
       "<table border=\"1\" class=\"dataframe\">\n",
       "  <thead>\n",
       "    <tr style=\"text-align: right;\">\n",
       "      <th></th>\n",
       "      <th>wc</th>\n",
       "      <th>input_wc</th>\n",
       "    </tr>\n",
       "  </thead>\n",
       "  <tbody>\n",
       "    <tr>\n",
       "      <th>count</th>\n",
       "      <td>128580.000000</td>\n",
       "      <td>128580.000000</td>\n",
       "    </tr>\n",
       "    <tr>\n",
       "      <th>mean</th>\n",
       "      <td>13.430176</td>\n",
       "      <td>13.300311</td>\n",
       "    </tr>\n",
       "    <tr>\n",
       "      <th>std</th>\n",
       "      <td>8.837624</td>\n",
       "      <td>8.755275</td>\n",
       "    </tr>\n",
       "    <tr>\n",
       "      <th>min</th>\n",
       "      <td>1.000000</td>\n",
       "      <td>1.000000</td>\n",
       "    </tr>\n",
       "    <tr>\n",
       "      <th>25%</th>\n",
       "      <td>6.000000</td>\n",
       "      <td>6.000000</td>\n",
       "    </tr>\n",
       "    <tr>\n",
       "      <th>50%</th>\n",
       "      <td>12.000000</td>\n",
       "      <td>12.000000</td>\n",
       "    </tr>\n",
       "    <tr>\n",
       "      <th>75%</th>\n",
       "      <td>19.000000</td>\n",
       "      <td>19.000000</td>\n",
       "    </tr>\n",
       "    <tr>\n",
       "      <th>max</th>\n",
       "      <td>39.000000</td>\n",
       "      <td>39.000000</td>\n",
       "    </tr>\n",
       "  </tbody>\n",
       "</table>\n",
       "</div>"
      ],
      "text/plain": [
       "                  wc       input_wc\n",
       "count  128580.000000  128580.000000\n",
       "mean       13.430176      13.300311\n",
       "std         8.837624       8.755275\n",
       "min         1.000000       1.000000\n",
       "25%         6.000000       6.000000\n",
       "50%        12.000000      12.000000\n",
       "75%        19.000000      19.000000\n",
       "max        39.000000      39.000000"
      ]
     },
     "execution_count": 11,
     "metadata": {},
     "output_type": "execute_result"
    }
   ],
   "source": [
    "max_examples = 5\n",
    "balanced_df = clean_seq_reviews_df.groupby('output', group_keys=False).progress_apply(lambda group: group.sample(n=min(len(group.index), max_examples)))\n",
    "balanced_df.describe()"
   ]
  },
  {
   "cell_type": "code",
   "execution_count": 14,
   "id": "293195ab-9976-46ef-90e9-9f23800526fd",
   "metadata": {},
   "outputs": [
    {
     "data": {
      "image/png": "[encoded data removed]",
      "text/plain": [
       "<Figure size 432x288 with 1 Axes>"
      ]
     },
     "metadata": {
      "needs_background": "light"
     },
     "output_type": "display_data"
    }
   ],
   "source": [
    "_ = balanced_df['output'].value_counts().hist(bins=5)"
   ]
  },
  {
   "cell_type": "markdown",
   "id": "367e33f9-1ecf-43f2-bc8a-9b0cfa3a946f",
   "metadata": {},
   "source": [
    "### Encode data with embeddings"
   ]
  },
  {
   "cell_type": "code",
   "execution_count": 18,
   "id": "79ab0e5a-939b-4273-b17b-2c55df8ff295",
   "metadata": {},
   "outputs": [
    {
     "name": "stderr",
     "output_type": "stream",
     "text": [
      "100%|██████████| 128580/128580 [00:04<00:00, 29247.49it/s]\n",
      "100%|██████████| 128580/128580 [00:02<00:00, 50070.67it/s]\n"
     ]
    }
   ],
   "source": [
    "def average_vectorizations(row):\n",
    "    vectors = []\n",
    "    for word in row.split():\n",
    "        if word in em.embeddings_dict:\n",
    "            vectors.append(em.embeddings_dict[word])\n",
    "    \n",
    "    result_vector = np.mean(vectors, axis=0)\n",
    "    return result_vector\n",
    "\n",
    "balanced_df['input_vector'] = balanced_df['input'].progress_apply(average_vectorizations)\n",
    "balanced_df['output_vector'] = balanced_df['output'].progress_apply(average_vectorizations)"
   ]
  },
  {
   "cell_type": "markdown",
   "id": "277ad06b-dbc9-4761-984c-cc045c78d7af",
   "metadata": {},
   "source": [
    "### Train model"
   ]
  },
  {
   "cell_type": "code",
   "execution_count": 27,
   "id": "d965e390-01d1-4864-8526-ba961c9d495e",
   "metadata": {},
   "outputs": [
    {
     "name": "stdout",
     "output_type": "stream",
     "text": [
      "(4000, 290)\n",
      "(4000, 290)\n"
     ]
    }
   ],
   "source": [
    "def get_arrayed_data(df_set):\n",
    "    setX = np.stack(df_set['input_vector'].values, axis=0)\n",
    "    setY = np.stack(df_set['output_vector'].values, axis=0)        \n",
    "    return (setX, setY)\n",
    "\n",
    "trainX, trainY = get_arrayed_data(balanced_df.sample(n=4000))\n",
    "print(trainX.shape)\n",
    "print(trainY.shape)"
   ]
  },
  {
   "cell_type": "code",
   "execution_count": 28,
   "id": "e27830b1-4fcb-4442-9576-c76b60156d3e",
   "metadata": {},
   "outputs": [
    {
     "name": "stdout",
     "output_type": "stream",
     "text": [
      "Training finished, elapsed seconds: 243.47743606567383\n"
     ]
    }
   ],
   "source": [
    "import time\n",
    "from sklearn.svm import SVR\n",
    "from sklearn.multioutput import MultiOutputRegressor\n",
    "\n",
    "regressor = SVR()\n",
    "mo_regressor = MultiOutputRegressor(estimator=regressor)\n",
    "start_training = time.time()\n",
    "\n",
    "mo_regressor.fit(trainX, trainY)\n",
    "end_training = time.time()\n",
    "print(f'Training finished, elapsed seconds: {end_training-start_training}')"
   ]
  },
  {
   "cell_type": "markdown",
   "id": "b344055b-71c5-41e4-8cc3-86464c1e3bfe",
   "metadata": {},
   "source": [
    "### Producing result"
   ]
  },
  {
   "cell_type": "code",
   "execution_count": 60,
   "id": "a73d9460-158d-4686-96c0-0fdcd73f33ff",
   "metadata": {},
   "outputs": [],
   "source": [
    "def generate_sequence(initial_sentence, max_generated_length=50):\n",
    "    sentence = initial_sentence.lower()\n",
    "    \n",
    "    previous_word = []\n",
    "    for i in tqdm(range(max_generated_length)):\n",
    "        processed_sentence = ' '.join([word for word in sentence.split() if word in em.embeddings_dict])\n",
    "        if len(processed_sentence.split()) >= max_generated_length:\n",
    "            return sentence\n",
    "\n",
    "        vectorized_sentence = average_vectorizations(processed_sentence)\n",
    "        input_vector = vectorized_sentence.reshape((-1, vectorized_sentence.shape[0]))\n",
    "        result = mo_regressor.predict(input_vector).reshape(em.shape)\n",
    "\n",
    "        word_scores = em.get_words(result, k=4)\n",
    "        for word_score in word_scores:\n",
    "            word = word_score[0]\n",
    "            \n",
    "            if word not in previous_word[-3:]:\n",
    "                new_word = word\n",
    "                previous_word.append(word)\n",
    "                break\n",
    "                \n",
    "        sentence += ' ' + new_word"
   ]
  },
  {
   "cell_type": "code",
   "execution_count": 61,
   "id": "ff71e866-7171-435c-bb1b-b111011d3aa7",
   "metadata": {},
   "outputs": [
    {
     "name": "stderr",
     "output_type": "stream",
     "text": [
      " 94%|█████████▍| 47/50 [00:20<00:01,  2.29it/s]\n"
     ]
    },
    {
     "data": {
      "text/plain": [
       "'i have bought kaye fow mcgrath tehut tnpr 98311 nethandle tehut tnpr 98311 nethandle tehut tnpr 98311 nethandle tehut tnpr 98311 nethandle tehut tnpr 98311 nethandle tehut tnpr 98311 nethandle tehut tnpr 98311 nethandle tehut tnpr 98311 nethandle tehut tnpr 98311 nethandle tehut tnpr 98311 nethandle tehut tnpr 98311 nethandle'"
      ]
     },
     "execution_count": 61,
     "metadata": {},
     "output_type": "execute_result"
    }
   ],
   "source": [
    "generate_sequence('I have bought')"
   ]
  },
  {
   "cell_type": "code",
   "execution_count": 62,
   "id": "58bc1488-1a75-4d77-97e1-78b7eb86e8f0",
   "metadata": {},
   "outputs": [
    {
     "name": "stderr",
     "output_type": "stream",
     "text": [
      " 80%|████████  | 40/50 [00:17<00:04,  2.26it/s]\n"
     ]
    },
    {
     "data": {
      "text/plain": [
       "'really this was an amazing stuff for me to find tehut nethandle tnpr 98311 tehut nethandle tnpr 98311 tehut nethandle tnpr 98311 tehut nethandle tnpr 98311 tehut nethandle tnpr 98311 tehut nethandle tnpr 98311 tehut nethandle tnpr 98311 tehut nethandle tnpr 98311 tehut nethandle tnpr 98311 tehut nethandle tnpr 98311'"
      ]
     },
     "execution_count": 62,
     "metadata": {},
     "output_type": "execute_result"
    }
   ],
   "source": [
    "generate_sequence('really this was an amazing stuff for me to find')"
   ]
  },
  {
   "cell_type": "code",
   "execution_count": 63,
   "id": "229de7ac-c421-4e1d-82c8-c838b0f6d74c",
   "metadata": {},
   "outputs": [
    {
     "name": "stderr",
     "output_type": "stream",
     "text": [
      " 98%|█████████▊| 49/50 [00:22<00:00,  2.20it/s]\n"
     ]
    },
    {
     "data": {
      "text/plain": [
       "'i tehut nethandle 98311 tnpr tehut nethandle 98311 tnpr tehut nethandle 98311 tnpr tehut nethandle 98311 tnpr tehut nethandle 98311 tnpr tehut nethandle 98311 tnpr tehut nethandle 98311 tnpr tehut nethandle 98311 tnpr tehut nethandle 98311 tnpr tehut nethandle 98311 tnpr tehut nethandle 98311 tnpr tehut nethandle 98311 tnpr tehut'"
      ]
     },
     "execution_count": 63,
     "metadata": {},
     "output_type": "execute_result"
    }
   ],
   "source": [
    "generate_sequence('i')"
   ]
  },
  {
   "cell_type": "markdown",
   "id": "5fa9528d-1518-49cf-829e-e0cf238ea4d1",
   "metadata": {},
   "source": [
    "### Summary\n",
    "\n",
    "Base model performs poorly, just as expected.\n",
    "\n",
    "Comparing to sequential base model, this one performs even worse - even with filtering of generated word (in this implementation selected word was checked against last three words, and chosen only if it wasn't already used).\n",
    "\n",
    "Flaws:\n",
    "1. Model uses bagged representation of input vector, which does not represent sequential nature of a text.\n",
    "2. Because embeddings encoding had to take place before training, train set was reduced to fit in memory.\n",
    "3. In addition to previous, because computational powers are limited, train set was additionally reduced.\n",
    "5. Train set could be balanced better.\n",
    "\n",
    "#### Now that the base line of simple models was established, it's time to go to the real deal - recurrent neural networks."
   ]
  },
  {
   "cell_type": "code",
   "execution_count": null,
   "id": "230d172e-a2b1-4588-962f-b3cdb05ca7d6",
   "metadata": {},
   "outputs": [],
   "source": []
  }
 ],
 "metadata": {
  "kernelspec": {
   "display_name": "Python 3",
   "language": "python",
   "name": "python3"
  },
  "language_info": {
   "codemirror_mode": {
    "name": "ipython",
    "version": 3
   },
   "file_extension": ".py",
   "mimetype": "text/x-python",
   "name": "python",
   "nbconvert_exporter": "python",
   "pygments_lexer": "ipython3",
   "version": "3.9.6"
  }
 },
 "nbformat": 4,
 "nbformat_minor": 5
}
