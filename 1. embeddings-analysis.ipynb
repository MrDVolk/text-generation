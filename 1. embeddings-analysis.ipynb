{
 "cells": [
  {
   "cell_type": "code",
   "execution_count": 1,
   "id": "56b39c7c-011c-4cc8-9ff4-480274a543e2",
   "metadata": {},
   "outputs": [],
   "source": [
    "import numpy as np\n",
    "from src.embedding_manager import EmbeddingManager"
   ]
  },
  {
   "cell_type": "code",
   "execution_count": 2,
   "id": "86f24561-057c-454d-a7a8-b417dce9f1a4",
   "metadata": {},
   "outputs": [
    {
     "name": "stderr",
     "output_type": "stream",
     "text": [
      "100%|██████████| 999995/999995 [01:24<00:00, 11830.13it/s]\n"
     ]
    },
    {
     "name": "stdout",
     "output_type": "stream",
     "text": [
      "Total embeddings shape: (629762, 300)\n"
     ]
    }
   ],
   "source": [
    "em = EmbeddingManager(path='../fasttext.wiki-news-300d-1M.vec')"
   ]
  },
  {
   "cell_type": "code",
   "execution_count": 3,
   "id": "f5253017-5901-4ba4-8108-9622377c6754",
   "metadata": {},
   "outputs": [
    {
     "name": "stdout",
     "output_type": "stream",
     "text": [
      "Estimator is being prepared...\n"
     ]
    },
    {
     "data": {
      "text/plain": [
       "[('authority', 1.0289617947526117),\n",
       " ('power', 1.1381789353724092),\n",
       " ('government', 1.1628852017446072),\n",
       " ('governmental', 1.1726115075890766),\n",
       " ('man', 1.1744869205508266),\n",
       " ('ruler', 1.2175793611453776),\n",
       " ('statesman', 1.21860621679381),\n",
       " ('woman', 1.2313762892635538),\n",
       " ('dominion', 1.2320704318769573),\n",
       " ('machinery', 1.2456221388303736)]"
      ]
     },
     "execution_count": 3,
     "metadata": {},
     "output_type": "execute_result"
    }
   ],
   "source": [
    "power = em.get_vector('power')\n",
    "authority = em.get_vector('authority')\n",
    "government = em.get_vector('government')\n",
    "man = em.get_vector('man')\n",
    "\n",
    "avg_vector = np.mean([power, authority, government, man], axis=0)\n",
    "em.get_words(avg_vector, 10)"
   ]
  },
  {
   "cell_type": "markdown",
   "id": "2b5afec3-c016-4cae-b33f-4e36be9b07ee",
   "metadata": {},
   "source": [
    "Good enough. Embeddings do not show that kind of insight as they show in typical embeddings tutorial, but it is as expected.\n",
    "\n",
    "There is an option to reduce dimensionality either by taking other embeddings or through PCA, and this might get a little more robust results."
   ]
  },
  {
   "cell_type": "markdown",
   "id": "5cef98e1-29f1-4394-a29a-90e31fc73084",
   "metadata": {},
   "source": [
    "# Simple analysis"
   ]
  },
  {
   "cell_type": "code",
   "execution_count": 4,
   "id": "9be28112-7f53-4ca3-89c8-a9a901b9c91e",
   "metadata": {},
   "outputs": [],
   "source": [
    "import matplotlib.pyplot as plt\n",
    "%matplotlib inline"
   ]
  },
  {
   "cell_type": "code",
   "execution_count": 5,
   "id": "4c73cfca-52ff-4b64-a5f3-b6c003a19da8",
   "metadata": {},
   "outputs": [],
   "source": [
    "def plot_distribution(array, title, plot=True):\n",
    "    print(title.capitalize())\n",
    "    print()\n",
    "    print(f'Mean {title}: {np.mean(array)}')\n",
    "    print(f'Median {title}: {np.median(array)}')\n",
    "    print(f'Max {title}: {np.max(array)}')\n",
    "    print(f'Min {title}: {np.min(array)}')\n",
    "    \n",
    "    if plot:\n",
    "        _ = plt.hist(array, bins=100)\n",
    "        plt.show()\n",
    "        print()\n",
    "    print()"
   ]
  },
  {
   "cell_type": "code",
   "execution_count": 6,
   "id": "ffa6db4d-ea35-4642-b75c-b0ba74baf692",
   "metadata": {},
   "outputs": [],
   "source": [
    "def print_simple_analysis(vectors, plot=True):\n",
    "    print('mean:', np.mean(vectors))\n",
    "    print('median:', np.median(vectors))\n",
    "    print('max:', np.max(vectors))\n",
    "    print('min:', np.min(vectors))\n",
    "\n",
    "    mean_values = np.mean(vectors, axis=1)\n",
    "    median_values = np.median(vectors, axis=1)\n",
    "    max_values = np.max(vectors, axis=1)\n",
    "    min_values = np.min(vectors, axis=1)\n",
    "    \n",
    "    plot_distribution(mean_values, 'mean values across entries', plot)\n",
    "    plot_distribution(median_values, 'median values across entries', plot)\n",
    "    plot_distribution(max_values, 'max values across entries', plot)\n",
    "    plot_distribution(min_values, 'min values across entries', plot)\n",
    "    \n",
    "    mean_values_per_dim = np.mean(vectors, axis=0)\n",
    "    median_values_per_dim = np.median(vectors, axis=0)\n",
    "    max_values_per_dim = np.max(vectors, axis=0)\n",
    "    min_values_per_dim = np.min(vectors, axis=0)\n",
    "    \n",
    "    plot_distribution(mean_values_per_dim, 'mean values across dimensions', plot)\n",
    "    plot_distribution(median_values_per_dim, 'median values across dimensions', plot)\n",
    "    plot_distribution(max_values_per_dim, 'max values across dimensions', plot)\n",
    "    plot_distribution(min_values_per_dim, 'min values across dimensions', plot)"
   ]
  },
  {
   "cell_type": "code",
   "execution_count": 7,
   "id": "c6c21391-ca5f-4229-bc85-099d60934437",
   "metadata": {},
   "outputs": [
    {
     "name": "stdout",
     "output_type": "stream",
     "text": [
      "mean: -0.0031533798\n",
      "median: 1e-04\n",
      "max: 7.4302\n",
      "min: -57.307\n",
      "Mean values across entries\n",
      "\n",
      "Mean mean values across entries: -0.003153381636366248\n",
      "Median mean values across entries: -0.003001083619892597\n",
      "Max mean values across entries: 0.02512366697192192\n",
      "Min mean values across entries: -0.22580499947071075\n"
     ]
    },
    {
     "data": {
      "image/png": "[encoded data removed]",
      "text/plain": [
       "<Figure size 432x288 with 1 Axes>"
      ]
     },
     "metadata": {
      "needs_background": "light"
     },
     "output_type": "display_data"
    },
    {
     "name": "stdout",
     "output_type": "stream",
     "text": [
      "\n",
      "\n",
      "Median values across entries\n",
      "\n",
      "Mean median values across entries: 8.126781722239684e-06\n",
      "Median median values across entries: 0.00010000000474974513\n",
      "Max median values across entries: 0.04960000142455101\n",
      "Min median values across entries: -0.060999996960163116\n"
     ]
    },
    {
     "data": {
      "image/png": "[encoded data removed]",
      "text/plain": [
       "<Figure size 432x288 with 1 Axes>"
      ]
     },
     "metadata": {
      "needs_background": "light"
     },
     "output_type": "display_data"
    },
    {
     "name": "stdout",
     "output_type": "stream",
     "text": [
      "\n",
      "\n",
      "Max values across entries\n",
      "\n",
      "Mean max values across entries: 0.30751845240592957\n",
      "Median max values across entries: 0.2913999855518341\n",
      "Max max values across entries: 7.430200099945068\n",
      "Min max values across entries: 0.05389999970793724\n"
     ]
    },
    {
     "data": {
      "image/png": "[encoded data removed]",
      "text/plain": [
       "<Figure size 432x288 with 1 Axes>"
      ]
     },
     "metadata": {
      "needs_background": "light"
     },
     "output_type": "display_data"
    },
    {
     "name": "stdout",
     "output_type": "stream",
     "text": [
      "\n",
      "\n",
      "Min values across entries\n",
      "\n",
      "Mean min values across entries: -0.8396312594413757\n",
      "Median min values across entries: -0.8338000178337097\n",
      "Max min values across entries: -0.4749000072479248\n",
      "Min min values across entries: -57.30699920654297\n"
     ]
    },
    {
     "data": {
      "image/png": "[encoded data removed]",
      "text/plain": [
       "<Figure size 432x288 with 1 Axes>"
      ]
     },
     "metadata": {
      "needs_background": "light"
     },
     "output_type": "display_data"
    },
    {
     "name": "stdout",
     "output_type": "stream",
     "text": [
      "\n",
      "\n",
      "Mean values across dimensions\n",
      "\n",
      "Mean mean values across dimensions: -0.003153401892632246\n",
      "Median mean values across dimensions: 0.0006508835358545184\n",
      "Max mean values across dimensions: 0.07590746134519577\n",
      "Min mean values across dimensions: -0.8359929919242859\n"
     ]
    },
    {
     "data": {
      "image/png": "[encoded data removed]",
      "text/plain": [
       "<Figure size 432x288 with 1 Axes>"
      ]
     },
     "metadata": {
      "needs_background": "light"
     },
     "output_type": "display_data"
    },
    {
     "name": "stdout",
     "output_type": "stream",
     "text": [
      "\n",
      "\n",
      "Median values across dimensions\n",
      "\n",
      "Mean median values across dimensions: -0.0033461253624409437\n",
      "Median median values across dimensions: 0.0005999999702908099\n",
      "Max median values across dimensions: 0.06719999760389328\n",
      "Min median values across dimensions: -0.8335000276565552\n"
     ]
    },
    {
     "data": {
      "image/png": "[encoded data removed]",
      "text/plain": [
       "<Figure size 432x288 with 1 Axes>"
      ]
     },
     "metadata": {
      "needs_background": "light"
     },
     "output_type": "display_data"
    },
    {
     "name": "stdout",
     "output_type": "stream",
     "text": [
      "\n",
      "\n",
      "Max values across dimensions\n",
      "\n",
      "Mean max values across dimensions: 1.0163142681121826\n",
      "Median max values across dimensions: 0.8324500322341919\n",
      "Max max values across dimensions: 7.430200099945068\n",
      "Min max values across dimensions: -0.1266999989748001\n"
     ]
    },
    {
     "data": {
      "image/png": "[encoded data removed]",
      "text/plain": [
       "<Figure size 432x288 with 1 Axes>"
      ]
     },
     "metadata": {
      "needs_background": "light"
     },
     "output_type": "display_data"
    },
    {
     "name": "stdout",
     "output_type": "stream",
     "text": [
      "\n",
      "\n",
      "Min values across dimensions\n",
      "\n",
      "Mean min values across dimensions: -1.2787516117095947\n",
      "Median min values across dimensions: -0.7749999761581421\n",
      "Max min values across dimensions: -0.5239999890327454\n",
      "Min min values across dimensions: -57.30699920654297\n"
     ]
    },
    {
     "data": {
      "image/png": "[encoded data removed]",
      "text/plain": [
       "<Figure size 432x288 with 1 Axes>"
      ]
     },
     "metadata": {
      "needs_background": "light"
     },
     "output_type": "display_data"
    },
    {
     "name": "stdout",
     "output_type": "stream",
     "text": [
      "\n",
      "\n"
     ]
    }
   ],
   "source": [
    "print_simple_analysis(em.vectors)"
   ]
  },
  {
   "cell_type": "markdown",
   "id": "9db488dd-f7af-4f0b-b5a5-c040464e4d72",
   "metadata": {},
   "source": [
    "### Clearly there are outliers both in entries and dimensions.\n",
    "\n",
    "Next step is to find the exact amount and try to filter them out."
   ]
  },
  {
   "cell_type": "code",
   "execution_count": 8,
   "id": "fd8e26a1-1c9a-494e-b100-8ff770cc71f1",
   "metadata": {},
   "outputs": [],
   "source": [
    "def filter_values(array, limits, title):\n",
    "    filtered_out_idx =  (array < limits[0]) | (array > limits[1])\n",
    "    filtered_out = array[filtered_out_idx]\n",
    "    print(f'Filtered out by {title} in {limits}: {filtered_out.shape[0]}')\n",
    "    return filtered_out_idx"
   ]
  },
  {
   "cell_type": "code",
   "execution_count": 15,
   "id": "ed6607ae-9649-410a-9c5f-81644aec80a5",
   "metadata": {},
   "outputs": [
    {
     "name": "stdout",
     "output_type": "stream",
     "text": [
      "Filtered out by mean in (-0.03, 0.03): 118\n",
      "Filtered out by median in (-0.04, 0.04): 4\n",
      "Filtered out by max in (0, 1): 530\n",
      "Filtered out by min in (-1, 0): 18219\n",
      "Total filtered out entries count: 18619\n"
     ]
    }
   ],
   "source": [
    "# Per entry limits\n",
    "mean_limits = (-0.03, 0.03)\n",
    "median_limits = (-0.04, 0.04)\n",
    "max_limits = (0, 1)\n",
    "min_limits = (-1, 0)\n",
    "\n",
    "mean_values = np.mean(em.vectors, axis=1)\n",
    "median_values = np.median(em.vectors, axis=1)\n",
    "max_values = np.max(em.vectors, axis=1)\n",
    "min_values = np.min(em.vectors, axis=1)\n",
    "\n",
    "mean_filtered_out_idx = filter_values(mean_values, mean_limits, 'mean')\n",
    "median_filtered_out_idx = filter_values(median_values, median_limits, 'median')\n",
    "max_filtered_out_idx = filter_values(max_values, max_limits, 'max')\n",
    "min_filtered_out_idx = filter_values(min_values, min_limits, 'min')\n",
    "\n",
    "total_entry_filter_idx = mean_filtered_out_idx | median_filtered_out_idx | max_filtered_out_idx | min_filtered_out_idx\n",
    "print(f'Total filtered out entries count: {em.vectors[total_entry_filter_idx].shape[0]}')"
   ]
  },
  {
   "cell_type": "code",
   "execution_count": 16,
   "id": "751491fe-d8e9-49a9-8a67-b471a83ba901",
   "metadata": {},
   "outputs": [
    {
     "name": "stdout",
     "output_type": "stream",
     "text": [
      "Filtered out by mean per dimension in (-0.1, 0.1): 4\n",
      "Filtered out by median per dimension in (-0.1, 0.1): 3\n",
      "Filtered out by max per dimension in (0, 2): 17\n",
      "Filtered out by min per dimension in (-2, 0): 21\n",
      "Total filtered out dimensions count: 35\n"
     ]
    }
   ],
   "source": [
    "# Per dimension limits\n",
    "mean_dim_limits = (-0.1, 0.1)\n",
    "median_dim_limits = (-0.1, 0.1)\n",
    "max_dim_limits = (0, 2)\n",
    "min_dim_limits = (-2, 0)\n",
    "\n",
    "mean_values_per_dim = np.mean(em.vectors, axis=0)\n",
    "median_values_per_dim = np.median(em.vectors, axis=0)\n",
    "max_values_per_dim = np.max(em.vectors, axis=0)\n",
    "min_values_per_dim = np.min(em.vectors, axis=0)\n",
    "\n",
    "mean_dim_filtered_out_idx = filter_values(mean_values_per_dim, mean_dim_limits, 'mean per dimension')\n",
    "median_dim_filtered_out_idx = filter_values(median_values_per_dim, median_dim_limits, 'median per dimension')\n",
    "max_dim_filtered_out_idx = filter_values(max_values_per_dim, max_dim_limits, 'max per dimension')\n",
    "min_dim_filtered_out_idx = filter_values(min_values_per_dim, min_dim_limits, 'min per dimension')\n",
    "\n",
    "total_dimension_filter_idx = mean_dim_filtered_out_idx | median_dim_filtered_out_idx | max_dim_filtered_out_idx | min_dim_filtered_out_idx\n",
    "print(f'Total filtered out dimensions count: {em.vectors[0][total_dimension_filter_idx].shape[0]}')"
   ]
  },
  {
   "cell_type": "markdown",
   "id": "076120f1-e9e1-4917-8953-82c0da5b084e",
   "metadata": {},
   "source": [
    "#### Intermediate summary\n",
    "Of course, losing 19k entries from 630k dictionary, which is ~3% of all entries is far less damaging than losing 35 dimensions from 300 dimensioned embedding, which is ~12% of all dimensions.\n",
    "\n",
    "The safest strategy is to filter out entries, check if the remaining words are enough to cover a generic text, and then repeat analysis of dimension outliers, and clean them if necessary."
   ]
  },
  {
   "cell_type": "markdown",
   "id": "745d5462-4f68-4ae2-9cdc-97acb8e41045",
   "metadata": {},
   "source": [
    "##### Load test texts"
   ]
  },
  {
   "cell_type": "code",
   "execution_count": 17,
   "id": "99e24713-15ef-4a84-9de9-32562584f3ae",
   "metadata": {},
   "outputs": [
    {
     "name": "stderr",
     "output_type": "stream",
     "text": [
      "100%|██████████| 393576/393576 [00:13<00:00, 29203.95it/s]\n",
      "100%|██████████| 393576/393576 [00:02<00:00, 181992.73it/s]\n"
     ]
    }
   ],
   "source": [
    "import pandas as pd\n",
    "from tqdm import tqdm\n",
    "from src.text_preprocessor import TextPreprocessor\n",
    "\n",
    "tqdm.pandas()\n",
    "\n",
    "reviews_df = pd.read_csv('../amazon-food-reviews.csv')\n",
    "reviews_df.columns = [col_name.lower() for col_name in reviews_df.columns]\n",
    "reviews_df = reviews_df[['text', 'summary']]\n",
    "reviews_df = reviews_df.drop_duplicates(subset=['text'])\n",
    "reviews_df = reviews_df.dropna()\n",
    "\n",
    "text_preprocessor = TextPreprocessor(gentle=True)\n",
    "reviews_df['text'] = reviews_df['text'].progress_apply(text_preprocessor.process)\n",
    "reviews_df['summary'] = reviews_df['summary'].progress_apply(text_preprocessor.process)\n",
    "\n",
    "text_corpus = ' '.join(reviews_df['text'].to_list() + reviews_df['summary'].to_list())"
   ]
  },
  {
   "cell_type": "code",
   "execution_count": 18,
   "id": "119c0e11-f7b2-41f9-86e6-543ca88848c0",
   "metadata": {},
   "outputs": [
    {
     "name": "stderr",
     "output_type": "stream",
     "text": [
      "100%|██████████| 33832951/33832951 [00:20<00:00, 1642741.26it/s]\n"
     ]
    }
   ],
   "source": [
    "from collections import Counter\n",
    "\n",
    "word_counter = Counter()\n",
    "for word in tqdm(text_corpus.split()):\n",
    "    word_counter[word] += 1"
   ]
  },
  {
   "cell_type": "code",
   "execution_count": 19,
   "id": "55d4e774-58fb-4086-86a5-75fb22d48a7f",
   "metadata": {},
   "outputs": [],
   "source": [
    "def get_missing_words(words):\n",
    "    missing_words = []\n",
    "    words_set = set(words)\n",
    "    for word in tqdm(word_counter):\n",
    "        if word not in words_set:\n",
    "            row = {'word': word, 'count': word_counter[word]}\n",
    "            missing_words.append(row)\n",
    "            \n",
    "    df = pd.DataFrame(missing_words)\n",
    "    df = df.sort_values(by=['count'], ascending=False)\n",
    "    df.reset_index(inplace=True, drop=True)\n",
    "    return df"
   ]
  },
  {
   "cell_type": "code",
   "execution_count": 20,
   "id": "0d3bc8c8-bbda-427b-a8d5-998c52e4421c",
   "metadata": {},
   "outputs": [
    {
     "name": "stderr",
     "output_type": "stream",
     "text": [
      "100%|██████████| 116845/116845 [00:00<00:00, 560251.60it/s]\n"
     ]
    },
    {
     "name": "stdout",
     "output_type": "stream",
     "text": [
      "              count\n",
      "count  44756.000000\n",
      "mean       2.652538\n",
      "std       12.421650\n",
      "min        1.000000\n",
      "25%        1.000000\n",
      "50%        1.000000\n",
      "75%        2.000000\n",
      "max      971.000000\n",
      "['nutiva', 'kcups', 'eacute', 'issimo', 'nylabone', 'kcup', 'orijen', 'influenster', 'tinkyada', 'weruva', 'rawhides', 'sunbutter', 'yuban', 'aerogarden', 'appletini', 'orgain', 'teeccino', 'dreamfields', 'dogswell', 'larabar', 'larabars', 'nylabones', 'puroast', 'glutino', 'brezza', 'nectresse', 'krusteaz', 'egrave', 'avoderm', 'golean', 'kuerig', 'cytomax', 'beaba', 'yummm', 'decafs', 'souchong', 'ntilde', 'luzianne', 'zukes', 'puerh', 'snackwell', 'totw', 'vitacoco', 'sojos', 'gopicnic', 'chebe', 'yummmm', 'megafudge', 'ramyun', 'autoship', 'voxbox', 'stevita', 'happybaby', 'thinkthin', 'dalfour', 'flossies', 'volumizing', 'hazlenut', 'hextra', 'jerkey', 'compleats', 'ekobrew', 'eboost', 'vinturi', 'gentlease', 'honeybush', 'jalape', 'yummyearth', 'proteinate', 'decaffinated', 'cafix', 'babycook', 'genmaicha', 'emergen', 'peanutty', 'vitacost', 'bionaturae', 'oatmeals', 'flavacol', 'swheat', 'coconutty', 'zhena', 'lansinoh', 'yummmmm', 'decafe', 'metromint', 'cbtl', 'solofill', 'listmania', 'yummo', 'nutricity', 'chocofudge', 'pamelas', 'genmai', 'dentastix', 'domatcha', 'ziwipeak', 'jalepeno', 'acana', 'artisana', 'coffeemate', 'honees', 'chantea', 'americolor', 'tasts', 'chewey', 'zipfizz', 'purevia', 'chewies', 'bellys', 'havahart', 'oskri', 'nutramigen', 'revv', 'aerogrow', 'cerelac', 'sweetz', 'fondarific', 'delcious', 'yucateco', 'niederegger', 'fizzies', 'delicioso', 'joyva', 'nummy', 'dragonwell', 'wheatena', 'cinnamony', 'flavorable', 'brisling', 'orgran', 'aromat', 'aftertastes', 'tourangelle', 'flavorfull', 'walkerswood', 'igourmet', 'popcorners', 'wedderspoon', 'serendipitea', 'habenero', 'mocafe', 'babyfood', 'nugo', 'yummmy', 'lorann', 'yummier', 'pomegranite', 'disposakups', 'xylichew', 'supersaver', 'unfrosted', 'marketspice', 'emerils', 'micklegal', 'flaver', 'caffinated', 'tarrazu', 'riceselect', 'matchas', 'funbites', 'tullys', 'bariani', 'antioxidents', 'qualita', 'moctails', 'uuml', 'bisquits', 'sunmaid', 'yirgacheffe', 'chummies', 'yogourmet', 'chipolte', 'netrition', 'envirokidz', 'delallo', 'perfumey', 'soynut', 'kurig', 'texmati', 'fruitables', 'sharkbanana', 'ceral', 'kronung', 'carbers', 'doubleshot', 'timothys', 'gingersnap', 'rooibus', 'genisoy', 'tbls', 'nunaturals', 'xlear', 'waggin', 'oolongs', 'bergamont', 'snapea', 'xylosweet', 'deboles', 'gummie', 'zsweet', 'aacute', 'purrfectly', 'fudgey', 'malitol', 'glutten', 'jerkys', 'jerkies', 'mercken', 'chocalate', 'mestemacher', 'dreamfield', 'iherb', 'gormet', 'fussie', 'sucanat', 'rodelle', 'biobag', 'mallomar', 'bombilla', 'nutrium', 'crunchmaster', 'oacute', 'westbrae', 'glutenfreeda', 'snickerdoodles', 'seitenbacher', 'sesmark', 'experation', 'soulistic', 'happybellies', 'nustevia', 'xantham', 'keuring', 'sportea', 'milkbone', 'booda', 'officepro', 'xyloburst', 'biobags', 'gnawhide', 'keurigs', 'peanuty', 'orgeat', 'hempseeds', 'proplan', 'hulless', 'spenda', 'dassant', 'moctail', 'meyenberg', 'spicyness', 'kukicha', 'shippment', 'yummers', 'sugarworks', 'monocalcium', 'disposakup', 'unedible', 'tzus', 'refrig', 'cerial', 'perfumy', 'acidy', 'balsamico', 'raisens', 'teasan', 'comvita', 'scoopable', 'chickory', 'pernigotti', 'yacon', 'linketts', 'fettucini', 'dogfoodadvisor', 'alergies', 'roastaroma', 'ostrim', 'doxies', 'tastewise', 'lipil', 'foojoy', 'leepers', 'carbing', 'purebites', 'barlean', 'pomegrante', 'kitamu', 'eleuthero', 'cakesters', 'cruncy', 'lggh', 'vanillas', 'petrodex', 'pataks', 'dutched', 'rasins', 'stevias', 'ziggies', 'snackmasters']\n"
     ]
    }
   ],
   "source": [
    "missing_words = get_missing_words(em.words)\n",
    "print(missing_words.describe())\n",
    "print(missing_words['word'].to_list()[:300])"
   ]
  },
  {
   "cell_type": "markdown",
   "id": "0d81ebe1-b09d-439a-96ce-0330da812527",
   "metadata": {},
   "source": [
    "#### In current, unfiltered state, text corpus contains 44756 unrepresented in embedding dictionary words.\n",
    "Most of those words are names and trademarks, some typos and colloquial words.\n",
    "\n",
    "##### Check on filtered embeddings"
   ]
  },
  {
   "cell_type": "code",
   "execution_count": 21,
   "id": "0c1434f4-101c-4350-b838-e54fa10372a4",
   "metadata": {},
   "outputs": [
    {
     "data": {
      "text/plain": [
       "611143"
      ]
     },
     "execution_count": 21,
     "metadata": {},
     "output_type": "execute_result"
    }
   ],
   "source": [
    "filtered_words = em.words[~total_entry_filter_idx]\n",
    "filtered_words.shape[0]"
   ]
  },
  {
   "cell_type": "code",
   "execution_count": 22,
   "id": "ce69d6b8-ad2e-4836-b18a-701a59b8e3b5",
   "metadata": {},
   "outputs": [
    {
     "name": "stderr",
     "output_type": "stream",
     "text": [
      "100%|██████████| 116845/116845 [00:00<00:00, 526291.80it/s]\n"
     ]
    },
    {
     "name": "stdout",
     "output_type": "stream",
     "text": [
      "             count\n",
      "count  45636.00000\n",
      "mean       3.55351\n",
      "std       44.19676\n",
      "min        1.00000\n",
      "25%        1.00000\n",
      "50%        1.00000\n",
      "75%        2.00000\n",
      "max     5000.00000\n",
      "['licorice', 'healthier', 'allergic', 'fructose', 'disgusting', 'digestive', 'celiac', 'dietary', 'resealable', 'omg', 'hydrogenated', 'nutiva', 'tastier', 'glycemic', 'lazy', 'kcups', 'healthiest', 'eacute', 'related', 'refrigerate', 'medicinal', 'rinsed', 'issimo', 'nylabone', 'kcup', 'orijen', 'unnecessary', 'recomend', 'influenster', 'nutrient', 'pickled', 'tinkyada', 'deliciousness', 'urinary', 'weruva', 'rawhides', 'creamier', 'sunbutter', 'yuban', 'pureed', 'aerogarden', 'appletini', 'orgain', 'teeccino', 'rica', 'dreamfields', 'dogswell', 'larabar', 'ascorbic', 'opinions', 'larabars', 'fails', 'nylabones', 'benecol', 'gastric', 'puroast', 'sinus', 'glutino', 'marinate', 'folic', 'brezza', 'nectresse', 'krusteaz', 'egrave', 'avoderm', 'golean', 'kuerig', 'cytomax', 'unappetizing', 'beaba', 'yummm', 'kisses', 'overcook', 'thyroid', 'decafs', 'souchong', 'ntilde', 'luzianne', 'zukes', 'puerh', 'snackwell', 'hansen', 'vitacoco', 'totw', 'sojos', 'gopicnic', 'chebe', 'washes', 'yummmm', 'renal', 'megafudge', 'ramyun', 'thiamine', 'voxbox', 'autoship', 'happybaby', 'stevita', 'thinkthin', 'dalfour', 'flossies', 'volumizing', 'hazlenut', 'hextra', 'jerkey', 'gastrointestinal', 'compleats', 'monounsaturated', 'ekobrew', 'eboost', 'vinturi', 'gentlease', 'honeybush', 'discolored', 'jalape', 'proteinate', 'yummyearth', 'skimp', 'decaffinated', 'cafix', 'babycook', 'genmaicha', 'emergen', 'peanutty', 'vitacost', 'bionaturae', 'oatmeals', 'flavacol', 'swheat', 'coconutty', 'zhena', 'yummmmm', 'lansinoh', 'decafe', 'metromint', 'solofill', 'listmania', 'cbtl', 'yummo', 'chocofudge', 'nutricity', 'moisturize', 'pamelas', 'haired', 'domatcha', 'dentastix', 'genmai', 'ziwipeak', 'acana', 'jalepeno', 'coffeemate', 'artisana', 'honees', 'chantea', 'americolor', 'enzymatic', 'tasts', 'chewey', 'purevia', 'zipfizz', 'moister', 'chewies', 'resembled', 'bellys', 'havahart', 'oskri', 'nutramigen', 'wagging', 'abdominal', 'odorless', 'revv', 'aerogrow', 'cerelac', 'respiratory', 'sweetz', 'fondarific', 'niederegger', 'yucateco', 'delcious', 'fizzies', 'joyva', 'delicioso', 'nummy', 'wheatena', 'dragonwell', 'brisling', 'flavorable', 'orgran', 'aromat', 'cinnamony', 'walkerswood', 'popcorners', 'flavorfull', 'aftertastes', 'tourangelle', 'igourmet', 'lactic', 'habenero', 'wedderspoon', 'serendipitea', 'mocafe', 'antibacterial', 'metabolic', 'babyfood', 'customize', 'nugo', 'lorann', 'yummmy', 'yummier', 'pomegranite', 'overeat', 'preheat', 'xylichew', 'disposakups', 'unfrosted', 'supersaver', 'enables', 'collard', 'marketspice', 'caffinated', 'micklegal', 'emerils', 'riceselect', 'flaver', 'tarrazu', 'juicer', 'unsaturated', 'matchas', 'funbites', 'tullys', 'uneaten', 'aback', 'uuml', 'sunmaid', 'bariani', 'menstrual', 'qualita', 'bisquits', 'antioxidents', 'moctails', 'yogourmet', 'chipolte', 'maximize', 'chummies', 'yirgacheffe', 'netrition', 'envirokidz', 'perfumey', 'delallo', 'vegetal', 'soynut', 'walgreen', 'texmati', 'kurig', 'sharkbanana', 'fruitables', 'ceral', 'doubleshot', 'carbers', 'kronung', 'valdosta', 'highlander', 'gingersnap', 'tbls', 'rooibus', 'florets', 'timothys', 'genisoy', 'ayurvedic', 'oolongs', 'bergamont', 'nunaturals', 'folate', 'howdy', 'waggin', 'xlear', 'zsweet', 'xylosweet', 'gummie', 'deboles', 'snapea', 'aacute', 'purrfectly', 'malitol', 'glutten', 'mercken', 'fudgey', 'jerkies', 'offense', 'jerkys', 'chocalate', 'dreamfield', 'rodelle', 'sucanat', 'gormet', 'mestemacher', 'iherb', 'fussie', 'biobag', 'mallomar', 'bombilla']\n"
     ]
    }
   ],
   "source": [
    "missing_words_filtered = get_missing_words(filtered_words)\n",
    "print(missing_words_filtered.describe())\n",
    "print(missing_words_filtered['word'].to_list()[:300])"
   ]
  },
  {
   "cell_type": "code",
   "execution_count": 23,
   "id": "1bcbd1c9-3d33-465d-9120-01338e98c7e1",
   "metadata": {
    "tags": []
   },
   "outputs": [
    {
     "name": "stdout",
     "output_type": "stream",
     "text": [
      "             count\n",
      "count   880.000000\n",
      "mean     49.376136\n",
      "std     302.345090\n",
      "min       1.000000\n",
      "25%       1.000000\n",
      "50%       2.000000\n",
      "75%       7.000000\n",
      "max    5000.000000\n",
      "['licorice', 'healthier', 'allergic', 'fructose', 'disgusting', 'digestive', 'celiac', 'dietary', 'resealable', 'omg', 'hydrogenated', 'tastier', 'glycemic', 'lazy', 'healthiest', 'related', 'refrigerate', 'medicinal', 'rinsed', 'unnecessary', 'recomend', 'nutrient', 'pickled', 'deliciousness', 'urinary', 'creamier', 'pureed', 'rica', 'ascorbic', 'opinions', 'fails', 'benecol', 'gastric', 'sinus', 'marinate', 'folic', 'unappetizing', 'kisses', 'overcook', 'thyroid', 'hansen', 'washes', 'renal', 'thiamine', 'gastrointestinal', 'monounsaturated', 'discolored', 'skimp', 'moisturize', 'haired', 'enzymatic', 'moister', 'resembled', 'wagging', 'abdominal', 'odorless', 'respiratory', 'lactic', 'antibacterial', 'metabolic', 'customize', 'overeat', 'preheat', 'enables', 'collard', 'juicer', 'unsaturated', 'uneaten', 'aback', 'menstrual', 'maximize', 'vegetal', 'walgreen', 'valdosta', 'highlander', 'florets', 'ayurvedic', 'folate', 'howdy', 'offense', 'steakhouse', 'iodate', 'acetic', 'wuyi', 'pickier', 'caked', 'hormonal', 'hearted', 'hortons', 'dehydrate', 'bariatric', 'gnawed', 'cutest', 'crohn', 'pylori', 'triangles', 'olfactory', 'overindulge', 'acre', 'endocrine', 'metabolize', 'oetker', 'mucous', 'autoimmune', 'dietetic', 'speckled', 'smokin', 'salivate', 'duff', 'yada', 'coronary', 'introduces', 'resend', 'adrenal', 'elderflower', 'szeged', 'funniest', 'antiviral', 'biodegrade', 'lidded', 'metabolized', 'hungrier', 'unscrewed', 'mcilhenny', 'antifungal', 'discusting', 'faintest', 'uterine', 'processors', 'myocardial', 'curdle', 'oxidative', 'infuses', 'tulsa', 'antimicrobial', 'unfermented', 'mowed', 'fattier', 'unhealthier', 'pancreatic', 'affords', 'anaphylactic', 'repack', 'detoxify', 'adenosine', 'exacerbate', 'heartbreaking', 'stiffen', 'rheumatoid', 'underestimate', 'foodservice', 'unseal', 'flavers', 'ulcerative', 'deetz', 'extractive', 'unreturnable', 'esophageal', 'overcharging', 'dopamine', 'negril', 'wishy', 'stomachaches', 'bioavailable', 'glycogen', 'hydroxide', 'plantarum', 'horlick', 'urinated', 'cheapen', 'precludes', 'naturopathic', 'lymph', 'strep', 'salivary', 'excreted', 'overheat', 'overstate', 'unhealthful', 'faddle', 'percolators', 'braved', 'thermogenic', 'physiological', 'lammy', 'chincoteague', 'paxo', 'spead', 'ehhhh', 'neurodegenerative', 'characterizes', 'systolic', 'hoody', 'nitric', 'homer', 'cornflour', 'ime', 'ionizing', 'ovarian', 'toxicological', 'psychosomatic', 'oreal', 'oxidizing', 'distended', 'popin', 'coincides', 'suposed', 'cerevisiae', 'precautionary', 'disinfect', 'estense', 'rectal', 'hallowe', 'puget', 'haccp', 'sprayers', 'auburn', 'everymorning', 'colloidal', 'lesion', 'syllable', 'defray', 'resinous', 'defecate', 'unsubscribe', 'cystic', 'compels', 'unhealthiest', 'lemmon', 'quiero', 'doens', 'periodontal', 'selenate', 'vaginal', 'awwww', 'pulmonary', 'yangtze', 'livable', 'relaxant', 'jly', 'wearhouse', 'warmest', 'cervical', 'congenital', 'hillshire', 'overmix', 'mmol', 'saranac', 'pericarp', 'hydrolysed', 'appetising', 'impressa', 'lightheaded', 'hemolytic', 'angustifolia', 'littel', 'compartmentalized', 'taubes', 'gephardt', 'pharmacological', 'epidemiological', 'overated', 'regrow', 'linear', 'anticancer', 'zetia', 'sedating', 'aosta', 'inconvenienced', 'pneumoniae', 'soldered', 'staunchest', 'ovenproof', 'pathogenic', 'belabor', 'fluffernutter', 'necessitates', 'brf', 'acidify', 'ungrateful', 'greenest', 'excrete', 'huntsville', 'comsumption', 'varicose', 'loamy', 'overreact', 'nonrefundable', 'nicotinic', 'algeria', 'pituitary', 'recca', 'injects', 'gravitational', 'producted', 'carrollton', 'hibernate', 'debited', 'microbiological', 'vertebral', 'refreeze', 'klum', 'hzh', 'refurbished', 'gritted', 'nonfood', 'blames', 'betray', 'cay', 'atopic', 'silty', 'protrude', 'corrode', 'heterocyclic', 'fermentable', 'hemicellulose', 'cocca', 'socorro', 'stevioside', 'eschews', 'delude', 'discoloured', 'priciest', 'irregardless', 'sublingual', 'cracovia', 'unhygienic', 'rivera', 'sabatino', 'bossa', 'mulched', 'imbues', 'chillier', 'yeilds', 'glenfarclas', 'hapa', 'underbite', 'uncolored', 'perspire', 'sprained', 'chafe', 'relaxants', 'goyt', 'endothelial', 'whaaat', 'overthink', 'tastycakes', 'destructible', 'squamous', 'tarbuck', 'phonographic', 'macular', 'overestimate', 'butane', 'cornfield', 'denature', 'begrudge', 'pocketful', 'noo', 'untreatable', 'pottenger', 'testicular', 'shepperd', 'childproof', 'orthodontic', 'unformed', 'psychoactive', 'unappetising', 'aprons', 'metrosexual', 'hex', 'quivered', 'sadden', 'glistened', 'eosinophilic', 'allready', 'luckiest', 'kahne', 'kenseth', 'correctional', 'pocono', 'chromatography', 'unlikable', 'discusses', 'assigning', 'lavage', 'flavoursome', 'revoir', 'suki', 'zocor', 'imitrex', 'mucilaginous', 'bloodflow', 'degreasing', 'microphylla', 'empathize', 'malinda', 'subfamily', 'sacral', 'gripper', 'hqb', 'moreish', 'rouses', 'appriciate', 'katt', 'refractive', 'nutraceutical', 'kailua', 'colorectal', 'honeyeater', 'lymphatic', 'outpatient', 'bursty', 'vegf', 'neuroendocrine', 'retinal', 'monoxide', 'boulud', 'combust', 'atrial', 'subatomic', 'prostatic', 'godchildren', 'uncharted', 'bgb', 'dioica', 'sanctimonious', 'nonchalance', 'inpatient', 'prejudge', 'diarrheal', 'chelating', 'sebaceous', 'understate', 'ditka', 'allso', 'foligno', 'snoqualmie', 'misbranded', 'prorated', 'zephyrhills', 'hendersonville', 'carpal', 'genital', 'thermonuclear', 'jni', 'coliform', 'odourless', 'panola', 'commoditized', 'alchemical', 'boxset', 'anabolic', 'catabolic', 'quinta', 'tenderest', 'lassen', 'amortize', 'laparoscopic', 'tensile', 'overstep', 'complicating', 'sobbed', 'foodborne', 'wassup', 'khloe', 'opioid', 'humidified', 'tetrahedral', 'pentobarbital', 'rehome', 'oulu', 'redox', 'unlikeable', 'corexit', 'jujubee', 'chafed', 'watership', 'erectile', 'oour', 'mahnomen', 'cabela', 'oqa', 'latakia', 'curricular', 'neuronal', 'strewed', 'bloodshot', 'ovulate', 'diphosphate', 'polycyclic', 'bocelli', 'coniferous', 'decontamination', 'ammy', 'relearn', 'sotomayor', 'anaerobic', 'bermudian', 'hairlike', 'zagat', 'dilating', 'fungicidal', 'officio', 'pavich', 'pasteurised', 'debase', 'lawrenceburg', 'supercritical', 'spiceworld', 'nonpolar', 'abraded', 'sheboygan', 'bigfork', 'preachy', 'cowardly', 'micrograms', 'dignify', 'gruber', 'polycystic', 'apportion', 'neurologic', 'devotes', 'botulinum', 'despenser', 'precancerous', 'tillandsia', 'hagerstown', 'vaccinate', 'pimpinella', 'kie', 'synovial', 'halakhic', 'neurochemical', 'pelvic', 'larcom', 'titillate', 'thereabout', 'cashback', 'preprinted', 'atsdr', 'overwinter', 'tokugawa', 'pelosi', 'elaich', 'wittmer', 'cytochrome', 'windless', 'dilaurentis', 'schefflera', 'cgp', 'basilio', 'comoro', 'feodorovich', 'micronutrient', 'nadph', 'elno', 'bubonic', 'lakeville', 'stonhouse', 'biohazardous', 'dilma', 'loneliest', 'egue', 'diametrically', 'yogic', 'undulate', 'mikawa', 'arvensis', 'beefheart', 'expectable', 'velous', 'bounciest', 'prefrontal', 'subjunctive', 'dushanbe', 'seyval', 'implores', 'zaloga', 'bfw', 'genotoxic', 'spanx', 'tellier', 'fennelly', 'mamaroneck', 'endear', 'axillary', 'girardeau', 'troppo', 'kingdon', 'zachte', 'immunosuppressed', 'cerebellar', 'smalling', 'bour', 'katahdin', 'orther', 'desensitize', 'gday', 'scrummage', 'chemotherapeutic', 'antivirus', 'endoscopic', 'osmotic', 'stephanopoulos', 'arrondissement', 'zanesville', 'sunbathe', 'provincetown', 'dielectric', 'quilon', 'nyack', 'shoplift', 'mucosal', 'overstepped', 'tayto', 'trendiest', 'onam', 'lumpectomy', 'metastatic', 'lumbar', 'parotid', 'tradeable', 'farinas', 'shortchange', 'furrowed', 'legolas', 'uyuni', 'perineal', 'imail', 'follette', 'pittsfield', 'dukkha', 'sarandon', 'rivalled', 'newtonian', 'kenobi', 'chehalis', 'computerize', 'klz', 'bekaa', 'biol', 'cerebrovascular', 'saltpack', 'refinance', 'chantix', 'temporomandibular', 'sheung', 'doubtfire', 'verbalize', 'siple', 'kolbasz', 'moderato', 'seasick', 'kumar', 'smom', 'alkalosis', 'happycamper', 'kingsolver', 'cfia', 'souchon', 'karenina', 'antihypertensive', 'diffraction', 'shying', 'conmigo', 'qhi', 'genesee', 'wimsey', 'uwharrie', 'greassy', 'hba', 'cucamonga', 'appealable', 'hepatic', 'scrummaging', 'nearshore', 'freeling', 'clumber', 'zoonotic', 'superp', 'baoshan', 'remey', 'stimulative', 'vandalize', 'biodiverse', 'caddyshack', 'schapps', 'berryz', 'cadge', 'lycees', 'odfw', 'cordoned', 'bradenton', 'warfighting', 'bumpier', 'hennepin', 'temari', 'urologic', 'bushier', 'gxg', 'zoological', 'scheckter', 'vicksburg', 'clamshells', 'pripyat', 'peston', 'pharmacol', 'physiol', 'immunol', 'apoptotic', 'neuritis', 'smirks', 'timesaving', 'polarize', 'icosahedral', 'soloveitchik', 'deductive', 'brockovich', 'maxillary', 'vso', 'smylie', 'sofla', 'firewire', 'uninstall', 'groveling', 'guinean', 'physiologic', 'watmore', 'scoggins', 'gasol', 'kittanning', 'beagel', 'thuringiensis', 'mayores', 'knw', 'dietetics', 'havertown', 'aristolochic', 'laogai', 'vilsack', 'spyware', 'ovechkin', 'titrated', 'sedaris', 'angiogenic', 'inertial', 'traumatize', 'hepatotoxic', 'nephrotoxic', 'baronets', 'sinise', 'polyphenolic', 'hallo', 'dahlonega', 'acidifying', 'mersin', 'vaccinating', 'snohomish', 'incentivize', 'trichloride', 'iuka', 'barnier', 'deprives', 'incirlik', 'kilis', 'walborn', 'endocrinological', 'dunhill', 'dispell', 'extrasolar', 'nuys', 'unmake', 'sincerest', 'foggiest', 'mondavi', 'bynes', 'gombe', 'belaboring', 'reemphasize', 'scariest', 'deridder', 'hartsell', 'saudis', 'misjudge', 'arthroscopic', 'proteolytic', 'tobu', 'oconee', 'antitrust', 'contagions', 'chemopreventive', 'androgen', 'rodale', 'rennard', 'moisturise', 'mohs', 'sitti', 'biocompatible', 'platense', 'horay', 'tendence', 'manoff', 'tishomingo', 'michio', 'shelbyville', 'disinfected', 'gopers', 'sunnier', 'snoodle', 'extenuating', 'kindliness', 'maluku', 'janszoon', 'conductivity', 'ionize', 'firstclass', 'ischemic', 'covalent', 'logarithmic', 'ascribes', 'dramatization', 'aybar', 'interoperable', 'marienplatz', 'frauenkirche', 'matanzas', 'birlik', 'whovian', 'sharpton', 'immunosuppressive', 'dhahran', 'blazoned', 'exhorts', 'besmirch', 'preterm', 'recessive', 'remoter', 'disabused', 'tshirt', 'glittered', 'smithville', 'femoral', 'ventricular', 'decertify', 'nonprescription', 'outpace', 'lightheadedness', 'glabrous', 'copay', 'ondcp', 'hornaday', 'exagerate', 'changeup', 'vandi', 'overemphasize', 'upd', 'pujols', 'sedimentary', 'hopkinsville', 'cotham', 'habitable', 'wenger', 'urethral', 'christmassy', 'spraining', 'onedge', 'tuberous', 'despencer', 'circleville', 'defoliated', 'bioactive', 'sparely', 'disabuse', 'huila', 'ngong', 'yakutsk', 'grider', 'endows', 'aerosolized']\n"
     ]
    }
   ],
   "source": [
    "difference_df = pd.concat([missing_words, missing_words_filtered]).drop_duplicates(keep=False)\n",
    "print(difference_df.describe())\n",
    "print(difference_df['word'].to_list()[:880])"
   ]
  },
  {
   "cell_type": "markdown",
   "id": "f69e9357-e6b3-491c-ade2-164941bad9d6",
   "metadata": {},
   "source": [
    "#### Now there is 880 more missing words\n",
    "Some of them looks important"
   ]
  },
  {
   "cell_type": "code",
   "execution_count": 24,
   "id": "768ed0ee-bb4b-4769-849d-d7db248da256",
   "metadata": {
    "tags": []
   },
   "outputs": [
    {
     "name": "stdout",
     "output_type": "stream",
     "text": [
      "mean: -0.003092394\n",
      "median: 1e-04\n",
      "max: 0.9996\n",
      "min: -1.0\n",
      "Mean values across entries\n",
      "\n",
      "Mean mean values across entries: -0.00309239374473691\n",
      "Median mean values across entries: -0.0029679997824132442\n",
      "Max mean values across entries: 0.02512366697192192\n",
      "Min mean values across entries: -0.02993199974298477\n"
     ]
    },
    {
     "data": {
      "image/png": "[encoded data removed]",
      "text/plain": [
       "<Figure size 432x288 with 1 Axes>"
      ]
     },
     "metadata": {
      "needs_background": "light"
     },
     "output_type": "display_data"
    },
    {
     "name": "stdout",
     "output_type": "stream",
     "text": [
      "\n",
      "\n",
      "Median values across entries\n",
      "\n",
      "Mean median values across entries: 3.3935357350856066e-05\n",
      "Median median values across entries: 0.000100000761449337\n",
      "Max median values across entries: 0.03564999997615814\n",
      "Min median values across entries: -0.03984999656677246\n"
     ]
    },
    {
     "data": {
      "image/png": "[encoded data removed]",
      "text/plain": [
       "<Figure size 432x288 with 1 Axes>"
      ]
     },
     "metadata": {
      "needs_background": "light"
     },
     "output_type": "display_data"
    },
    {
     "name": "stdout",
     "output_type": "stream",
     "text": [
      "\n",
      "\n",
      "Max values across entries\n",
      "\n",
      "Mean max values across entries: 0.3030838966369629\n",
      "Median max values across entries: 0.28839999437332153\n",
      "Max max values across entries: 0.9995999932289124\n",
      "Min max values across entries: 0.05389999970793724\n"
     ]
    },
    {
     "data": {
      "image/png": "[encoded data removed]",
      "text/plain": [
       "<Figure size 432x288 with 1 Axes>"
      ]
     },
     "metadata": {
      "needs_background": "light"
     },
     "output_type": "display_data"
    },
    {
     "name": "stdout",
     "output_type": "stream",
     "text": [
      "\n",
      "\n",
      "Min values across entries\n",
      "\n",
      "Mean min values across entries: -0.8300462961196899\n",
      "Median min values across entries: -0.8307999968528748\n",
      "Max min values across entries: -0.4749000072479248\n",
      "Min min values across entries: -1.0\n"
     ]
    },
    {
     "data": {
      "image/png": "[encoded data removed]",
      "text/plain": [
       "<Figure size 432x288 with 1 Axes>"
      ]
     },
     "metadata": {
      "needs_background": "light"
     },
     "output_type": "display_data"
    },
    {
     "name": "stdout",
     "output_type": "stream",
     "text": [
      "\n",
      "\n",
      "Mean values across dimensions\n",
      "\n",
      "Mean mean values across dimensions: -0.003092398401349783\n",
      "Median mean values across dimensions: 0.000656419899314642\n",
      "Max mean values across dimensions: 0.07522185891866684\n",
      "Min mean values across dimensions: -0.8299053311347961\n"
     ]
    },
    {
     "data": {
      "image/png": "[encoded data removed]",
      "text/plain": [
       "<Figure size 432x288 with 1 Axes>"
      ]
     },
     "metadata": {
      "needs_background": "light"
     },
     "output_type": "display_data"
    },
    {
     "name": "stdout",
     "output_type": "stream",
     "text": [
      "\n",
      "\n",
      "Median values across dimensions\n",
      "\n",
      "Mean median values across dimensions: -0.003318250412121415\n",
      "Median median values across dimensions: 0.0006000000284984708\n",
      "Max median values across dimensions: 0.06650000065565109\n",
      "Min median values across dimensions: -0.8306999802589417\n"
     ]
    },
    {
     "data": {
      "image/png": "[encoded data removed]",
      "text/plain": [
       "<Figure size 432x288 with 1 Axes>"
      ]
     },
     "metadata": {
      "needs_background": "light"
     },
     "output_type": "display_data"
    },
    {
     "name": "stdout",
     "output_type": "stream",
     "text": [
      "\n",
      "\n",
      "Max values across dimensions\n",
      "\n",
      "Mean max values across dimensions: 0.6061000823974609\n",
      "Median max values across dimensions: 0.5993499755859375\n",
      "Max max values across dimensions: 0.9995999932289124\n",
      "Min max values across dimensions: -0.4749000072479248\n"
     ]
    },
    {
     "data": {
      "image/png": "[encoded data removed]",
      "text/plain": [
       "<Figure size 432x288 with 1 Axes>"
      ]
     },
     "metadata": {
      "needs_background": "light"
     },
     "output_type": "display_data"
    },
    {
     "name": "stdout",
     "output_type": "stream",
     "text": [
      "\n",
      "\n",
      "Min values across dimensions\n",
      "\n",
      "Mean min values across dimensions: -0.6223863959312439\n",
      "Median min values across dimensions: -0.6089999675750732\n",
      "Max min values across dimensions: -0.4366999864578247\n",
      "Min min values across dimensions: -1.0\n"
     ]
    },
    {
     "data": {
      "image/png": "[encoded data removed]",
      "text/plain": [
       "<Figure size 432x288 with 1 Axes>"
      ]
     },
     "metadata": {
      "needs_background": "light"
     },
     "output_type": "display_data"
    },
    {
     "name": "stdout",
     "output_type": "stream",
     "text": [
      "\n",
      "\n"
     ]
    }
   ],
   "source": [
    "filtered_vectors = em.vectors[~total_entry_filter_idx]\n",
    "print_simple_analysis(filtered_vectors)"
   ]
  },
  {
   "cell_type": "markdown",
   "id": "8bd56cd4-f34d-43bf-8e2d-236d1ec2fadb",
   "metadata": {},
   "source": [
    "### Try find outliers \n",
    "\n",
    "Use IsolationForest to get rid from anomalies"
   ]
  },
  {
   "cell_type": "code",
   "execution_count": 25,
   "id": "808ea8f8-3f15-48e0-b64d-b34f64dde26b",
   "metadata": {},
   "outputs": [],
   "source": [
    "from sklearn.ensemble import IsolationForest"
   ]
  },
  {
   "cell_type": "code",
   "execution_count": 26,
   "id": "2fd9694f-60b5-4e09-a4ed-be1e536e8363",
   "metadata": {
    "tags": []
   },
   "outputs": [
    {
     "name": "stdout",
     "output_type": "stream",
     "text": [
      "Fitting...\n",
      "Predicting...\n",
      "Number of anomalies: 20519\n"
     ]
    }
   ],
   "source": [
    "isolation_forest = IsolationForest()\n",
    "print('Fitting...')\n",
    "isolation_forest.fit(em.vectors)\n",
    "\n",
    "print('Predicting...')\n",
    "outlier_mask = isolation_forest.predict(em.vectors)\n",
    "outlier_idx = outlier_mask == -1\n",
    "outlier_words = em.words[outlier_idx]\n",
    "\n",
    "print(f'Number of anomalies: {outlier_words.shape[0]}')"
   ]
  },
  {
   "cell_type": "code",
   "execution_count": 27,
   "id": "c9301038-8143-49a5-94a8-db5c90c00c11",
   "metadata": {
    "tags": []
   },
   "outputs": [
    {
     "name": "stderr",
     "output_type": "stream",
     "text": [
      "100%|██████████| 116845/116845 [00:00<00:00, 581312.27it/s]\n"
     ]
    },
    {
     "name": "stdout",
     "output_type": "stream",
     "text": [
      "              count\n",
      "count   3136.000000\n",
      "mean      34.269452\n",
      "std      503.434819\n",
      "min        1.000000\n",
      "25%        1.000000\n",
      "50%        2.000000\n",
      "75%        6.000000\n",
      "max    19631.000000\n",
      "['tasting', 'calories', 'calorie', 'yogurt', 'cracker', 'latte', 'herbal', 'diabetic', 'sprinkle', 'edible', 'purina', 'rinse', 'haribo', 'aspartame', 'dietary', 'mornings', 'eaters', 'tastier', 'teaspoons', 'aloe', 'simmer', 'soybean', 'nabisco', 'lindt', 'retriever', 'wafer', 'nespresso', 'coupons', 'tastebuds', 'environmentally', 'urinary', 'hormel', 'marmite', 'undrinkable', 'knorr', 'fermentation', 'vegetarians', 'niacin', 'moles', 'bunnies', 'vegans', 'detox', 'sniffed', 'spaniel', 'gastric', 'paleo', 'kimchi', 'googled', 'sachets', 'eczema', 'feedings', 'tvp', 'vase', 'massage', 'cabinets', 'tummies', 'charcoal', 'renal', 'facial', 'temps', 'fatigue', 'decorations', 'nipple', 'gastrointestinal', 'ldl', 'colorings', 'discolored', 'palates', 'wegman', 'menthol', 'leonidas', 'wabash', 'salmonella', 'sipped', 'savored', 'mastiff', 'euro', 'simmered', 'madhava', 'mesquite', 'hartz', 'tahitian', 'footprint', 'coarser', 'barrels', 'funnel', 'donating', 'milligrams', 'landfill', 'gustaf', 'performs', 'birthdays', 'rapunzel', 'commute', 'doughnut', 'odorless', 'unpleasantly', 'dunked', 'respiratory', 'socially', 'ferrero', 'werther', 'carnivore', 'consistantly', 'prostate', 'umami', 'shriveled', 'underweight', 'looses', 'thermometer', 'passover', 'drizzling', 'crunched', 'weaned', 'belts', 'pickup', 'absinthe', 'googling', 'mariani', 'unsatisfying', 'jemima', 'gnc', 'overeat', 'refilled', 'soya', 'calmed', 'grained', 'elusive', 'maldon', 'dukan', 'intolerances', 'winery', 'aback', 'uneaten', 'menstrual', 'cylinder', 'adapter', 'hounds', 'walgreen', 'jackpot', 'mccanns', 'psoriasis', 'cleanings', 'satiated', 'eucalyptus', 'autistic', 'valdosta', 'florets', 'congealed', 'melita', 'albertsons', 'thrived', 'sanitary', 'volcanic', 'wowed', 'caved', 'weekday', 'bellagio', 'nibbled', 'hippos', 'nando', 'expo', 'brm', 'yogurts', 'suppressant', 'seizure', 'surfaces', 'sifted', 'tiptree', 'unpronounceable', 'steakhouse', 'montmorency', 'winona', 'dilutes', 'reynard', 'doused', 'solidifies', 'somersaults', 'swirled', 'lifeboat', 'galil', 'schweppes', 'hortons', 'chewie', 'prudhomme', 'unfurl', 'seeping', 'sulphur', 'baths', 'inorganic', 'rhodesian', 'mercola', 'surprized', 'gnawed', 'repellant', 'wafting', 'pooh', 'cib', 'scarpetta', 'aquarium', 'fecal', 'reseller', 'satiate', 'thickest', 'marathons', 'wrist', 'geyser', 'gravitate', 'triangles', 'yoshida', 'southerner', 'scoured', 'spontaneous', 'gadgets', 'olfactory', 'collectors', 'chemist', 'luncheon', 'establishments', 'mildest', 'dawned', 'vat', 'permeated', 'tounge', 'pickwick', 'nettle', 'frisbee', 'ceremonial', 'outdone', 'aggravate', 'dripped', 'endocrine', 'boosters', 'fage', 'membrane', 'slush', 'metabolize', 'wetlands', 'beluga', 'unheated', 'compulsive', 'denting', 'qts', 'homeopathic', 'irritations', 'kauai', 'suckered', 'abv', 'unevenly', 'snugly', 'promptness', 'stunk', 'ozarks', 'doneness', 'dipper', 'neater', 'tincture', 'turkeys', 'litre', 'anthon', 'fluorescent', 'msrp', 'dislodge', 'enlarged', 'hermetically', 'fleischmann', 'seeped', 'rumford', 'unseasoned', 'batting', 'impaired', 'tracts', 'nicaraguan', 'cartridges', 'deteriorate', 'oozed', 'attractant', 'boomer', 'bernese', 'massaged', 'islay', 'vco', 'standardized', 'twinning', 'mef', 'southerners', 'outgrown', 'incidence', 'roulette', 'barcode', 'jfg', 'bovine', 'vigilant', 'szeged', 'mouthed', 'rationing', 'wafted', 'heeded', 'prohibitively', 'concoct']\n",
      "mean: -0.0030873911\n",
      "median: 1e-04\n",
      "max: 4.8304\n",
      "min: -27.7679\n",
      "Mean values across entries\n",
      "\n",
      "Mean mean values across entries: -0.0030873874202370644\n",
      "Median mean values across entries: -0.0029703332111239433\n",
      "Max mean values across entries: 0.02292366698384285\n",
      "Min mean values across entries: -0.1068510040640831\n"
     ]
    },
    {
     "data": {
      "image/png": "[encoded data removed]",
      "text/plain": [
       "<Figure size 432x288 with 1 Axes>"
      ]
     },
     "metadata": {
      "needs_background": "light"
     },
     "output_type": "display_data"
    },
    {
     "name": "stdout",
     "output_type": "stream",
     "text": [
      "\n",
      "\n",
      "Median values across entries\n",
      "\n",
      "Mean median values across entries: 5.129317651153542e-05\n",
      "Median median values across entries: 0.00014999997802078724\n",
      "Max median values across entries: 0.03564999997615814\n",
      "Min median values across entries: -0.0369499996304512\n"
     ]
    },
    {
     "data": {
      "image/png": "[encoded data removed]",
      "text/plain": [
       "<Figure size 432x288 with 1 Axes>"
      ]
     },
     "metadata": {
      "needs_background": "light"
     },
     "output_type": "display_data"
    },
    {
     "name": "stdout",
     "output_type": "stream",
     "text": [
      "\n",
      "\n",
      "Max values across entries\n",
      "\n",
      "Mean max values across entries: 0.3025982081890106\n",
      "Median max values across entries: 0.2874999940395355\n",
      "Max max values across entries: 4.830399990081787\n",
      "Min max values across entries: 0.05389999970793724\n"
     ]
    },
    {
     "data": {
      "image/png": "[encoded data removed]",
      "text/plain": [
       "<Figure size 432x288 with 1 Axes>"
      ]
     },
     "metadata": {
      "needs_background": "light"
     },
     "output_type": "display_data"
    },
    {
     "name": "stdout",
     "output_type": "stream",
     "text": [
      "\n",
      "\n",
      "Min values across entries\n",
      "\n",
      "Mean min values across entries: -0.8343547582626343\n",
      "Median min values across entries: -0.8313999772071838\n",
      "Max min values across entries: -0.4749000072479248\n",
      "Min min values across entries: -27.767900466918945\n"
     ]
    },
    {
     "data": {
      "image/png": "[encoded data removed]",
      "text/plain": [
       "<Figure size 432x288 with 1 Axes>"
      ]
     },
     "metadata": {
      "needs_background": "light"
     },
     "output_type": "display_data"
    },
    {
     "name": "stdout",
     "output_type": "stream",
     "text": [
      "\n",
      "\n",
      "Mean values across dimensions\n",
      "\n",
      "Mean mean values across dimensions: -0.0030873711220920086\n",
      "Median mean values across dimensions: 0.0008963157888501883\n",
      "Max mean values across dimensions: 0.072361059486866\n",
      "Min mean values across dimensions: -0.833014965057373\n"
     ]
    },
    {
     "data": {
      "image/png": "[encoded data removed]",
      "text/plain": [
       "<Figure size 432x288 with 1 Axes>"
      ]
     },
     "metadata": {
      "needs_background": "light"
     },
     "output_type": "display_data"
    },
    {
     "name": "stdout",
     "output_type": "stream",
     "text": [
      "\n",
      "\n",
      "Median values across dimensions\n",
      "\n",
      "Mean median values across dimensions: -0.003310645930469036\n",
      "Median median values across dimensions: 0.0003499999875202775\n",
      "Max median values across dimensions: 0.06650000065565109\n",
      "Min median values across dimensions: -0.8312000036239624\n"
     ]
    },
    {
     "data": {
      "image/png": "[encoded data removed]",
      "text/plain": [
       "<Figure size 432x288 with 1 Axes>"
      ]
     },
     "metadata": {
      "needs_background": "light"
     },
     "output_type": "display_data"
    },
    {
     "name": "stdout",
     "output_type": "stream",
     "text": [
      "\n",
      "\n",
      "Max values across dimensions\n",
      "\n",
      "Mean max values across dimensions: 0.6230807304382324\n",
      "Median max values across dimensions: 0.5767999887466431\n",
      "Max max values across dimensions: 4.830399990081787\n",
      "Min max values across dimensions: -0.4749000072479248\n"
     ]
    },
    {
     "data": {
      "image/png": "[encoded data removed]",
      "text/plain": [
       "<Figure size 432x288 with 1 Axes>"
      ]
     },
     "metadata": {
      "needs_background": "light"
     },
     "output_type": "display_data"
    },
    {
     "name": "stdout",
     "output_type": "stream",
     "text": [
      "\n",
      "\n",
      "Min values across dimensions\n",
      "\n",
      "Mean min values across dimensions: -0.7137287259101868\n",
      "Median min values across dimensions: -0.5785999894142151\n",
      "Max min values across dimensions: -0.4510999917984009\n",
      "Min min values across dimensions: -27.767900466918945\n"
     ]
    },
    {
     "data": {
      "image/png": "[encoded data removed]",
      "text/plain": [
       "<Figure size 432x288 with 1 Axes>"
      ]
     },
     "metadata": {
      "needs_background": "light"
     },
     "output_type": "display_data"
    },
    {
     "name": "stdout",
     "output_type": "stream",
     "text": [
      "\n",
      "\n"
     ]
    }
   ],
   "source": [
    "auto_corrected_vectors = em.vectors[~outlier_idx]\n",
    "auto_corrected_words = em.words[~outlier_idx]\n",
    "\n",
    "auto_corrected_missing_words = get_missing_words(auto_corrected_words)\n",
    "auto_corrected_difference_df = pd.concat([missing_words, auto_corrected_missing_words]).drop_duplicates(keep=False)\n",
    "print(auto_corrected_difference_df.describe())\n",
    "print(auto_corrected_difference_df['word'].to_list()[:300])\n",
    "\n",
    "print_simple_analysis(auto_corrected_vectors)"
   ]
  },
  {
   "cell_type": "markdown",
   "id": "887a92ac-7b15-4d22-a731-aa1a3cba2e83",
   "metadata": {},
   "source": [
    "### Embeddings cleaning conclusion\n",
    "\n",
    "Initial embeddings dictionary contains not very balanced data.\n",
    "\n",
    "Manual cleaning gets better results - more balanced overall stats for embeddings, lesser loss of important words. But it obviously requires some more attention then automatical outlier detections."
   ]
  },
  {
   "cell_type": "markdown",
   "id": "bc6bd5f0-44ea-41e1-907b-61bf268ef5cd",
   "metadata": {},
   "source": [
    "#### One more way of cleaning embeddings is to clean across dimensions.\n",
    "\n",
    "Comparison between manual dimensions filtering, filtering based on IsolationForest and dimensionality reduction with PCA."
   ]
  },
  {
   "cell_type": "code",
   "execution_count": 28,
   "id": "cf450006-452d-4263-b4ca-d02f0b7a82ac",
   "metadata": {},
   "outputs": [
    {
     "name": "stdout",
     "output_type": "stream",
     "text": [
      "(629762, 265)\n",
      "mean: 0.0016996813\n",
      "median: 0.0014\n",
      "max: 1.9866\n",
      "min: -1.9399\n",
      "Mean values across entries\n",
      "\n",
      "Mean mean values across entries: 0.001699683372862637\n",
      "Median mean values across entries: 0.0017075473442673683\n",
      "Max mean values across entries: 0.04391924664378166\n",
      "Min mean values across entries: -0.03336074575781822\n"
     ]
    },
    {
     "data": {
      "image/png": "[encoded data removed]",
      "text/plain": [
       "<Figure size 432x288 with 1 Axes>"
      ]
     },
     "metadata": {
      "needs_background": "light"
     },
     "output_type": "display_data"
    },
    {
     "name": "stdout",
     "output_type": "stream",
     "text": [
      "\n",
      "\n",
      "Median values across entries\n",
      "\n",
      "Mean median values across entries: 0.0014912692131474614\n",
      "Median median values across entries: 0.0014500003308057785\n",
      "Max median values across entries: 0.07349999994039536\n",
      "Min median values across entries: -0.05999999865889549\n"
     ]
    },
    {
     "data": {
      "image/png": "[encoded data removed]",
      "text/plain": [
       "<Figure size 432x288 with 1 Axes>"
      ]
     },
     "metadata": {
      "needs_background": "light"
     },
     "output_type": "display_data"
    },
    {
     "name": "stdout",
     "output_type": "stream",
     "text": [
      "\n",
      "\n",
      "Max values across entries\n",
      "\n",
      "Mean max values across entries: 0.25927188992500305\n",
      "Median max values across entries: 0.24504999816417694\n",
      "Max max values across entries: 1.9866000413894653\n",
      "Min max values across entries: 0.027899999171495438\n"
     ]
    },
    {
     "data": {
      "image/png": "[encoded data removed]",
      "text/plain": [
       "<Figure size 432x288 with 1 Axes>"
      ]
     },
     "metadata": {
      "needs_background": "light"
     },
     "output_type": "display_data"
    },
    {
     "name": "stdout",
     "output_type": "stream",
     "text": [
      "\n",
      "\n",
      "Min values across entries\n",
      "\n",
      "Mean min values across entries: -0.2561971843242645\n",
      "Median min values across entries: -0.24169999361038208\n",
      "Max min values across entries: -0.032600000500679016\n",
      "Min min values across entries: -1.9399000406265259\n"
     ]
    },
    {
     "data": {
      "image/png": "[encoded data removed]",
      "text/plain": [
       "<Figure size 432x288 with 1 Axes>"
      ]
     },
     "metadata": {
      "needs_background": "light"
     },
     "output_type": "display_data"
    },
    {
     "name": "stdout",
     "output_type": "stream",
     "text": [
      "\n",
      "\n",
      "Mean values across dimensions\n",
      "\n",
      "Mean mean values across dimensions: 0.0016996832564473152\n",
      "Median mean values across dimensions: 0.0013200967805460095\n",
      "Max mean values across dimensions: 0.07590612769126892\n",
      "Min mean values across dimensions: -0.040779341012239456\n"
     ]
    },
    {
     "data": {
      "image/png": "[encoded data removed]",
      "text/plain": [
       "<Figure size 432x288 with 1 Axes>"
      ]
     },
     "metadata": {
      "needs_background": "light"
     },
     "output_type": "display_data"
    },
    {
     "name": "stdout",
     "output_type": "stream",
     "text": [
      "\n",
      "\n",
      "Median values across dimensions\n",
      "\n",
      "Mean median values across dimensions: 0.0016265565063804388\n",
      "Median median values across dimensions: 0.0009000003337860107\n",
      "Max median values across dimensions: 0.06719999760389328\n",
      "Min median values across dimensions: -0.04149999842047691\n"
     ]
    },
    {
     "data": {
      "image/png": "[encoded data removed]",
      "text/plain": [
       "<Figure size 432x288 with 1 Axes>"
      ]
     },
     "metadata": {
      "needs_background": "light"
     },
     "output_type": "display_data"
    },
    {
     "name": "stdout",
     "output_type": "stream",
     "text": [
      "\n",
      "\n",
      "Max values across dimensions\n",
      "\n",
      "Mean max values across dimensions: 0.8967588543891907\n",
      "Median max values across dimensions: 0.794700026512146\n",
      "Max max values across dimensions: 1.9866000413894653\n",
      "Min max values across dimensions: 0.5214999914169312\n"
     ]
    },
    {
     "data": {
      "image/png": "[encoded data removed]",
      "text/plain": [
       "<Figure size 432x288 with 1 Axes>"
      ]
     },
     "metadata": {
      "needs_background": "light"
     },
     "output_type": "display_data"
    },
    {
     "name": "stdout",
     "output_type": "stream",
     "text": [
      "\n",
      "\n",
      "Min values across dimensions\n",
      "\n",
      "Mean min values across dimensions: -0.8507856726646423\n",
      "Median min values across dimensions: -0.7390000224113464\n",
      "Max min values across dimensions: -0.525600016117096\n",
      "Min min values across dimensions: -1.9399000406265259\n"
     ]
    },
    {
     "data": {
      "image/png": "[encoded data removed]",
      "text/plain": [
       "<Figure size 432x288 with 1 Axes>"
      ]
     },
     "metadata": {
      "needs_background": "light"
     },
     "output_type": "display_data"
    },
    {
     "name": "stdout",
     "output_type": "stream",
     "text": [
      "\n",
      "\n"
     ]
    }
   ],
   "source": [
    "# use previously computed indexes of manually filtered out dimensions\n",
    "manually_reducted_vectors = em.vectors.swapaxes(0, 1)[~total_dimension_filter_idx].swapaxes(0, 1)\n",
    "print(manually_reducted_vectors.shape)\n",
    "print_simple_analysis(manually_reducted_vectors)"
   ]
  },
  {
   "cell_type": "code",
   "execution_count": 32,
   "id": "76a406cf-e52a-4ac7-a63e-bd727d42a8ba",
   "metadata": {},
   "outputs": [
    {
     "name": "stdout",
     "output_type": "stream",
     "text": [
      "Fitting...\n",
      "Predicting...\n",
      "(629762, 270)\n",
      "mean: 0.001251292\n",
      "median: 0.0012\n",
      "max: 7.4302\n",
      "min: -57.307\n",
      "Mean values across entries\n",
      "\n",
      "Mean mean values across entries: 0.0012512943940237164\n",
      "Median mean values across entries: 0.0013433338608592749\n",
      "Max mean values across entries: 0.07420111447572708\n",
      "Min mean values across entries: -0.19593670964241028\n"
     ]
    },
    {
     "data": {
      "image/png": "[encoded data removed]",
      "text/plain": [
       "<Figure size 432x288 with 1 Axes>"
      ]
     },
     "metadata": {
      "needs_background": "light"
     },
     "output_type": "display_data"
    },
    {
     "name": "stdout",
     "output_type": "stream",
     "text": [
      "\n",
      "\n",
      "Median values across entries\n",
      "\n",
      "Mean median values across entries: 0.001154458150267601\n",
      "Median median values across entries: 0.0012000000569969416\n",
      "Max median values across entries: 0.08495000004768372\n",
      "Min median values across entries: -0.05595000088214874\n"
     ]
    },
    {
     "data": {
      "image/png": "[encoded data removed]",
      "text/plain": [
       "<Figure size 432x288 with 1 Axes>"
      ]
     },
     "metadata": {
      "needs_background": "light"
     },
     "output_type": "display_data"
    },
    {
     "name": "stdout",
     "output_type": "stream",
     "text": [
      "\n",
      "\n",
      "Max values across entries\n",
      "\n",
      "Mean max values across entries: 0.25410911440849304\n",
      "Median max values across entries: 0.2354000061750412\n",
      "Max max values across entries: 7.430200099945068\n",
      "Min max values across entries: 0.04179999977350235\n"
     ]
    },
    {
     "data": {
      "image/png": "[encoded data removed]",
      "text/plain": [
       "<Figure size 432x288 with 1 Axes>"
      ]
     },
     "metadata": {
      "needs_background": "light"
     },
     "output_type": "display_data"
    },
    {
     "name": "stdout",
     "output_type": "stream",
     "text": [
      "\n",
      "\n",
      "Min values across entries\n",
      "\n",
      "Mean min values across entries: -0.25542059540748596\n",
      "Median min values across entries: -0.2337999939918518\n",
      "Max min values across entries: -0.03139999881386757\n",
      "Min min values across entries: -57.30699920654297\n"
     ]
    },
    {
     "data": {
      "image/png": "[encoded data removed]",
      "text/plain": [
       "<Figure size 432x288 with 1 Axes>"
      ]
     },
     "metadata": {
      "needs_background": "light"
     },
     "output_type": "display_data"
    },
    {
     "name": "stdout",
     "output_type": "stream",
     "text": [
      "\n",
      "\n",
      "Mean values across dimensions\n",
      "\n",
      "Mean mean values across dimensions: 0.0012512941611930728\n",
      "Median mean values across dimensions: 0.0007006986998021603\n",
      "Max mean values across dimensions: 0.0629158765077591\n",
      "Min mean values across dimensions: -0.04005449637770653\n"
     ]
    },
    {
     "data": {
      "image/png": "[encoded data removed]",
      "text/plain": [
       "<Figure size 432x288 with 1 Axes>"
      ]
     },
     "metadata": {
      "needs_background": "light"
     },
     "output_type": "display_data"
    },
    {
     "name": "stdout",
     "output_type": "stream",
     "text": [
      "\n",
      "\n",
      "Median values across dimensions\n",
      "\n",
      "Mean median values across dimensions: 0.0011599536519497633\n",
      "Median median values across dimensions: 0.0008499999530613422\n",
      "Max median values across dimensions: 0.050200000405311584\n",
      "Min median values across dimensions: -0.04149999842047691\n"
     ]
    },
    {
     "data": {
      "image/png": "[encoded data removed]",
      "text/plain": [
       "<Figure size 432x288 with 1 Axes>"
      ]
     },
     "metadata": {
      "needs_background": "light"
     },
     "output_type": "display_data"
    },
    {
     "name": "stdout",
     "output_type": "stream",
     "text": [
      "\n",
      "\n",
      "Max values across dimensions\n",
      "\n",
      "Mean max values across dimensions: 0.9766053557395935\n",
      "Median max values across dimensions: 0.7957500219345093\n",
      "Max max values across dimensions: 7.430200099945068\n",
      "Min max values across dimensions: 0.5214999914169312\n"
     ]
    },
    {
     "data": {
      "image/png": "[encoded data removed]",
      "text/plain": [
       "<Figure size 432x288 with 1 Axes>"
      ]
     },
     "metadata": {
      "needs_background": "light"
     },
     "output_type": "display_data"
    },
    {
     "name": "stdout",
     "output_type": "stream",
     "text": [
      "\n",
      "\n",
      "Min values across dimensions\n",
      "\n",
      "Mean min values across dimensions: -1.0824178457260132\n",
      "Median min values across dimensions: -0.739549994468689\n",
      "Max min values across dimensions: -0.5239999890327454\n",
      "Min min values across dimensions: -57.30699920654297\n"
     ]
    },
    {
     "data": {
      "image/png": "[encoded data removed]",
      "text/plain": [
       "<Figure size 432x288 with 1 Axes>"
      ]
     },
     "metadata": {
      "needs_background": "light"
     },
     "output_type": "display_data"
    },
    {
     "name": "stdout",
     "output_type": "stream",
     "text": [
      "\n",
      "\n"
     ]
    }
   ],
   "source": [
    "dim_isolation_forest = IsolationForest(contamination=0.1)\n",
    "\n",
    "temp_vector = em.vectors.swapaxes(0, 1)\n",
    "print('Fitting...')\n",
    "dim_isolation_forest.fit(temp_vector)\n",
    "\n",
    "print('Predicting...')\n",
    "dim_outlier_mask = dim_isolation_forest.predict(temp_vector)\n",
    "dim_outlier_idx = dim_outlier_mask == -1\n",
    "dim_filtered_vector = temp_vector[~dim_outlier_idx].swapaxes(0, 1)\n",
    "\n",
    "print(dim_filtered_vector.shape)\n",
    "print_simple_analysis(dim_filtered_vector)"
   ]
  },
  {
   "cell_type": "code",
   "execution_count": 30,
   "id": "48c601fb-aa0c-4abf-b3db-492b2f46aad3",
   "metadata": {},
   "outputs": [
    {
     "name": "stdout",
     "output_type": "stream",
     "text": [
      "(629762, 200)\n",
      "mean: -2.5931955e-08\n",
      "median: -0.00012429981\n",
      "max: 56.362156\n",
      "min: -6.675017\n",
      "Mean values across entries\n",
      "\n",
      "Mean mean values across entries: -2.5489148569590725e-08\n",
      "Median mean values across entries: 0.00020818188204430044\n",
      "Max mean values across entries: 0.9005263447761536\n",
      "Min mean values across entries: -0.048591308295726776\n"
     ]
    },
    {
     "data": {
      "image/png": "[encoded data removed]",
      "text/plain": [
       "<Figure size 432x288 with 1 Axes>"
      ]
     },
     "metadata": {
      "needs_background": "light"
     },
     "output_type": "display_data"
    },
    {
     "name": "stdout",
     "output_type": "stream",
     "text": [
      "\n",
      "\n",
      "Median values across entries\n",
      "\n",
      "Mean median values across entries: -0.0001684316957835108\n",
      "Median median values across entries: -0.00011185338371433318\n",
      "Max median values across entries: 0.3648156225681305\n",
      "Min median values across entries: -0.12090680003166199\n"
     ]
    },
    {
     "data": {
      "image/png": "[encoded data removed]",
      "text/plain": [
       "<Figure size 432x288 with 1 Axes>"
      ]
     },
     "metadata": {
      "needs_background": "light"
     },
     "output_type": "display_data"
    },
    {
     "name": "stdout",
     "output_type": "stream",
     "text": [
      "\n",
      "\n",
      "Max values across entries\n",
      "\n",
      "Mean max values across entries: 0.39325806498527527\n",
      "Median max values across entries: 0.37154287099838257\n",
      "Max max values across entries: 56.36215591430664\n",
      "Min max values across entries: 0.0744229182600975\n"
     ]
    },
    {
     "data": {
      "image/png": "[encoded data removed]",
      "text/plain": [
       "<Figure size 432x288 with 1 Axes>"
      ]
     },
     "metadata": {
      "needs_background": "light"
     },
     "output_type": "display_data"
    },
    {
     "name": "stdout",
     "output_type": "stream",
     "text": [
      "\n",
      "\n",
      "Min values across entries\n",
      "\n",
      "Mean min values across entries: -0.3733031153678894\n",
      "Median min values across entries: -0.3526865243911743\n",
      "Max min values across entries: -0.09920869767665863\n",
      "Min min values across entries: -6.6750168800354\n"
     ]
    },
    {
     "data": {
      "image/png": "[encoded data removed]",
      "text/plain": [
       "<Figure size 432x288 with 1 Axes>"
      ]
     },
     "metadata": {
      "needs_background": "light"
     },
     "output_type": "display_data"
    },
    {
     "name": "stdout",
     "output_type": "stream",
     "text": [
      "\n",
      "\n",
      "Mean values across dimensions\n",
      "\n",
      "Mean mean values across dimensions: -3.065816045477732e-08\n",
      "Median mean values across dimensions: 3.227281908380064e-08\n",
      "Max mean values across dimensions: 2.187976861023344e-06\n",
      "Min mean values across dimensions: -2.0974721337552182e-06\n"
     ]
    },
    {
     "data": {
      "image/png": "[encoded data removed]",
      "text/plain": [
       "<Figure size 432x288 with 1 Axes>"
      ]
     },
     "metadata": {
      "needs_background": "light"
     },
     "output_type": "display_data"
    },
    {
     "name": "stdout",
     "output_type": "stream",
     "text": [
      "\n",
      "\n",
      "Median values across dimensions\n",
      "\n",
      "Mean median values across dimensions: -0.0003322296543046832\n",
      "Median median values across dimensions: -3.487084177322686e-05\n",
      "Max median values across dimensions: 0.03889088332653046\n",
      "Min median values across dimensions: -0.056161969900131226\n"
     ]
    },
    {
     "data": {
      "image/png": "[encoded data removed]",
      "text/plain": [
       "<Figure size 432x288 with 1 Axes>"
      ]
     },
     "metadata": {
      "needs_background": "light"
     },
     "output_type": "display_data"
    },
    {
     "name": "stdout",
     "output_type": "stream",
     "text": [
      "\n",
      "\n",
      "Max values across dimensions\n",
      "\n",
      "Mean max values across dimensions: 1.9503297805786133\n",
      "Median max values across dimensions: 1.0354806184768677\n",
      "Max max values across dimensions: 56.36215591430664\n",
      "Min max values across dimensions: 0.4807896316051483\n"
     ]
    },
    {
     "data": {
      "image/png": "[encoded data removed]",
      "text/plain": [
       "<Figure size 432x288 with 1 Axes>"
      ]
     },
     "metadata": {
      "needs_background": "light"
     },
     "output_type": "display_data"
    },
    {
     "name": "stdout",
     "output_type": "stream",
     "text": [
      "\n",
      "\n",
      "Min values across dimensions\n",
      "\n",
      "Mean min values across dimensions: -0.9616074562072754\n",
      "Median min values across dimensions: -0.6994838714599609\n",
      "Max min values across dimensions: -0.4517472982406616\n",
      "Min min values across dimensions: -6.6750168800354\n"
     ]
    },
    {
     "data": {
      "image/png": "[encoded data removed]",
      "text/plain": [
       "<Figure size 432x288 with 1 Axes>"
      ]
     },
     "metadata": {
      "needs_background": "light"
     },
     "output_type": "display_data"
    },
    {
     "name": "stdout",
     "output_type": "stream",
     "text": [
      "\n",
      "\n"
     ]
    }
   ],
   "source": [
    "from sklearn.decomposition import PCA\n",
    "\n",
    "pca = PCA(n_components=200)\n",
    "transformed_vectors = pca.fit_transform(em.vectors)\n",
    "print(transformed_vectors.shape)\n",
    "print_simple_analysis(transformed_vectors)"
   ]
  },
  {
   "cell_type": "markdown",
   "id": "be4b659b-9896-4558-b5d8-43645f4189d3",
   "metadata": {},
   "source": [
    "### Conclusion\n",
    "\n",
    "Manual dimensions filtering gives better balanced data without vocabulary loss. It remains unclear whether the loss of approximately 12% of dimensions would damage the accuracy of embeddings.\n",
    "\n",
    "Automatic filtering and dimensionality reduction are faster to produce, but they do not provide required balancing."
   ]
  },
  {
   "cell_type": "code",
   "execution_count": null,
   "id": "b6069418-e413-4450-a7d0-57aae4dc738f",
   "metadata": {},
   "outputs": [],
   "source": []
  }
 ],
 "metadata": {
  "kernelspec": {
   "display_name": "Python 3",
   "language": "python",
   "name": "python3"
  },
  "language_info": {
   "codemirror_mode": {
    "name": "ipython",
    "version": 3
   },
   "file_extension": ".py",
   "mimetype": "text/x-python",
   "name": "python",
   "nbconvert_exporter": "python",
   "pygments_lexer": "ipython3",
   "version": "3.9.6"
  }
 },
 "nbformat": 4,
 "nbformat_minor": 5
}
