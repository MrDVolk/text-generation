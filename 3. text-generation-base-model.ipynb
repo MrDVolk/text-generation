{
 "cells": [
  {
   "cell_type": "markdown",
   "id": "e7ae1073-727b-4e60-a4e1-00fdedeee46b",
   "metadata": {},
   "source": [
    "# Creating base text generation model\n",
    "\n",
    "Based on amazon food reviews, base model should be able to reproduce (at least, get close to) those reviews with sklearn algorithms.\n",
    "\n",
    "## Load and analyze data"
   ]
  },
  {
   "cell_type": "code",
   "execution_count": 1,
   "id": "258ab59a-595d-4a90-9cd5-1f85f947cc47",
   "metadata": {},
   "outputs": [],
   "source": [
    "import warnings\n",
    "warnings.filterwarnings('ignore')"
   ]
  },
  {
   "cell_type": "code",
   "execution_count": 2,
   "id": "963ee7e6-520e-4b76-b305-a5b693aa900b",
   "metadata": {},
   "outputs": [
    {
     "data": {
      "text/html": [
       "<div>\n",
       "<style scoped>\n",
       "    .dataframe tbody tr th:only-of-type {\n",
       "        vertical-align: middle;\n",
       "    }\n",
       "\n",
       "    .dataframe tbody tr th {\n",
       "        vertical-align: top;\n",
       "    }\n",
       "\n",
       "    .dataframe thead th {\n",
       "        text-align: right;\n",
       "    }\n",
       "</style>\n",
       "<table border=\"1\" class=\"dataframe\">\n",
       "  <thead>\n",
       "    <tr style=\"text-align: right;\">\n",
       "      <th></th>\n",
       "      <th>text</th>\n",
       "    </tr>\n",
       "  </thead>\n",
       "  <tbody>\n",
       "    <tr>\n",
       "      <th>0</th>\n",
       "      <td>I have bought several of the Vitality canned d...</td>\n",
       "    </tr>\n",
       "    <tr>\n",
       "      <th>1</th>\n",
       "      <td>Product arrived labeled as Jumbo Salted Peanut...</td>\n",
       "    </tr>\n",
       "    <tr>\n",
       "      <th>2</th>\n",
       "      <td>This is a confection that has been around a fe...</td>\n",
       "    </tr>\n",
       "    <tr>\n",
       "      <th>3</th>\n",
       "      <td>If you are looking for the secret ingredient i...</td>\n",
       "    </tr>\n",
       "    <tr>\n",
       "      <th>4</th>\n",
       "      <td>Great taffy at a great price.  There was a wid...</td>\n",
       "    </tr>\n",
       "  </tbody>\n",
       "</table>\n",
       "</div>"
      ],
      "text/plain": [
       "                                                text\n",
       "0  I have bought several of the Vitality canned d...\n",
       "1  Product arrived labeled as Jumbo Salted Peanut...\n",
       "2  This is a confection that has been around a fe...\n",
       "3  If you are looking for the secret ingredient i...\n",
       "4  Great taffy at a great price.  There was a wid..."
      ]
     },
     "execution_count": 2,
     "metadata": {},
     "output_type": "execute_result"
    }
   ],
   "source": [
    "import pandas as pd\n",
    "from tqdm import tqdm\n",
    "from src.text_preprocessor import TextPreprocessor\n",
    "\n",
    "tqdm.pandas()\n",
    "\n",
    "reviews_df = pd.read_csv('../amazon-food-reviews.csv')\n",
    "reviews_df.columns = [col_name.lower() for col_name in reviews_df.columns]\n",
    "reviews_df = reviews_df[['text']]\n",
    "reviews_df = reviews_df.drop_duplicates(subset=['text'])\n",
    "reviews_df = reviews_df.dropna()\n",
    "reviews_df.head()"
   ]
  },
  {
   "cell_type": "code",
   "execution_count": 3,
   "id": "f109cadb-1a48-4d37-a29e-00c2f8f4ba41",
   "metadata": {},
   "outputs": [
    {
     "name": "stderr",
     "output_type": "stream",
     "text": [
      "100%|██████████| 393579/393579 [00:12<00:00, 31910.07it/s]\n",
      "100%|██████████| 393579/393579 [00:03<00:00, 111907.12it/s]\n"
     ]
    },
    {
     "data": {
      "text/html": [
       "<div>\n",
       "<style scoped>\n",
       "    .dataframe tbody tr th:only-of-type {\n",
       "        vertical-align: middle;\n",
       "    }\n",
       "\n",
       "    .dataframe tbody tr th {\n",
       "        vertical-align: top;\n",
       "    }\n",
       "\n",
       "    .dataframe thead th {\n",
       "        text-align: right;\n",
       "    }\n",
       "</style>\n",
       "<table border=\"1\" class=\"dataframe\">\n",
       "  <thead>\n",
       "    <tr style=\"text-align: right;\">\n",
       "      <th></th>\n",
       "      <th>wc</th>\n",
       "    </tr>\n",
       "  </thead>\n",
       "  <tbody>\n",
       "    <tr>\n",
       "      <th>count</th>\n",
       "      <td>393579.000000</td>\n",
       "    </tr>\n",
       "    <tr>\n",
       "      <th>mean</th>\n",
       "      <td>81.830908</td>\n",
       "    </tr>\n",
       "    <tr>\n",
       "      <th>std</th>\n",
       "      <td>79.677918</td>\n",
       "    </tr>\n",
       "    <tr>\n",
       "      <th>min</th>\n",
       "      <td>0.000000</td>\n",
       "    </tr>\n",
       "    <tr>\n",
       "      <th>25%</th>\n",
       "      <td>34.000000</td>\n",
       "    </tr>\n",
       "    <tr>\n",
       "      <th>50%</th>\n",
       "      <td>58.000000</td>\n",
       "    </tr>\n",
       "    <tr>\n",
       "      <th>75%</th>\n",
       "      <td>100.000000</td>\n",
       "    </tr>\n",
       "    <tr>\n",
       "      <th>max</th>\n",
       "      <td>3483.000000</td>\n",
       "    </tr>\n",
       "  </tbody>\n",
       "</table>\n",
       "</div>"
      ],
      "text/plain": [
       "                  wc\n",
       "count  393579.000000\n",
       "mean       81.830908\n",
       "std        79.677918\n",
       "min         0.000000\n",
       "25%        34.000000\n",
       "50%        58.000000\n",
       "75%       100.000000\n",
       "max      3483.000000"
      ]
     },
     "execution_count": 3,
     "metadata": {},
     "output_type": "execute_result"
    }
   ],
   "source": [
    "text_preprocessor = TextPreprocessor(gentle=True)\n",
    "\n",
    "reviews_df['text'] = reviews_df['text'].progress_apply(text_preprocessor.process)\n",
    "reviews_df['wc'] = reviews_df['text'].progress_apply(lambda x: len([word for word in x.split(' ') if word != '']))\n",
    "reviews_df.describe()"
   ]
  },
  {
   "cell_type": "code",
   "execution_count": 4,
   "id": "2e18d1b5-368f-44ea-8743-1a00d3580a2a",
   "metadata": {},
   "outputs": [
    {
     "name": "stdout",
     "output_type": "stream",
     "text": [
      "Fitting...\n",
      "Predicting...\n"
     ]
    },
    {
     "data": {
      "text/html": [
       "<div>\n",
       "<style scoped>\n",
       "    .dataframe tbody tr th:only-of-type {\n",
       "        vertical-align: middle;\n",
       "    }\n",
       "\n",
       "    .dataframe tbody tr th {\n",
       "        vertical-align: top;\n",
       "    }\n",
       "\n",
       "    .dataframe thead th {\n",
       "        text-align: right;\n",
       "    }\n",
       "</style>\n",
       "<table border=\"1\" class=\"dataframe\">\n",
       "  <thead>\n",
       "    <tr style=\"text-align: right;\">\n",
       "      <th></th>\n",
       "      <th>wc</th>\n",
       "    </tr>\n",
       "  </thead>\n",
       "  <tbody>\n",
       "    <tr>\n",
       "      <th>count</th>\n",
       "      <td>315099.000000</td>\n",
       "    </tr>\n",
       "    <tr>\n",
       "      <th>mean</th>\n",
       "      <td>56.377691</td>\n",
       "    </tr>\n",
       "    <tr>\n",
       "      <th>std</th>\n",
       "      <td>27.856858</td>\n",
       "    </tr>\n",
       "    <tr>\n",
       "      <th>min</th>\n",
       "      <td>20.000000</td>\n",
       "    </tr>\n",
       "    <tr>\n",
       "      <th>25%</th>\n",
       "      <td>33.000000</td>\n",
       "    </tr>\n",
       "    <tr>\n",
       "      <th>50%</th>\n",
       "      <td>50.000000</td>\n",
       "    </tr>\n",
       "    <tr>\n",
       "      <th>75%</th>\n",
       "      <td>75.000000</td>\n",
       "    </tr>\n",
       "    <tr>\n",
       "      <th>max</th>\n",
       "      <td>130.000000</td>\n",
       "    </tr>\n",
       "  </tbody>\n",
       "</table>\n",
       "</div>"
      ],
      "text/plain": [
       "                  wc\n",
       "count  315099.000000\n",
       "mean       56.377691\n",
       "std        27.856858\n",
       "min        20.000000\n",
       "25%        33.000000\n",
       "50%        50.000000\n",
       "75%        75.000000\n",
       "max       130.000000"
      ]
     },
     "execution_count": 4,
     "metadata": {},
     "output_type": "execute_result"
    }
   ],
   "source": [
    "from sklearn.ensemble import IsolationForest\n",
    "\n",
    "wc_isolation_forest = IsolationForest(contamination=0.2)\n",
    "\n",
    "wc_vector = reviews_df['wc'].to_numpy().reshape((-1, 1))\n",
    "print('Fitting...')\n",
    "wc_isolation_forest.fit(wc_vector)\n",
    "\n",
    "print('Predicting...')\n",
    "outlier_mask = wc_isolation_forest.predict(wc_vector)\n",
    "outlier_idx = outlier_mask == -1\n",
    "\n",
    "filtered_reviews_df = reviews_df[~outlier_idx]\n",
    "filtered_reviews_df.describe()"
   ]
  },
  {
   "cell_type": "code",
   "execution_count": 5,
   "id": "4edc8de2-9375-418a-a90b-fbe08ff3c18a",
   "metadata": {},
   "outputs": [
    {
     "data": {
      "text/plain": [
       "<AxesSubplot:>"
      ]
     },
     "execution_count": 5,
     "metadata": {},
     "output_type": "execute_result"
    },
    {
     "data": {
      "image/png": "[encoded data removed]",
      "text/plain": [
       "<Figure size 1152x576 with 1 Axes>"
      ]
     },
     "metadata": {
      "needs_background": "light"
     },
     "output_type": "display_data"
    }
   ],
   "source": [
    "import matplotlib.pyplot as plt\n",
    "%matplotlib inline\n",
    "\n",
    "filtered_reviews_df['wc'].hist(bins=100, figsize=(16,8))"
   ]
  },
  {
   "cell_type": "markdown",
   "id": "5ea1f83f-f516-44c5-bdad-03fea1b1c9c3",
   "metadata": {},
   "source": [
    "## Prepare data for training"
   ]
  },
  {
   "cell_type": "code",
   "execution_count": 6,
   "id": "893ab78c-f48a-4536-84a3-843d91f52264",
   "metadata": {},
   "outputs": [
    {
     "data": {
      "text/plain": [
       "<AxesSubplot:>"
      ]
     },
     "execution_count": 6,
     "metadata": {},
     "output_type": "execute_result"
    },
    {
     "data": {
      "image/png": "[encoded data removed]",
      "text/plain": [
       "<Figure size 1152x576 with 1 Axes>"
      ]
     },
     "metadata": {
      "needs_background": "light"
     },
     "output_type": "display_data"
    }
   ],
   "source": [
    "# Debug only!\n",
    "max_word_count_forced = 41\n",
    "filtered_reviews_df = filtered_reviews_df[filtered_reviews_df['wc'] < max_word_count_forced]\n",
    "filtered_reviews_df['wc'].hist(bins=20, figsize=(16,8))"
   ]
  },
  {
   "cell_type": "code",
   "execution_count": 7,
   "id": "6b3bd667-f0e4-4875-bed1-6d8c70bfd034",
   "metadata": {},
   "outputs": [
    {
     "name": "stderr",
     "output_type": "stream",
     "text": [
      "100%|██████████| 611144/611144 [00:52<00:00, 11665.68it/s]\n"
     ]
    },
    {
     "name": "stdout",
     "output_type": "stream",
     "text": [
      "Total embeddings shape: (611143, 290)\n"
     ]
    },
    {
     "name": "stderr",
     "output_type": "stream",
     "text": [
      "100%|██████████| 611143/611143 [00:00<00:00, 1776223.42it/s]\n"
     ]
    },
    {
     "name": "stdout",
     "output_type": "stream",
     "text": [
      "Total embeddings shape: (611146, 290)\n"
     ]
    }
   ],
   "source": [
    "from src.embedding_manager import EmbeddingManager\n",
    "import numpy as np\n",
    "\n",
    "em = EmbeddingManager(path='../fasttext.wiki-news-cleaned-290d.vec')\n",
    "\n",
    "start_token = '<start>'\n",
    "end_token = '<end>'\n",
    "pad_token = '<pad>'\n",
    "\n",
    "# to make preprocessing easier to debug, at first words will be encoded with indicies\n",
    "input_dict = {word: (i+3) for i, word in enumerate(tqdm(em.embeddings_dict.keys()))}\n",
    "\n",
    "input_dict[start_token] = 1\n",
    "input_dict[end_token] = 2\n",
    "input_dict[pad_token] = 0\n",
    "\n",
    "reversed_input_dict = {input_dict[key]: key for key in input_dict}\n",
    "\n",
    "special_vectors = {\n",
    "    start_token: np.full(em.shape, -2),\n",
    "    end_token: np.full(em.shape, 2),\n",
    "    pad_token: np.zeros(em.shape)\n",
    "}\n",
    "em.add_special_vectors(special_vectors)"
   ]
  },
  {
   "cell_type": "code",
   "execution_count": 8,
   "id": "7d5e53f3-73c6-4e92-ae2f-526dd0e737e8",
   "metadata": {},
   "outputs": [],
   "source": [
    "filtered_reviews_df['text'] = filtered_reviews_df['text'].apply(lambda row: f'{start_token} {row} {end_token}')"
   ]
  },
  {
   "cell_type": "code",
   "execution_count": 9,
   "id": "56dd96dd-4e2f-4a26-82aa-d8a0ebbdcef3",
   "metadata": {},
   "outputs": [
    {
     "name": "stderr",
     "output_type": "stream",
     "text": [
      "5000it [00:00, 11644.63it/s]\n"
     ]
    },
    {
     "data": {
      "text/html": [
       "<div>\n",
       "<style scoped>\n",
       "    .dataframe tbody tr th:only-of-type {\n",
       "        vertical-align: middle;\n",
       "    }\n",
       "\n",
       "    .dataframe tbody tr th {\n",
       "        vertical-align: top;\n",
       "    }\n",
       "\n",
       "    .dataframe thead th {\n",
       "        text-align: right;\n",
       "    }\n",
       "</style>\n",
       "<table border=\"1\" class=\"dataframe\">\n",
       "  <thead>\n",
       "    <tr style=\"text-align: right;\">\n",
       "      <th></th>\n",
       "      <th>text</th>\n",
       "      <th>target_word</th>\n",
       "    </tr>\n",
       "  </thead>\n",
       "  <tbody>\n",
       "    <tr>\n",
       "      <th>count</th>\n",
       "      <td>152763</td>\n",
       "      <td>152763</td>\n",
       "    </tr>\n",
       "    <tr>\n",
       "      <th>unique</th>\n",
       "      <td>137923</td>\n",
       "      <td>8163</td>\n",
       "    </tr>\n",
       "    <tr>\n",
       "      <th>top</th>\n",
       "      <td>&lt;start&gt;</td>\n",
       "      <td>the</td>\n",
       "    </tr>\n",
       "    <tr>\n",
       "      <th>freq</th>\n",
       "      <td>5000</td>\n",
       "      <td>5472</td>\n",
       "    </tr>\n",
       "  </tbody>\n",
       "</table>\n",
       "</div>"
      ],
      "text/plain": [
       "           text target_word\n",
       "count    152763      152763\n",
       "unique   137923        8163\n",
       "top     <start>         the\n",
       "freq       5000        5472"
      ]
     },
     "execution_count": 9,
     "metadata": {},
     "output_type": "execute_result"
    }
   ],
   "source": [
    "windowed_data = []\n",
    "for _, row in tqdm(filtered_reviews_df.sample(n=5000).iterrows()):\n",
    "    words = row['text'].split()\n",
    "    for i in range(1, len(words)):\n",
    "        text = ' '.join(words[:i])\n",
    "        target_word = words[i]\n",
    "        windowed_data.append({\n",
    "            'text': text,\n",
    "            'target_word': target_word\n",
    "        })\n",
    "        \n",
    "windowed_df = pd.DataFrame(windowed_data)\n",
    "windowed_df.describe()"
   ]
  },
  {
   "cell_type": "code",
   "execution_count": 10,
   "id": "e1eaca41-cc07-4313-a3d0-020351cb3540",
   "metadata": {},
   "outputs": [
    {
     "name": "stderr",
     "output_type": "stream",
     "text": [
      "100%|██████████| 152763/152763 [00:00<00:00, 791570.62it/s]\n",
      "100%|██████████| 152038/152038 [00:00<00:00, 157003.89it/s]\n",
      "100%|██████████| 152038/152038 [00:00<00:00, 362860.92it/s]\n",
      "100%|██████████| 152038/152038 [00:00<00:00, 863780.31it/s]\n"
     ]
    },
    {
     "data": {
      "text/html": [
       "<div>\n",
       "<style scoped>\n",
       "    .dataframe tbody tr th:only-of-type {\n",
       "        vertical-align: middle;\n",
       "    }\n",
       "\n",
       "    .dataframe tbody tr th {\n",
       "        vertical-align: top;\n",
       "    }\n",
       "\n",
       "    .dataframe thead th {\n",
       "        text-align: right;\n",
       "    }\n",
       "</style>\n",
       "<table border=\"1\" class=\"dataframe\">\n",
       "  <thead>\n",
       "    <tr style=\"text-align: right;\">\n",
       "      <th></th>\n",
       "      <th>output</th>\n",
       "      <th>wc</th>\n",
       "      <th>seq_len</th>\n",
       "    </tr>\n",
       "  </thead>\n",
       "  <tbody>\n",
       "    <tr>\n",
       "      <th>count</th>\n",
       "      <td>182.000000</td>\n",
       "      <td>182.000000</td>\n",
       "      <td>182.000000</td>\n",
       "    </tr>\n",
       "    <tr>\n",
       "      <th>mean</th>\n",
       "      <td>13833.307692</td>\n",
       "      <td>5.401099</td>\n",
       "      <td>3.945055</td>\n",
       "    </tr>\n",
       "    <tr>\n",
       "      <th>std</th>\n",
       "      <td>53226.725969</td>\n",
       "      <td>4.642894</td>\n",
       "      <td>3.711599</td>\n",
       "    </tr>\n",
       "    <tr>\n",
       "      <th>min</th>\n",
       "      <td>3.000000</td>\n",
       "      <td>2.000000</td>\n",
       "      <td>1.000000</td>\n",
       "    </tr>\n",
       "    <tr>\n",
       "      <th>25%</th>\n",
       "      <td>15.000000</td>\n",
       "      <td>3.000000</td>\n",
       "      <td>2.000000</td>\n",
       "    </tr>\n",
       "    <tr>\n",
       "      <th>50%</th>\n",
       "      <td>182.000000</td>\n",
       "      <td>4.000000</td>\n",
       "      <td>3.000000</td>\n",
       "    </tr>\n",
       "    <tr>\n",
       "      <th>75%</th>\n",
       "      <td>3903.000000</td>\n",
       "      <td>4.000000</td>\n",
       "      <td>3.000000</td>\n",
       "    </tr>\n",
       "    <tr>\n",
       "      <th>max</th>\n",
       "      <td>596025.000000</td>\n",
       "      <td>24.000000</td>\n",
       "      <td>19.000000</td>\n",
       "    </tr>\n",
       "  </tbody>\n",
       "</table>\n",
       "</div>"
      ],
      "text/plain": [
       "              output          wc     seq_len\n",
       "count     182.000000  182.000000  182.000000\n",
       "mean    13833.307692    5.401099    3.945055\n",
       "std     53226.725969    4.642894    3.711599\n",
       "min         3.000000    2.000000    1.000000\n",
       "25%        15.000000    3.000000    2.000000\n",
       "50%       182.000000    4.000000    3.000000\n",
       "75%      3903.000000    4.000000    3.000000\n",
       "max    596025.000000   24.000000   19.000000"
      ]
     },
     "execution_count": 10,
     "metadata": {},
     "output_type": "execute_result"
    }
   ],
   "source": [
    "windowed_df['output'] = windowed_df['target_word'].progress_apply(lambda word: input_dict[word] if word in input_dict else -1)\n",
    "windowed_df = windowed_df[windowed_df['output'] != -1]\n",
    "\n",
    "windowed_df['seq'] = windowed_df['text'].progress_apply(lambda row: [input_dict[word] for word in row.split() if word in input_dict])\n",
    "windowed_df['wc'] = windowed_df['text'].progress_apply(lambda x: len([word for word in x.split() if word is not '']))\n",
    "windowed_df['seq_len'] = windowed_df['seq'].progress_apply(lambda seq: len(seq))\n",
    "\n",
    "# check how many entries lost more than 20% of words due to vocabulary limitations:\n",
    "insufficient_vocabulary_df = windowed_df[(windowed_df['seq_len'] * 1.25 < windowed_df['wc'])]\n",
    "insufficient_vocabulary_df.describe()"
   ]
  },
  {
   "cell_type": "code",
   "execution_count": 11,
   "id": "c345e379-eb64-4852-bc20-478814222014",
   "metadata": {},
   "outputs": [
    {
     "data": {
      "text/html": [
       "<div>\n",
       "<style scoped>\n",
       "    .dataframe tbody tr th:only-of-type {\n",
       "        vertical-align: middle;\n",
       "    }\n",
       "\n",
       "    .dataframe tbody tr th {\n",
       "        vertical-align: top;\n",
       "    }\n",
       "\n",
       "    .dataframe thead th {\n",
       "        text-align: right;\n",
       "    }\n",
       "</style>\n",
       "<table border=\"1\" class=\"dataframe\">\n",
       "  <thead>\n",
       "    <tr style=\"text-align: right;\">\n",
       "      <th></th>\n",
       "      <th>output</th>\n",
       "      <th>wc</th>\n",
       "      <th>seq_len</th>\n",
       "    </tr>\n",
       "  </thead>\n",
       "  <tbody>\n",
       "    <tr>\n",
       "      <th>count</th>\n",
       "      <td>151856.000000</td>\n",
       "      <td>151856.000000</td>\n",
       "      <td>151856.000000</td>\n",
       "    </tr>\n",
       "    <tr>\n",
       "      <th>mean</th>\n",
       "      <td>4766.853704</td>\n",
       "      <td>16.372537</td>\n",
       "      <td>16.297110</td>\n",
       "    </tr>\n",
       "    <tr>\n",
       "      <th>std</th>\n",
       "      <td>23134.481755</td>\n",
       "      <td>9.757191</td>\n",
       "      <td>9.716196</td>\n",
       "    </tr>\n",
       "    <tr>\n",
       "      <th>min</th>\n",
       "      <td>2.000000</td>\n",
       "      <td>1.000000</td>\n",
       "      <td>1.000000</td>\n",
       "    </tr>\n",
       "    <tr>\n",
       "      <th>25%</th>\n",
       "      <td>17.000000</td>\n",
       "      <td>8.000000</td>\n",
       "      <td>8.000000</td>\n",
       "    </tr>\n",
       "    <tr>\n",
       "      <th>50%</th>\n",
       "      <td>111.000000</td>\n",
       "      <td>16.000000</td>\n",
       "      <td>16.000000</td>\n",
       "    </tr>\n",
       "    <tr>\n",
       "      <th>75%</th>\n",
       "      <td>1956.000000</td>\n",
       "      <td>24.000000</td>\n",
       "      <td>23.000000</td>\n",
       "    </tr>\n",
       "    <tr>\n",
       "      <th>max</th>\n",
       "      <td>611080.000000</td>\n",
       "      <td>41.000000</td>\n",
       "      <td>41.000000</td>\n",
       "    </tr>\n",
       "  </tbody>\n",
       "</table>\n",
       "</div>"
      ],
      "text/plain": [
       "              output             wc        seq_len\n",
       "count  151856.000000  151856.000000  151856.000000\n",
       "mean     4766.853704      16.372537      16.297110\n",
       "std     23134.481755       9.757191       9.716196\n",
       "min         2.000000       1.000000       1.000000\n",
       "25%        17.000000       8.000000       8.000000\n",
       "50%       111.000000      16.000000      16.000000\n",
       "75%      1956.000000      24.000000      23.000000\n",
       "max    611080.000000      41.000000      41.000000"
      ]
     },
     "execution_count": 11,
     "metadata": {},
     "output_type": "execute_result"
    }
   ],
   "source": [
    "clean_seq_reviews_df = windowed_df[~windowed_df.index.isin(insufficient_vocabulary_df.index)]\n",
    "clean_seq_reviews_df.describe()"
   ]
  },
  {
   "cell_type": "code",
   "execution_count": 12,
   "id": "0b8f648c-e860-467b-b06c-2489829733dc",
   "metadata": {},
   "outputs": [
    {
     "name": "stderr",
     "output_type": "stream",
     "text": [
      "100%|██████████| 151856/151856 [00:00<00:00, 597850.53it/s]\n"
     ]
    }
   ],
   "source": [
    "max_seq_len = clean_seq_reviews_df['seq_len'].max()\n",
    "clean_seq_reviews_df['pad_seq'] = clean_seq_reviews_df['seq'].progress_apply(lambda seq: [0] * (max_seq_len - len(seq)) + seq)"
   ]
  },
  {
   "cell_type": "code",
   "execution_count": 13,
   "id": "d6ee0ff1-0699-415d-a995-2b338a37c8c1",
   "metadata": {},
   "outputs": [
    {
     "data": {
      "text/html": [
       "<div>\n",
       "<style scoped>\n",
       "    .dataframe tbody tr th:only-of-type {\n",
       "        vertical-align: middle;\n",
       "    }\n",
       "\n",
       "    .dataframe tbody tr th {\n",
       "        vertical-align: top;\n",
       "    }\n",
       "\n",
       "    .dataframe thead th {\n",
       "        text-align: right;\n",
       "    }\n",
       "</style>\n",
       "<table border=\"1\" class=\"dataframe\">\n",
       "  <thead>\n",
       "    <tr style=\"text-align: right;\">\n",
       "      <th></th>\n",
       "      <th>text</th>\n",
       "      <th>target_word</th>\n",
       "      <th>output</th>\n",
       "      <th>seq</th>\n",
       "      <th>wc</th>\n",
       "      <th>seq_len</th>\n",
       "      <th>pad_seq</th>\n",
       "    </tr>\n",
       "  </thead>\n",
       "  <tbody>\n",
       "    <tr>\n",
       "      <th>0</th>\n",
       "      <td>&lt;start&gt;</td>\n",
       "      <td>found</td>\n",
       "      <td>221</td>\n",
       "      <td>[1]</td>\n",
       "      <td>1</td>\n",
       "      <td>1</td>\n",
       "      <td>[0, 0, 0, 0, 0, 0, 0, 0, 0, 0, 0, 0, 0, 0, 0, ...</td>\n",
       "    </tr>\n",
       "    <tr>\n",
       "      <th>1</th>\n",
       "      <td>&lt;start&gt; found</td>\n",
       "      <td>that</td>\n",
       "      <td>9</td>\n",
       "      <td>[1, 221]</td>\n",
       "      <td>2</td>\n",
       "      <td>2</td>\n",
       "      <td>[0, 0, 0, 0, 0, 0, 0, 0, 0, 0, 0, 0, 0, 0, 0, ...</td>\n",
       "    </tr>\n",
       "    <tr>\n",
       "      <th>2</th>\n",
       "      <td>&lt;start&gt; found that</td>\n",
       "      <td>the</td>\n",
       "      <td>3</td>\n",
       "      <td>[1, 221, 9]</td>\n",
       "      <td>3</td>\n",
       "      <td>3</td>\n",
       "      <td>[0, 0, 0, 0, 0, 0, 0, 0, 0, 0, 0, 0, 0, 0, 0, ...</td>\n",
       "    </tr>\n",
       "    <tr>\n",
       "      <th>3</th>\n",
       "      <td>&lt;start&gt; found that the</td>\n",
       "      <td>prescribed</td>\n",
       "      <td>7194</td>\n",
       "      <td>[1, 221, 9, 3]</td>\n",
       "      <td>4</td>\n",
       "      <td>4</td>\n",
       "      <td>[0, 0, 0, 0, 0, 0, 0, 0, 0, 0, 0, 0, 0, 0, 0, ...</td>\n",
       "    </tr>\n",
       "    <tr>\n",
       "      <th>4</th>\n",
       "      <td>&lt;start&gt; found that the prescribed</td>\n",
       "      <td>usage</td>\n",
       "      <td>2011</td>\n",
       "      <td>[1, 221, 9, 3, 7194]</td>\n",
       "      <td>5</td>\n",
       "      <td>5</td>\n",
       "      <td>[0, 0, 0, 0, 0, 0, 0, 0, 0, 0, 0, 0, 0, 0, 0, ...</td>\n",
       "    </tr>\n",
       "  </tbody>\n",
       "</table>\n",
       "</div>"
      ],
      "text/plain": [
       "                                text target_word  output  \\\n",
       "0                            <start>       found     221   \n",
       "1                      <start> found        that       9   \n",
       "2                 <start> found that         the       3   \n",
       "3             <start> found that the  prescribed    7194   \n",
       "4  <start> found that the prescribed       usage    2011   \n",
       "\n",
       "                    seq  wc  seq_len  \\\n",
       "0                   [1]   1        1   \n",
       "1              [1, 221]   2        2   \n",
       "2           [1, 221, 9]   3        3   \n",
       "3        [1, 221, 9, 3]   4        4   \n",
       "4  [1, 221, 9, 3, 7194]   5        5   \n",
       "\n",
       "                                             pad_seq  \n",
       "0  [0, 0, 0, 0, 0, 0, 0, 0, 0, 0, 0, 0, 0, 0, 0, ...  \n",
       "1  [0, 0, 0, 0, 0, 0, 0, 0, 0, 0, 0, 0, 0, 0, 0, ...  \n",
       "2  [0, 0, 0, 0, 0, 0, 0, 0, 0, 0, 0, 0, 0, 0, 0, ...  \n",
       "3  [0, 0, 0, 0, 0, 0, 0, 0, 0, 0, 0, 0, 0, 0, 0, ...  \n",
       "4  [0, 0, 0, 0, 0, 0, 0, 0, 0, 0, 0, 0, 0, 0, 0, ...  "
      ]
     },
     "execution_count": 13,
     "metadata": {},
     "output_type": "execute_result"
    }
   ],
   "source": [
    "clean_seq_reviews_df.head()"
   ]
  },
  {
   "cell_type": "markdown",
   "id": "821f8030-e728-43a2-abde-855e66e655b9",
   "metadata": {
    "tags": []
   },
   "source": [
    "Encode data with embeddings"
   ]
  },
  {
   "cell_type": "code",
   "execution_count": 14,
   "id": "9506ec79-9612-469b-bb4a-a57e762502ba",
   "metadata": {},
   "outputs": [],
   "source": [
    "def encode_seq(seq):\n",
    "    words = [reversed_input_dict[item] for item in seq]\n",
    "    encoded = [em.get_vector(word) for word in words]\n",
    "    return encoded\n",
    "\n",
    "def get_arrayed_data(df_set):\n",
    "    setX = np.stack(df_set['pad_seq'].progress_apply(encode_seq).values, axis=0)\n",
    "    setY = np.stack(df_set['output'].progress_apply(lambda x: encode_seq([x])[0]).values, axis=0)        \n",
    "    return (setX, setY)"
   ]
  },
  {
   "cell_type": "code",
   "execution_count": 27,
   "id": "d9898dc4-90b7-45e8-9a6b-e418db3d8e4c",
   "metadata": {
    "tags": []
   },
   "outputs": [
    {
     "name": "stderr",
     "output_type": "stream",
     "text": [
      "100%|██████████| 800/800 [00:00<00:00, 33332.11it/s]\n",
      "100%|██████████| 800/800 [00:00<00:00, 267814.13it/s]"
     ]
    },
    {
     "name": "stdout",
     "output_type": "stream",
     "text": [
      "(800, 41, 290)\n",
      "(800, 11890)\n",
      "(800, 290)\n"
     ]
    },
    {
     "name": "stderr",
     "output_type": "stream",
     "text": [
      "\n"
     ]
    }
   ],
   "source": [
    "trainX, trainY = get_arrayed_data(clean_seq_reviews_df.sample(n=800))\n",
    "print(trainX.shape)\n",
    "trainX = trainX.reshape((trainX.shape[0], trainX.shape[1] * trainX.shape[2]))\n",
    "print(trainX.shape)\n",
    "print(trainY.shape)"
   ]
  },
  {
   "cell_type": "code",
   "execution_count": 28,
   "id": "04f8b774-90ad-48ca-a8cb-dbcdc279f309",
   "metadata": {},
   "outputs": [
    {
     "name": "stdout",
     "output_type": "stream",
     "text": [
      "Training finished, elapsed seconds: 298.1643896102905\n"
     ]
    }
   ],
   "source": [
    "import time\n",
    "from sklearn.svm import SVR\n",
    "from sklearn.multioutput import MultiOutputRegressor\n",
    "\n",
    "regressor = SVR()\n",
    "mo_regressor = MultiOutputRegressor(estimator=regressor)\n",
    "start_training = time.time()\n",
    "\n",
    "mo_regressor.fit(trainX, trainY)\n",
    "end_training = time.time()\n",
    "print(f'Training finished, elapsed seconds: {end_training-start_training}')"
   ]
  },
  {
   "cell_type": "markdown",
   "id": "3da92b5a-d62e-49dd-83fb-e6efee969139",
   "metadata": {},
   "source": [
    "Doubling train set size will increase training time in 3.4 times"
   ]
  },
  {
   "cell_type": "markdown",
   "id": "d3345a8a-88a9-4287-9a16-feb4057a88bb",
   "metadata": {},
   "source": [
    "### Producing result"
   ]
  },
  {
   "cell_type": "code",
   "execution_count": 51,
   "id": "3258ea2b-8bfc-4535-b715-2f128f04b7c1",
   "metadata": {},
   "outputs": [],
   "source": [
    "def generate_sequence(initial_sentence, max_generated_length=max_seq_len):\n",
    "    sentence = f'{start_token} {initial_sentence.lower()}'\n",
    "\n",
    "    for i in tqdm(range(max_generated_length)):\n",
    "        sequence = [input_dict[word] for word in sentence.split() if word in input_dict]\n",
    "        if len(sequence) >= max_seq_len:\n",
    "            return sentence\n",
    "\n",
    "        padded_sequence = [0] * (max_seq_len - len(sequence)) + sequence\n",
    "\n",
    "        encoded_sequence = encode_seq(padded_sequence)\n",
    "        array = np.array(encoded_sequence)\n",
    "        input_array = array.reshape(1, array.shape[0] * array.shape[1])\n",
    "        result = mo_regressor.predict(input_array).reshape(em.shape)\n",
    "\n",
    "        words = em.get_words(result)\n",
    "        first_word = words[0][0]\n",
    "        sentence += ' ' + first_word\n",
    "\n",
    "        if first_word == end_token:\n",
    "            print('End token received.')\n",
    "            return sentence"
   ]
  },
  {
   "cell_type": "code",
   "execution_count": 52,
   "id": "8e857421-a2f0-4a90-b425-2f0957406f4b",
   "metadata": {},
   "outputs": [
    {
     "name": "stderr",
     "output_type": "stream",
     "text": [
      " 93%|█████████▎| 38/41 [01:02<00:04,  1.64s/it]\n"
     ]
    },
    {
     "data": {
      "text/plain": [
       "'<start> I have bought all that all this all all and all all and all all all and this all this all all all that that that all all whas louie this think all was really all awilley freeatlast nabs sauce that'"
      ]
     },
     "execution_count": 52,
     "metadata": {},
     "output_type": "execute_result"
    }
   ],
   "source": [
    "generate_sequence('I have bought')"
   ]
  },
  {
   "cell_type": "code",
   "execution_count": 53,
   "id": "2b5a2856-6d0c-4239-983e-a77472fc0eeb",
   "metadata": {},
   "outputs": [
    {
     "name": "stderr",
     "output_type": "stream",
     "text": [
      " 73%|███████▎  | 30/41 [00:49<00:18,  1.67s/it]\n"
     ]
    },
    {
     "data": {
      "text/plain": [
       "'<start> really this was an amazing stuff for me to find all and all all all and this all plus all all all that that that all all whas louie this think all was really all awilley freeatlast nabs sauce that'"
      ]
     },
     "execution_count": 53,
     "metadata": {},
     "output_type": "execute_result"
    }
   ],
   "source": [
    "generate_sequence('really this was an amazing stuff for me to find')"
   ]
  },
  {
   "cell_type": "code",
   "execution_count": 54,
   "id": "a04ef602-6ec3-4d65-a1ed-2936ec245a11",
   "metadata": {},
   "outputs": [
    {
     "name": "stderr",
     "output_type": "stream",
     "text": [
      " 98%|█████████▊| 40/41 [01:06<00:01,  1.66s/it]\n"
     ]
    },
    {
     "data": {
      "text/plain": [
       "'<start>  that all all that all this all all and all all and all all all and this all plus all all all that that that all all whas louie this think all was really all awilley freeatlast nabs sauce that'"
      ]
     },
     "execution_count": 54,
     "metadata": {},
     "output_type": "execute_result"
    }
   ],
   "source": [
    "generate_sequence('')"
   ]
  },
  {
   "cell_type": "markdown",
   "id": "cb1b028a-2023-4bf0-853d-0e5e78c575a9",
   "metadata": {},
   "source": [
    "### Summary\n",
    "\n",
    "Base model performs poorly, just as expected. \n",
    "1. Model uses flattened representation of input vector, due to the limitations of sklearn algorithms.\n",
    "2. Because embeddings encoding had to take place before training, train set was reduced to fit in memory\n",
    "3. In addition to previous, because computational powers are limited, train set was additionally reduced\n",
    "4. While there is a possibility to choose words that might fit, it wasn't used. Stopwords, which are dominant in generated texts, should have lowest priority.\n",
    "5. Perhaps stopwords should have beed removed altogether from model's input."
   ]
  },
  {
   "cell_type": "code",
   "execution_count": null,
   "id": "14c7c13c-4f4a-4e3a-b02c-575e4c2c404a",
   "metadata": {},
   "outputs": [],
   "source": []
  }
 ],
 "metadata": {
  "kernelspec": {
   "display_name": "Python 3",
   "language": "python",
   "name": "python3"
  },
  "language_info": {
   "codemirror_mode": {
    "name": "ipython",
    "version": 3
   },
   "file_extension": ".py",
   "mimetype": "text/x-python",
   "name": "python",
   "nbconvert_exporter": "python",
   "pygments_lexer": "ipython3",
   "version": "3.9.6"
  }
 },
 "nbformat": 4,
 "nbformat_minor": 5
}
