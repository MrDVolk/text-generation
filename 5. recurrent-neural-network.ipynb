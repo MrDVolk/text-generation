{
 "cells": [
  {
   "cell_type": "markdown",
   "metadata": {},
   "source": [
    "# Recurrent neural network model for text generation\n",
    "\n",
    "This notebook is based upon the previous ones, \"Sequential base model for text generation\" and \"Bag of words base model for text generation\", and will skip some exploration and analysis.\n",
    "\n",
    "## Load data"
   ]
  },
  {
   "cell_type": "code",
   "execution_count": 1,
   "metadata": {},
   "outputs": [
    {
     "name": "stderr",
     "output_type": "stream",
     "text": [
      "[nltk_data] Downloading package stopwords to\n",
      "[nltk_data]     C:\\Users\\Dmitry\\AppData\\Roaming\\nltk_data...\n",
      "[nltk_data]   Package stopwords is already up-to-date!\n",
      "100%|██████████| 393579/393579 [00:24<00:00, 16148.24it/s]\n",
      "100%|██████████| 393579/393579 [00:02<00:00, 192692.55it/s]\n"
     ]
    },
    {
     "name": "stdout",
     "output_type": "stream",
     "text": [
      "Fitting...\n",
      "Predicting...\n"
     ]
    },
    {
     "data": {
      "image/png": "[encoded data removed]",
      "text/plain": [
       "<Figure size 1152x576 with 1 Axes>"
      ]
     },
     "metadata": {
      "needs_background": "light"
     },
     "output_type": "display_data"
    }
   ],
   "source": [
    "import warnings\n",
    "warnings.filterwarnings('ignore')\n",
    "\n",
    "import pandas as pd\n",
    "from tqdm import tqdm\n",
    "from src.text_preprocessor import TextPreprocessor\n",
    "\n",
    "tqdm.pandas()\n",
    "\n",
    "reviews_df = pd.read_csv('../amazon-food-reviews.csv')\n",
    "reviews_df.columns = [col_name.lower() for col_name in reviews_df.columns]\n",
    "reviews_df = reviews_df[['text']]\n",
    "reviews_df = reviews_df.drop_duplicates(subset=['text'])\n",
    "reviews_df = reviews_df.dropna()\n",
    "\n",
    "text_preprocessor = TextPreprocessor(lemmatization=False)\n",
    "\n",
    "reviews_df['text'] = reviews_df['text'].progress_apply(text_preprocessor.process)\n",
    "reviews_df['wc'] = reviews_df['text'].progress_apply(lambda x: len([word for word in x.split(' ') if word != '']))\n",
    "\n",
    "\n",
    "from sklearn.ensemble import IsolationForest\n",
    "wc_isolation_forest = IsolationForest(contamination=0.2)\n",
    "wc_vector = reviews_df['wc'].to_numpy().reshape((-1, 1))\n",
    "\n",
    "print('Fitting...')\n",
    "wc_isolation_forest.fit(wc_vector)\n",
    "\n",
    "print('Predicting...')\n",
    "outlier_mask = wc_isolation_forest.predict(wc_vector)\n",
    "outlier_idx = outlier_mask == -1\n",
    "\n",
    "filtered_reviews_df = reviews_df[~outlier_idx]\n",
    "\n",
    "import matplotlib.pyplot as plt\n",
    "%matplotlib inline\n",
    "\n",
    "_ = filtered_reviews_df['wc'].hist(bins=63, figsize=(16,8))"
   ]
  },
  {
   "cell_type": "markdown",
   "metadata": {},
   "source": [
    "## Prepare data for training"
   ]
  },
  {
   "cell_type": "code",
   "execution_count": 2,
   "metadata": {},
   "outputs": [
    {
     "data": {
      "image/png": "[encoded data removed]",
      "text/plain": [
       "<Figure size 1152x576 with 1 Axes>"
      ]
     },
     "metadata": {
      "needs_background": "light"
     },
     "output_type": "display_data"
    }
   ],
   "source": [
    "# Debug only!\n",
    "max_word_count_forced = 41\n",
    "filtered_reviews_df = filtered_reviews_df[filtered_reviews_df['wc'] < max_word_count_forced]\n",
    "_ = filtered_reviews_df['wc'].hist(bins=30, figsize=(16,8))"
   ]
  },
  {
   "cell_type": "code",
   "execution_count": 3,
   "metadata": {},
   "outputs": [
    {
     "name": "stderr",
     "output_type": "stream",
     "text": [
      "100%|██████████| 611144/611144 [00:58<00:00, 10365.07it/s]\n",
      " 60%|█████▉    | 366432/611143 [00:00<00:00, 1858418.36it/s]"
     ]
    },
    {
     "name": "stdout",
     "output_type": "stream",
     "text": [
      "Total embeddings shape: (611143, 290)\n"
     ]
    },
    {
     "name": "stderr",
     "output_type": "stream",
     "text": [
      "100%|██████████| 611143/611143 [00:00<00:00, 1852041.24it/s]\n"
     ]
    },
    {
     "name": "stdout",
     "output_type": "stream",
     "text": [
      "Total embeddings shape: (611146, 290)\n"
     ]
    }
   ],
   "source": [
    "from src.embedding_manager import EmbeddingManager\n",
    "import numpy as np\n",
    "\n",
    "em = EmbeddingManager(path='../fasttext.wiki-news-cleaned-290d.vec')\n",
    "\n",
    "start_token = '<start>'\n",
    "end_token = '<end>'\n",
    "pad_token = '<pad>'\n",
    "\n",
    "# to make preprocessing easier to debug, at first words will be encoded with indicies\n",
    "input_dict = {word: (i+3) for i, word in enumerate(tqdm(em.embeddings_dict.keys()))}\n",
    "\n",
    "input_dict[start_token] = 1\n",
    "input_dict[end_token] = 2\n",
    "input_dict[pad_token] = 0\n",
    "\n",
    "reversed_input_dict = {input_dict[key]: key for key in input_dict}\n",
    "\n",
    "special_vectors = {\n",
    "    start_token: np.full(em.shape, -2),\n",
    "    end_token: np.full(em.shape, 2),\n",
    "    pad_token: np.zeros(em.shape)\n",
    "}\n",
    "em.add_special_vectors(special_vectors)"
   ]
  },
  {
   "cell_type": "code",
   "execution_count": 4,
   "metadata": {},
   "outputs": [
    {
     "name": "stderr",
     "output_type": "stream",
     "text": [
      "50000it [00:04, 10233.27it/s]\n",
      "100%|██████████| 1189325/1189325 [00:01<00:00, 750843.67it/s]\n",
      "100%|██████████| 1097301/1097301 [00:05<00:00, 206607.69it/s]\n",
      "100%|██████████| 1097301/1097301 [00:02<00:00, 397514.28it/s]\n",
      "100%|██████████| 1097301/1097301 [00:01<00:00, 936995.28it/s] \n"
     ]
    },
    {
     "data": {
      "text/html": [
       "<div>\n",
       "<style scoped>\n",
       "    .dataframe tbody tr th:only-of-type {\n",
       "        vertical-align: middle;\n",
       "    }\n",
       "\n",
       "    .dataframe tbody tr th {\n",
       "        vertical-align: top;\n",
       "    }\n",
       "\n",
       "    .dataframe thead th {\n",
       "        text-align: right;\n",
       "    }\n",
       "</style>\n",
       "<table border=\"1\" class=\"dataframe\">\n",
       "  <thead>\n",
       "    <tr style=\"text-align: right;\">\n",
       "      <th></th>\n",
       "      <th>output</th>\n",
       "      <th>wc</th>\n",
       "      <th>seq_len</th>\n",
       "    </tr>\n",
       "  </thead>\n",
       "  <tbody>\n",
       "    <tr>\n",
       "      <th>count</th>\n",
       "      <td>1.093692e+06</td>\n",
       "      <td>1.093692e+06</td>\n",
       "      <td>1.093692e+06</td>\n",
       "    </tr>\n",
       "    <tr>\n",
       "      <th>mean</th>\n",
       "      <td>9.319883e+03</td>\n",
       "      <td>1.383946e+01</td>\n",
       "      <td>1.373707e+01</td>\n",
       "    </tr>\n",
       "    <tr>\n",
       "      <th>std</th>\n",
       "      <td>3.147456e+04</td>\n",
       "      <td>9.142018e+00</td>\n",
       "      <td>9.075547e+00</td>\n",
       "    </tr>\n",
       "    <tr>\n",
       "      <th>min</th>\n",
       "      <td>2.000000e+00</td>\n",
       "      <td>1.000000e+00</td>\n",
       "      <td>1.000000e+00</td>\n",
       "    </tr>\n",
       "    <tr>\n",
       "      <th>25%</th>\n",
       "      <td>3.650000e+02</td>\n",
       "      <td>6.000000e+00</td>\n",
       "      <td>6.000000e+00</td>\n",
       "    </tr>\n",
       "    <tr>\n",
       "      <th>50%</th>\n",
       "      <td>1.868000e+03</td>\n",
       "      <td>1.200000e+01</td>\n",
       "      <td>1.200000e+01</td>\n",
       "    </tr>\n",
       "    <tr>\n",
       "      <th>75%</th>\n",
       "      <td>6.671000e+03</td>\n",
       "      <td>2.000000e+01</td>\n",
       "      <td>2.000000e+01</td>\n",
       "    </tr>\n",
       "    <tr>\n",
       "      <th>max</th>\n",
       "      <td>6.111140e+05</td>\n",
       "      <td>4.100000e+01</td>\n",
       "      <td>4.100000e+01</td>\n",
       "    </tr>\n",
       "  </tbody>\n",
       "</table>\n",
       "</div>"
      ],
      "text/plain": [
       "             output            wc       seq_len\n",
       "count  1.093692e+06  1.093692e+06  1.093692e+06\n",
       "mean   9.319883e+03  1.383946e+01  1.373707e+01\n",
       "std    3.147456e+04  9.142018e+00  9.075547e+00\n",
       "min    2.000000e+00  1.000000e+00  1.000000e+00\n",
       "25%    3.650000e+02  6.000000e+00  6.000000e+00\n",
       "50%    1.868000e+03  1.200000e+01  1.200000e+01\n",
       "75%    6.671000e+03  2.000000e+01  2.000000e+01\n",
       "max    6.111140e+05  4.100000e+01  4.100000e+01"
      ]
     },
     "execution_count": 4,
     "metadata": {},
     "output_type": "execute_result"
    }
   ],
   "source": [
    "filtered_reviews_df['text'] = filtered_reviews_df['text'].apply(lambda row: f'{start_token} {row} {end_token}')\n",
    "\n",
    "windowed_data = []\n",
    "for _, row in tqdm(filtered_reviews_df.sample(n=50000).iterrows()):\n",
    "    words = row['text'].split()\n",
    "    for i in range(1, len(words)):\n",
    "        text = ' '.join(words[:i])\n",
    "        target_word = words[i]\n",
    "        windowed_data.append({\n",
    "            'text': text,\n",
    "            'target_word': target_word\n",
    "        })\n",
    "        \n",
    "windowed_df = pd.DataFrame(windowed_data)\n",
    "\n",
    "def get_output(target_word):\n",
    "    if target_word in text_preprocessor.stopwords:\n",
    "        return -1\n",
    "    if target_word not in input_dict:\n",
    "        return -1\n",
    "    \n",
    "    return input_dict[target_word]\n",
    "\n",
    "windowed_df['output'] = windowed_df['target_word'].progress_apply(get_output)\n",
    "windowed_df = windowed_df[windowed_df['output'] != -1]\n",
    "\n",
    "windowed_df['seq'] = windowed_df['text'].progress_apply(lambda row: [input_dict[word] for word in row.split() if word in input_dict])\n",
    "windowed_df['wc'] = windowed_df['text'].progress_apply(lambda x: len([word for word in x.split() if word is not '']))\n",
    "windowed_df['seq_len'] = windowed_df['seq'].progress_apply(lambda seq: len(seq))\n",
    "\n",
    "# check how many entries lost more than 20% of words due to vocabulary limitations:\n",
    "insufficient_vocabulary_df = windowed_df[(windowed_df['seq_len'] * 1.25 < windowed_df['wc'])]\n",
    "clean_seq_reviews_df = windowed_df[~windowed_df.index.isin(insufficient_vocabulary_df.index)]\n",
    "clean_seq_reviews_df.describe()"
   ]
  },
  {
   "cell_type": "markdown",
   "metadata": {},
   "source": [
    "### Balancing outputs"
   ]
  },
  {
   "cell_type": "code",
   "execution_count": 5,
   "metadata": {},
   "outputs": [
    {
     "name": "stderr",
     "output_type": "stream",
     "text": [
      "100%|██████████| 23843/23843 [00:17<00:00, 1393.32it/s]\n"
     ]
    },
    {
     "data": {
      "image/png": "[encoded data removed]",
      "text/plain": [
       "<Figure size 432x288 with 1 Axes>"
      ]
     },
     "metadata": {
      "needs_background": "light"
     },
     "output_type": "display_data"
    }
   ],
   "source": [
    "max_examples = 5\n",
    "\n",
    "target_words_df = clean_seq_reviews_df['target_word'].value_counts().to_frame()\n",
    "balanced_df = clean_seq_reviews_df.groupby('output', group_keys=False).progress_apply(lambda group: group.sample(n=min(len(group.index), max_examples)))\n",
    "_ = balanced_df['output'].value_counts().hist(bins=5)"
   ]
  },
  {
   "cell_type": "code",
   "execution_count": 6,
   "metadata": {},
   "outputs": [
    {
     "name": "stderr",
     "output_type": "stream",
     "text": [
      "100%|██████████| 69350/69350 [00:00<00:00, 384644.86it/s]\n"
     ]
    }
   ],
   "source": [
    "max_seq_len = balanced_df['seq_len'].max()\n",
    "balanced_df['seq'] = balanced_df['seq'].progress_apply(lambda seq: [0] * (max_seq_len - len(seq)) + seq)"
   ]
  },
  {
   "cell_type": "code",
   "execution_count": 7,
   "metadata": {},
   "outputs": [
    {
     "data": {
      "text/html": [
       "<div>\n",
       "<style scoped>\n",
       "    .dataframe tbody tr th:only-of-type {\n",
       "        vertical-align: middle;\n",
       "    }\n",
       "\n",
       "    .dataframe tbody tr th {\n",
       "        vertical-align: top;\n",
       "    }\n",
       "\n",
       "    .dataframe thead th {\n",
       "        text-align: right;\n",
       "    }\n",
       "</style>\n",
       "<table border=\"1\" class=\"dataframe\">\n",
       "  <thead>\n",
       "    <tr style=\"text-align: right;\">\n",
       "      <th></th>\n",
       "      <th>text</th>\n",
       "      <th>target_word</th>\n",
       "      <th>output</th>\n",
       "      <th>seq</th>\n",
       "      <th>wc</th>\n",
       "      <th>seq_len</th>\n",
       "    </tr>\n",
       "  </thead>\n",
       "  <tbody>\n",
       "    <tr>\n",
       "      <th>645929</th>\n",
       "      <td>&lt;start&gt; texture crackers taste good baby mum m...</td>\n",
       "      <td>&lt;end&gt;</td>\n",
       "      <td>2</td>\n",
       "      <td>[0, 0, 0, 0, 0, 0, 0, 0, 0, 0, 0, 0, 0, 0, 0, ...</td>\n",
       "      <td>11</td>\n",
       "      <td>11</td>\n",
       "    </tr>\n",
       "    <tr>\n",
       "      <th>396904</th>\n",
       "      <td>&lt;start&gt; first tried unforgetable tea visiting ...</td>\n",
       "      <td>&lt;end&gt;</td>\n",
       "      <td>2</td>\n",
       "      <td>[1, 92, 1740, 309040, 3903, 3086, 1092, 92, 50...</td>\n",
       "      <td>41</td>\n",
       "      <td>41</td>\n",
       "    </tr>\n",
       "    <tr>\n",
       "      <th>342165</th>\n",
       "      <td>&lt;start&gt; good taste tea bags two four times ful...</td>\n",
       "      <td>&lt;end&gt;</td>\n",
       "      <td>2</td>\n",
       "      <td>[0, 0, 0, 0, 0, 0, 0, 0, 0, 1, 142, 3377, 3903...</td>\n",
       "      <td>32</td>\n",
       "      <td>32</td>\n",
       "    </tr>\n",
       "    <tr>\n",
       "      <th>1111844</th>\n",
       "      <td>&lt;start&gt; become favorite chips much better pack...</td>\n",
       "      <td>&lt;end&gt;</td>\n",
       "      <td>2</td>\n",
       "      <td>[0, 0, 0, 0, 0, 0, 0, 1, 708, 4556, 5912, 152,...</td>\n",
       "      <td>34</td>\n",
       "      <td>34</td>\n",
       "    </tr>\n",
       "    <tr>\n",
       "      <th>238477</th>\n",
       "      <td>&lt;start&gt; heidi bichon allergies doctor told kee...</td>\n",
       "      <td>&lt;end&gt;</td>\n",
       "      <td>2</td>\n",
       "      <td>[0, 0, 0, 0, 0, 0, 0, 0, 0, 0, 0, 0, 0, 0, 0, ...</td>\n",
       "      <td>22</td>\n",
       "      <td>21</td>\n",
       "    </tr>\n",
       "  </tbody>\n",
       "</table>\n",
       "</div>"
      ],
      "text/plain": [
       "                                                      text target_word  \\\n",
       "645929   <start> texture crackers taste good baby mum m...       <end>   \n",
       "396904   <start> first tried unforgetable tea visiting ...       <end>   \n",
       "342165   <start> good taste tea bags two four times ful...       <end>   \n",
       "1111844  <start> become favorite chips much better pack...       <end>   \n",
       "238477   <start> heidi bichon allergies doctor told kee...       <end>   \n",
       "\n",
       "         output                                                seq  wc  \\\n",
       "645929        2  [0, 0, 0, 0, 0, 0, 0, 0, 0, 0, 0, 0, 0, 0, 0, ...  11   \n",
       "396904        2  [1, 92, 1740, 309040, 3903, 3086, 1092, 92, 50...  41   \n",
       "342165        2  [0, 0, 0, 0, 0, 0, 0, 0, 0, 1, 142, 3377, 3903...  32   \n",
       "1111844       2  [0, 0, 0, 0, 0, 0, 0, 1, 708, 4556, 5912, 152,...  34   \n",
       "238477        2  [0, 0, 0, 0, 0, 0, 0, 0, 0, 0, 0, 0, 0, 0, 0, ...  22   \n",
       "\n",
       "         seq_len  \n",
       "645929        11  \n",
       "396904        41  \n",
       "342165        32  \n",
       "1111844       34  \n",
       "238477        21  "
      ]
     },
     "execution_count": 7,
     "metadata": {},
     "output_type": "execute_result"
    }
   ],
   "source": [
    "balanced_df.head()"
   ]
  },
  {
   "cell_type": "markdown",
   "metadata": {},
   "source": [
    "### Train model"
   ]
  },
  {
   "cell_type": "code",
   "execution_count": 8,
   "metadata": {},
   "outputs": [
    {
     "name": "stderr",
     "output_type": "stream",
     "text": [
      "100%|██████████| 69350/69350 [00:00<00:00, 808448.67it/s]\n"
     ]
    },
    {
     "name": "stdout",
     "output_type": "stream",
     "text": [
      "(69350, 41)\n",
      "(69350, 290)\n"
     ]
    }
   ],
   "source": [
    "def get_arrayed_data(df_set):\n",
    "    setX = np.stack(df_set['seq'].values, axis=0)\n",
    "    setY = np.stack(df_set['output'].progress_apply(lambda index: em.embeddings_dict[reversed_input_dict[index]]).values, axis=0)        \n",
    "    return (setX, setY)\n",
    "\n",
    "trainX, trainY = get_arrayed_data(balanced_df)\n",
    "print(trainX.shape)\n",
    "print(trainY.shape)"
   ]
  },
  {
   "cell_type": "markdown",
   "metadata": {},
   "source": [
    "#### Neural network"
   ]
  },
  {
   "cell_type": "code",
   "execution_count": 73,
   "metadata": {},
   "outputs": [],
   "source": [
    "plt.style.use('ggplot')\n",
    "\n",
    "def plot_history(history, title=''):\n",
    "    colors = ['r', 'g', 'b', 'k']\n",
    "    metrics= ['loss', 'mae']\n",
    "    \n",
    "    x = range(1, len(history['loss']) + 1)\n",
    "\n",
    "    plt.figure(figsize=(16, 8))\n",
    "    plt.subplot(1, 2, 1)\n",
    "    plt.ylim(0, 1.1 * max(history['loss']))\n",
    "    plt.plot(x, history['loss'], 'r') \n",
    "    plt.title(f'Loss')\n",
    "        \n",
    "    plt.subplot(1, 2, 2)\n",
    "    plt.ylim(0, 1.1 * max(history['mae']))\n",
    "    plt.plot(x, history['mae'], 'b') \n",
    "    plt.title(f'MAE')"
   ]
  },
  {
   "cell_type": "code",
   "execution_count": 11,
   "metadata": {},
   "outputs": [
    {
     "data": {
      "text/plain": [
       "611147"
      ]
     },
     "execution_count": 11,
     "metadata": {},
     "output_type": "execute_result"
    }
   ],
   "source": [
    "token_count = len(input_dict) + 1\n",
    "token_count"
   ]
  },
  {
   "cell_type": "code",
   "execution_count": 12,
   "metadata": {},
   "outputs": [
    {
     "name": "stderr",
     "output_type": "stream",
     "text": [
      "100%|██████████| 611146/611146 [00:01<00:00, 490870.40it/s]\n"
     ]
    }
   ],
   "source": [
    "import tensorflow as tf\n",
    "from tensorflow.keras.layers import Embedding\n",
    "\n",
    "embedding_matrix = np.zeros((token_count, em.shape[0]))\n",
    "for word, i in tqdm(input_dict.items()):\n",
    "    if word in em.embeddings_dict:\n",
    "        embedding_matrix[i] = em.embeddings_dict[word]\n",
    "        \n",
    "embedding_layer = Embedding(token_count, em.shape[0],\n",
    "                    weights=[embedding_matrix],\n",
    "                    input_length=max_seq_len,\n",
    "                    trainable=False)"
   ]
  },
  {
   "cell_type": "code",
   "execution_count": 78,
   "metadata": {},
   "outputs": [],
   "source": [
    "def simple_nn_model(show_summary=True):\n",
    "    inp = tf.keras.layers.Input((max_seq_len,))\n",
    "    hidden = embedding_layer(inp)\n",
    "    hidden = tf.keras.layers.BatchNormalization()(hidden)\n",
    "\n",
    "    hidden = tf.keras.layers.LSTM(2, return_sequences=True)(hidden)\n",
    "    hidden = BatchNormalization()(hidden)\n",
    "    \n",
    "    hidden = tf.keras.layers.LSTM(2)(hidden)\n",
    "    hidden = BatchNormalization()(hidden)\n",
    "    \n",
    "    hidden = tf.keras.layers.Dense(16, activation='relu')(hidden)\n",
    "    hidden = BatchNormalization()(hidden)\n",
    "\n",
    "    out = tf.keras.layers.Dense(trainY.shape[1])(hidden)\n",
    "    model = tf.keras.Model(inp, out)\n",
    "\n",
    "    model.compile(loss='mse', optimizer='adam', metrics=['mae'])\n",
    "    \n",
    "    if show_summary:\n",
    "        print(model.summary())\n",
    "    \n",
    "    return model"
   ]
  },
  {
   "cell_type": "code",
   "execution_count": 79,
   "metadata": {},
   "outputs": [
    {
     "name": "stdout",
     "output_type": "stream",
     "text": [
      "Model: \"model_11\"\n",
      "_________________________________________________________________\n",
      "Layer (type)                 Output Shape              Param #   \n",
      "=================================================================\n",
      "input_16 (InputLayer)        [(None, 41)]              0         \n",
      "_________________________________________________________________\n",
      "embedding (Embedding)        (None, 41, 290)           177232630 \n",
      "_________________________________________________________________\n",
      "batch_normalization_32 (Batc (None, 41, 290)           1160      \n",
      "_________________________________________________________________\n",
      "lstm_20 (LSTM)               (None, 41, 2)             2344      \n",
      "_________________________________________________________________\n",
      "batch_normalization_33 (Batc (None, 41, 2)             8         \n",
      "_________________________________________________________________\n",
      "lstm_21 (LSTM)               (None, 2)                 40        \n",
      "_________________________________________________________________\n",
      "batch_normalization_34 (Batc (None, 2)                 8         \n",
      "_________________________________________________________________\n",
      "dense_14 (Dense)             (None, 16)                48        \n",
      "_________________________________________________________________\n",
      "batch_normalization_35 (Batc (None, 16)                64        \n",
      "_________________________________________________________________\n",
      "dense_15 (Dense)             (None, 290)               4930      \n",
      "=================================================================\n",
      "Total params: 177,241,232\n",
      "Trainable params: 7,982\n",
      "Non-trainable params: 177,233,250\n",
      "_________________________________________________________________\n",
      "None\n"
     ]
    }
   ],
   "source": [
    "model = simple_nn_model()"
   ]
  },
  {
   "cell_type": "code",
   "execution_count": 80,
   "metadata": {},
   "outputs": [
    {
     "name": "stdout",
     "output_type": "stream",
     "text": [
      "Train on 69350 samples\n",
      "Epoch 1/25\n",
      "69350/69350 [==============================] - 18s 257us/sample - loss: 0.0109 - mae: 0.0746\n",
      "Epoch 2/25\n",
      "69350/69350 [==============================] - 14s 204us/sample - loss: 0.0089 - mae: 0.0697\n",
      "Epoch 3/25\n",
      "69350/69350 [==============================] - 14s 209us/sample - loss: 0.0089 - mae: 0.0697\n",
      "Epoch 4/25\n",
      "69350/69350 [==============================] - 14s 208us/sample - loss: 0.0089 - mae: 0.0696\n",
      "Epoch 5/25\n",
      "69350/69350 [==============================] - 14s 204us/sample - loss: 0.0089 - mae: 0.0696\n",
      "Epoch 6/25\n",
      "69350/69350 [==============================] - 14s 206us/sample - loss: 0.0088 - mae: 0.0695\n",
      "Epoch 7/25\n",
      "69184/69350 [============================>.] - ETA: 0s - loss: 0.0088 - mae: 0.0695\n",
      "Epoch 00007: ReduceLROnPlateau reducing learning rate to 0.00020000000949949026.\n",
      "69350/69350 [==============================] - 14s 207us/sample - loss: 0.0088 - mae: 0.0695\n",
      "Epoch 8/25\n",
      "69350/69350 [==============================] - 14s 206us/sample - loss: 0.0088 - mae: 0.0693\n",
      "Epoch 9/25\n",
      "69350/69350 [==============================] - 14s 206us/sample - loss: 0.0088 - mae: 0.0692\n",
      "Epoch 10/25\n",
      "69350/69350 [==============================] - 14s 204us/sample - loss: 0.0088 - mae: 0.0692\n",
      "Epoch 11/25\n",
      "69350/69350 [==============================] - 14s 203us/sample - loss: 0.0088 - mae: 0.0692\n",
      "Epoch 12/25\n",
      "69350/69350 [==============================] - 14s 206us/sample - loss: 0.0088 - mae: 0.0692\n",
      "Epoch 13/25\n",
      "69312/69350 [============================>.] - ETA: 0s - loss: 0.0087 - mae: 0.0692\n",
      "Epoch 00013: ReduceLROnPlateau reducing learning rate to 4.0000001899898055e-05.\n",
      "69350/69350 [==============================] - 14s 204us/sample - loss: 0.0088 - mae: 0.0692\n",
      "Epoch 14/25\n",
      "69350/69350 [==============================] - 14s 204us/sample - loss: 0.0088 - mae: 0.0692\n",
      "Epoch 15/25\n",
      "69350/69350 [==============================] - 14s 204us/sample - loss: 0.0088 - mae: 0.0692\n",
      "Epoch 16/25\n",
      "69350/69350 [==============================] - 11s 164us/sample - loss: 0.0088 - mae: 0.0692\n",
      "Epoch 17/25\n",
      "69350/69350 [==============================] - 15s 210us/sample - loss: 0.0088 - mae: 0.0692\n",
      "Epoch 18/25\n",
      "69350/69350 [==============================] - 11s 164us/sample - loss: 0.0088 - mae: 0.0692\n",
      "Epoch 19/25\n",
      "69248/69350 [============================>.] - ETA: 0s - loss: 0.0088 - mae: 0.0692\n",
      "Epoch 00019: ReduceLROnPlateau reducing learning rate to 8.000000525498762e-06.\n",
      "69350/69350 [==============================] - 11s 165us/sample - loss: 0.0088 - mae: 0.0692\n",
      "Epoch 20/25\n",
      "69350/69350 [==============================] - 14s 204us/sample - loss: 0.0088 - mae: 0.0692\n",
      "Epoch 21/25\n",
      "69350/69350 [==============================] - 14s 206us/sample - loss: 0.0088 - mae: 0.0692\n",
      "Epoch 22/25\n",
      "69350/69350 [==============================] - 14s 203us/sample - loss: 0.0088 - mae: 0.0692\n",
      "Epoch 23/25\n",
      "69350/69350 [==============================] - 14s 205us/sample - loss: 0.0088 - mae: 0.0692\n",
      "Epoch 24/25\n",
      "69350/69350 [==============================] - 14s 205us/sample - loss: 0.0088 - mae: 0.0692\n",
      "Epoch 25/25\n",
      "69056/69350 [============================>.] - ETA: 0s - loss: 0.0088 - mae: 0.0692\n",
      "Epoch 00025: ReduceLROnPlateau reducing learning rate to 1.6000001778593287e-06.\n",
      "69350/69350 [==============================] - 11s 164us/sample - loss: 0.0088 - mae: 0.0692\n"
     ]
    }
   ],
   "source": [
    "from tensorflow.keras.callbacks import ModelCheckpoint, ReduceLROnPlateau\n",
    "\n",
    "save_best = ModelCheckpoint('models/best_weights.hdf5', save_best_only=True, monitor='loss', mode='min')\n",
    "reduce_lr = ReduceLROnPlateau(monitor='loss', mode='min', factor=0.2, patience=5, verbose=1, cooldown=2)\n",
    "\n",
    "history = model.fit(\n",
    "    trainX, trainY,\n",
    "    batch_size=64,\n",
    "    callbacks=[save_best, reduce_lr],\n",
    "    epochs=25\n",
    ")"
   ]
  },
  {
   "cell_type": "code",
   "execution_count": 81,
   "metadata": {},
   "outputs": [
    {
     "data": {
      "image/png": "[encoded data removed]",
      "text/plain": [
       "<Figure size 1152x576 with 2 Axes>"
      ]
     },
     "metadata": {},
     "output_type": "display_data"
    }
   ],
   "source": [
    "plot_history(history.history)"
   ]
  },
  {
   "cell_type": "markdown",
   "metadata": {},
   "source": [
    "#### Producing result"
   ]
  },
  {
   "cell_type": "code",
   "execution_count": 82,
   "metadata": {},
   "outputs": [],
   "source": [
    "def generate_sequence(initial_sentence, max_generated_length=max_seq_len):\n",
    "    sentence = f'{start_token} {initial_sentence.lower()}'\n",
    "    inapropriate_tokens = [start_token, pad_token]\n",
    "    \n",
    "    for i in tqdm(range(max_generated_length)):\n",
    "        sequence = [input_dict[word] for word in sentence.split() if word in input_dict]\n",
    "        if len(sequence) >= max_seq_len:\n",
    "            return sentence\n",
    "\n",
    "        padded_sequence = [0] * (max_seq_len - len(sequence)) + sequence\n",
    "\n",
    "        array = np.array(padded_sequence)\n",
    "        input_array = array.reshape((-1, array.shape[0]))\n",
    "        result = model.predict(input_array).reshape(em.shape)\n",
    "        \n",
    "        word_scores = em.get_words(result, k=3)\n",
    "        for word_score in word_scores:\n",
    "            word = word_score[0]\n",
    "            if word not in inapropriate_tokens:\n",
    "                new_word = word\n",
    "                break\n",
    "                \n",
    "        sentence += ' ' + new_word\n",
    "\n",
    "        if new_word == end_token:\n",
    "            print('End token received.')\n",
    "            return sentence"
   ]
  },
  {
   "cell_type": "code",
   "execution_count": 83,
   "metadata": {},
   "outputs": [
    {
     "name": "stderr",
     "output_type": "stream",
     "text": [
      " 90%|█████████ | 37/41 [00:13<00:01,  2.72it/s]\n"
     ]
    },
    {
     "data": {
      "text/plain": [
       "'<start> i have bought tehut tehut tehut tehut tehut tehut tehut tehut tehut tehut tehut tehut tehut tehut tehut tehut tehut tehut tehut tehut tehut tehut tehut tehut tehut tehut tehut tehut tehut tehut tehut tehut tehut tehut tehut tehut tehut'"
      ]
     },
     "execution_count": 83,
     "metadata": {},
     "output_type": "execute_result"
    }
   ],
   "source": [
    "generate_sequence('I have bought')"
   ]
  },
  {
   "cell_type": "code",
   "execution_count": 84,
   "metadata": {},
   "outputs": [
    {
     "name": "stderr",
     "output_type": "stream",
     "text": [
      " 73%|███████▎  | 30/41 [00:10<00:03,  2.87it/s]\n"
     ]
    },
    {
     "data": {
      "text/plain": [
       "'<start> really this was an amazing stuff for me to find tehut tehut tehut tehut tehut tehut tehut tehut tehut tehut tehut tehut tehut tehut tehut tehut tehut tehut tehut tehut tehut tehut tehut tehut tehut tehut tehut tehut tehut tehut'"
      ]
     },
     "execution_count": 84,
     "metadata": {},
     "output_type": "execute_result"
    }
   ],
   "source": [
    "generate_sequence('really this was an amazing stuff for me to find')"
   ]
  },
  {
   "cell_type": "code",
   "execution_count": 85,
   "metadata": {},
   "outputs": [
    {
     "name": "stderr",
     "output_type": "stream",
     "text": [
      " 98%|█████████▊| 40/41 [00:13<00:00,  3.01it/s]\n"
     ]
    },
    {
     "data": {
      "text/plain": [
       "'<start>  tehut tehut tehut tehut tehut tehut tehut tehut tehut tehut tehut tehut tehut tehut tehut tehut tehut tehut tehut tehut tehut tehut tehut tehut tehut tehut tehut tehut tehut tehut tehut tehut tehut tehut tehut tehut tehut tehut tehut tehut'"
      ]
     },
     "execution_count": 85,
     "metadata": {},
     "output_type": "execute_result"
    }
   ],
   "source": [
    "generate_sequence('')"
   ]
  },
  {
   "cell_type": "code",
   "execution_count": null,
   "metadata": {},
   "outputs": [],
   "source": []
  }
 ],
 "metadata": {
  "kernelspec": {
   "display_name": "Python 3",
   "language": "python",
   "name": "python3"
  },
  "language_info": {
   "codemirror_mode": {
    "name": "ipython",
    "version": 3
   },
   "file_extension": ".py",
   "mimetype": "text/x-python",
   "name": "python",
   "nbconvert_exporter": "python",
   "pygments_lexer": "ipython3",
   "version": "3.7.9"
  }
 },
 "nbformat": 4,
 "nbformat_minor": 5
}
