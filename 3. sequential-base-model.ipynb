{
 "cells": [
  {
   "cell_type": "markdown",
   "id": "e7ae1073-727b-4e60-a4e1-00fdedeee46b",
   "metadata": {},
   "source": [
    "# Creating sequential base model for text generation\n",
    "\n",
    "This base model would try to predict text, treating it as a sequence of words.\n",
    "\n",
    "Based on amazon food reviews, base model should be able to reproduce (at least, get close to) those reviews with sklearn algorithms.\n",
    "\n",
    "## Load and analyze data"
   ]
  },
  {
   "cell_type": "code",
   "execution_count": 1,
   "id": "258ab59a-595d-4a90-9cd5-1f85f947cc47",
   "metadata": {},
   "outputs": [],
   "source": [
    "import warnings\n",
    "warnings.filterwarnings('ignore')"
   ]
  },
  {
   "cell_type": "code",
   "execution_count": 2,
   "id": "963ee7e6-520e-4b76-b305-a5b693aa900b",
   "metadata": {},
   "outputs": [
    {
     "data": {
      "text/html": [
       "<div>\n",
       "<style scoped>\n",
       "    .dataframe tbody tr th:only-of-type {\n",
       "        vertical-align: middle;\n",
       "    }\n",
       "\n",
       "    .dataframe tbody tr th {\n",
       "        vertical-align: top;\n",
       "    }\n",
       "\n",
       "    .dataframe thead th {\n",
       "        text-align: right;\n",
       "    }\n",
       "</style>\n",
       "<table border=\"1\" class=\"dataframe\">\n",
       "  <thead>\n",
       "    <tr style=\"text-align: right;\">\n",
       "      <th></th>\n",
       "      <th>text</th>\n",
       "    </tr>\n",
       "  </thead>\n",
       "  <tbody>\n",
       "    <tr>\n",
       "      <th>0</th>\n",
       "      <td>I have bought several of the Vitality canned d...</td>\n",
       "    </tr>\n",
       "    <tr>\n",
       "      <th>1</th>\n",
       "      <td>Product arrived labeled as Jumbo Salted Peanut...</td>\n",
       "    </tr>\n",
       "    <tr>\n",
       "      <th>2</th>\n",
       "      <td>This is a confection that has been around a fe...</td>\n",
       "    </tr>\n",
       "    <tr>\n",
       "      <th>3</th>\n",
       "      <td>If you are looking for the secret ingredient i...</td>\n",
       "    </tr>\n",
       "    <tr>\n",
       "      <th>4</th>\n",
       "      <td>Great taffy at a great price.  There was a wid...</td>\n",
       "    </tr>\n",
       "  </tbody>\n",
       "</table>\n",
       "</div>"
      ],
      "text/plain": [
       "                                                text\n",
       "0  I have bought several of the Vitality canned d...\n",
       "1  Product arrived labeled as Jumbo Salted Peanut...\n",
       "2  This is a confection that has been around a fe...\n",
       "3  If you are looking for the secret ingredient i...\n",
       "4  Great taffy at a great price.  There was a wid..."
      ]
     },
     "execution_count": 2,
     "metadata": {},
     "output_type": "execute_result"
    }
   ],
   "source": [
    "import pandas as pd\n",
    "from tqdm import tqdm\n",
    "from src.text_preprocessor import TextPreprocessor\n",
    "\n",
    "tqdm.pandas()\n",
    "\n",
    "reviews_df = pd.read_csv('../amazon-food-reviews.csv')\n",
    "reviews_df.columns = [col_name.lower() for col_name in reviews_df.columns]\n",
    "reviews_df = reviews_df[['text']]\n",
    "reviews_df = reviews_df.drop_duplicates(subset=['text'])\n",
    "reviews_df = reviews_df.dropna()\n",
    "reviews_df.head()"
   ]
  },
  {
   "cell_type": "code",
   "execution_count": 3,
   "id": "f109cadb-1a48-4d37-a29e-00c2f8f4ba41",
   "metadata": {},
   "outputs": [
    {
     "name": "stderr",
     "output_type": "stream",
     "text": [
      "[nltk_data] Downloading package stopwords to\n",
      "[nltk_data]     C:\\Users\\Dmitry\\AppData\\Roaming\\nltk_data...\n",
      "[nltk_data]   Package stopwords is already up-to-date!\n",
      "100%|██████████| 393579/393579 [00:21<00:00, 17894.81it/s]\n",
      "100%|██████████| 393579/393579 [00:02<00:00, 183845.48it/s]\n"
     ]
    },
    {
     "data": {
      "text/html": [
       "<div>\n",
       "<style scoped>\n",
       "    .dataframe tbody tr th:only-of-type {\n",
       "        vertical-align: middle;\n",
       "    }\n",
       "\n",
       "    .dataframe tbody tr th {\n",
       "        vertical-align: top;\n",
       "    }\n",
       "\n",
       "    .dataframe thead th {\n",
       "        text-align: right;\n",
       "    }\n",
       "</style>\n",
       "<table border=\"1\" class=\"dataframe\">\n",
       "  <thead>\n",
       "    <tr style=\"text-align: right;\">\n",
       "      <th></th>\n",
       "      <th>wc</th>\n",
       "    </tr>\n",
       "  </thead>\n",
       "  <tbody>\n",
       "    <tr>\n",
       "      <th>count</th>\n",
       "      <td>393579.000000</td>\n",
       "    </tr>\n",
       "    <tr>\n",
       "      <th>mean</th>\n",
       "      <td>44.132156</td>\n",
       "    </tr>\n",
       "    <tr>\n",
       "      <th>std</th>\n",
       "      <td>45.283719</td>\n",
       "    </tr>\n",
       "    <tr>\n",
       "      <th>min</th>\n",
       "      <td>0.000000</td>\n",
       "    </tr>\n",
       "    <tr>\n",
       "      <th>25%</th>\n",
       "      <td>18.000000</td>\n",
       "    </tr>\n",
       "    <tr>\n",
       "      <th>50%</th>\n",
       "      <td>30.000000</td>\n",
       "    </tr>\n",
       "    <tr>\n",
       "      <th>75%</th>\n",
       "      <td>53.000000</td>\n",
       "    </tr>\n",
       "    <tr>\n",
       "      <th>max</th>\n",
       "      <td>2092.000000</td>\n",
       "    </tr>\n",
       "  </tbody>\n",
       "</table>\n",
       "</div>"
      ],
      "text/plain": [
       "                  wc\n",
       "count  393579.000000\n",
       "mean       44.132156\n",
       "std        45.283719\n",
       "min         0.000000\n",
       "25%        18.000000\n",
       "50%        30.000000\n",
       "75%        53.000000\n",
       "max      2092.000000"
      ]
     },
     "execution_count": 3,
     "metadata": {},
     "output_type": "execute_result"
    }
   ],
   "source": [
    "text_preprocessor = TextPreprocessor(lemmatization=False)\n",
    "\n",
    "reviews_df['text'] = reviews_df['text'].progress_apply(text_preprocessor.process)\n",
    "reviews_df['wc'] = reviews_df['text'].progress_apply(lambda x: len([word for word in x.split(' ') if word != '']))\n",
    "reviews_df.describe()"
   ]
  },
  {
   "cell_type": "code",
   "execution_count": 4,
   "id": "2e18d1b5-368f-44ea-8743-1a00d3580a2a",
   "metadata": {},
   "outputs": [
    {
     "name": "stdout",
     "output_type": "stream",
     "text": [
      "Fitting...\n",
      "Predicting...\n"
     ]
    },
    {
     "data": {
      "text/html": [
       "<div>\n",
       "<style scoped>\n",
       "    .dataframe tbody tr th:only-of-type {\n",
       "        vertical-align: middle;\n",
       "    }\n",
       "\n",
       "    .dataframe tbody tr th {\n",
       "        vertical-align: top;\n",
       "    }\n",
       "\n",
       "    .dataframe thead th {\n",
       "        text-align: right;\n",
       "    }\n",
       "</style>\n",
       "<table border=\"1\" class=\"dataframe\">\n",
       "  <thead>\n",
       "    <tr style=\"text-align: right;\">\n",
       "      <th></th>\n",
       "      <th>wc</th>\n",
       "    </tr>\n",
       "  </thead>\n",
       "  <tbody>\n",
       "    <tr>\n",
       "      <th>count</th>\n",
       "      <td>316435.000000</td>\n",
       "    </tr>\n",
       "    <tr>\n",
       "      <th>mean</th>\n",
       "      <td>31.007610</td>\n",
       "    </tr>\n",
       "    <tr>\n",
       "      <th>std</th>\n",
       "      <td>15.687982</td>\n",
       "    </tr>\n",
       "    <tr>\n",
       "      <th>min</th>\n",
       "      <td>11.000000</td>\n",
       "    </tr>\n",
       "    <tr>\n",
       "      <th>25%</th>\n",
       "      <td>18.000000</td>\n",
       "    </tr>\n",
       "    <tr>\n",
       "      <th>50%</th>\n",
       "      <td>27.000000</td>\n",
       "    </tr>\n",
       "    <tr>\n",
       "      <th>75%</th>\n",
       "      <td>41.000000</td>\n",
       "    </tr>\n",
       "    <tr>\n",
       "      <th>max</th>\n",
       "      <td>74.000000</td>\n",
       "    </tr>\n",
       "  </tbody>\n",
       "</table>\n",
       "</div>"
      ],
      "text/plain": [
       "                  wc\n",
       "count  316435.000000\n",
       "mean       31.007610\n",
       "std        15.687982\n",
       "min        11.000000\n",
       "25%        18.000000\n",
       "50%        27.000000\n",
       "75%        41.000000\n",
       "max        74.000000"
      ]
     },
     "execution_count": 4,
     "metadata": {},
     "output_type": "execute_result"
    }
   ],
   "source": [
    "from sklearn.ensemble import IsolationForest\n",
    "\n",
    "wc_isolation_forest = IsolationForest(contamination=0.2)\n",
    "\n",
    "wc_vector = reviews_df['wc'].to_numpy().reshape((-1, 1))\n",
    "print('Fitting...')\n",
    "wc_isolation_forest.fit(wc_vector)\n",
    "\n",
    "print('Predicting...')\n",
    "outlier_mask = wc_isolation_forest.predict(wc_vector)\n",
    "outlier_idx = outlier_mask == -1\n",
    "\n",
    "filtered_reviews_df = reviews_df[~outlier_idx]\n",
    "filtered_reviews_df.describe()"
   ]
  },
  {
   "cell_type": "code",
   "execution_count": 10,
   "id": "4edc8de2-9375-418a-a90b-fbe08ff3c18a",
   "metadata": {},
   "outputs": [
    {
     "data": {
      "text/plain": [
       "<AxesSubplot:>"
      ]
     },
     "execution_count": 10,
     "metadata": {},
     "output_type": "execute_result"
    },
    {
     "data": {
      "image/png": "[encoded data removed]",
      "text/plain": [
       "<Figure size 1152x576 with 1 Axes>"
      ]
     },
     "metadata": {
      "needs_background": "light"
     },
     "output_type": "display_data"
    }
   ],
   "source": [
    "import matplotlib.pyplot as plt\n",
    "%matplotlib inline\n",
    "\n",
    "filtered_reviews_df['wc'].hist(bins=63, figsize=(16,8))"
   ]
  },
  {
   "cell_type": "markdown",
   "id": "5ea1f83f-f516-44c5-bdad-03fea1b1c9c3",
   "metadata": {},
   "source": [
    "## Prepare data for training"
   ]
  },
  {
   "cell_type": "code",
   "execution_count": 13,
   "id": "893ab78c-f48a-4536-84a3-843d91f52264",
   "metadata": {},
   "outputs": [
    {
     "data": {
      "text/plain": [
       "<AxesSubplot:>"
      ]
     },
     "execution_count": 13,
     "metadata": {},
     "output_type": "execute_result"
    },
    {
     "data": {
      "image/png": "[encoded data removed]",
      "text/plain": [
       "<Figure size 1152x576 with 1 Axes>"
      ]
     },
     "metadata": {
      "needs_background": "light"
     },
     "output_type": "display_data"
    }
   ],
   "source": [
    "# Debug only!\n",
    "max_word_count_forced = 41\n",
    "filtered_reviews_df = filtered_reviews_df[filtered_reviews_df['wc'] < max_word_count_forced]\n",
    "filtered_reviews_df['wc'].hist(bins=30, figsize=(16,8))"
   ]
  },
  {
   "cell_type": "code",
   "execution_count": 14,
   "id": "6b3bd667-f0e4-4875-bed1-6d8c70bfd034",
   "metadata": {},
   "outputs": [
    {
     "name": "stderr",
     "output_type": "stream",
     "text": [
      "100%|██████████| 611144/611144 [00:50<00:00, 12044.46it/s]\n"
     ]
    },
    {
     "name": "stdout",
     "output_type": "stream",
     "text": [
      "Total embeddings shape: (611143, 290)\n"
     ]
    },
    {
     "name": "stderr",
     "output_type": "stream",
     "text": [
      "100%|██████████| 611143/611143 [00:00<00:00, 1840998.32it/s]\n"
     ]
    },
    {
     "name": "stdout",
     "output_type": "stream",
     "text": [
      "Total embeddings shape: (611146, 290)\n"
     ]
    }
   ],
   "source": [
    "from src.embedding_manager import EmbeddingManager\n",
    "import numpy as np\n",
    "\n",
    "em = EmbeddingManager(path='../fasttext.wiki-news-cleaned-290d.vec')\n",
    "\n",
    "start_token = '<start>'\n",
    "end_token = '<end>'\n",
    "pad_token = '<pad>'\n",
    "\n",
    "# to make preprocessing easier to debug, at first words will be encoded with indicies\n",
    "input_dict = {word: (i+3) for i, word in enumerate(tqdm(em.embeddings_dict.keys()))}\n",
    "\n",
    "input_dict[start_token] = 1\n",
    "input_dict[end_token] = 2\n",
    "input_dict[pad_token] = 0\n",
    "\n",
    "reversed_input_dict = {input_dict[key]: key for key in input_dict}\n",
    "\n",
    "special_vectors = {\n",
    "    start_token: np.full(em.shape, -2),\n",
    "    end_token: np.full(em.shape, 2),\n",
    "    pad_token: np.zeros(em.shape)\n",
    "}\n",
    "em.add_special_vectors(special_vectors)"
   ]
  },
  {
   "cell_type": "code",
   "execution_count": 15,
   "id": "7d5e53f3-73c6-4e92-ae2f-526dd0e737e8",
   "metadata": {},
   "outputs": [],
   "source": [
    "filtered_reviews_df['text'] = filtered_reviews_df['text'].apply(lambda row: f'{start_token} {row} {end_token}')"
   ]
  },
  {
   "cell_type": "code",
   "execution_count": 16,
   "id": "56dd96dd-4e2f-4a26-82aa-d8a0ebbdcef3",
   "metadata": {},
   "outputs": [
    {
     "name": "stderr",
     "output_type": "stream",
     "text": [
      "5000it [00:00, 14487.05it/s]\n"
     ]
    },
    {
     "data": {
      "text/html": [
       "<div>\n",
       "<style scoped>\n",
       "    .dataframe tbody tr th:only-of-type {\n",
       "        vertical-align: middle;\n",
       "    }\n",
       "\n",
       "    .dataframe tbody tr th {\n",
       "        vertical-align: top;\n",
       "    }\n",
       "\n",
       "    .dataframe thead th {\n",
       "        text-align: right;\n",
       "    }\n",
       "</style>\n",
       "<table border=\"1\" class=\"dataframe\">\n",
       "  <thead>\n",
       "    <tr style=\"text-align: right;\">\n",
       "      <th></th>\n",
       "      <th>text</th>\n",
       "      <th>target_word</th>\n",
       "    </tr>\n",
       "  </thead>\n",
       "  <tbody>\n",
       "    <tr>\n",
       "      <th>count</th>\n",
       "      <td>121300</td>\n",
       "      <td>121300</td>\n",
       "    </tr>\n",
       "    <tr>\n",
       "      <th>unique</th>\n",
       "      <td>111424</td>\n",
       "      <td>9914</td>\n",
       "    </tr>\n",
       "    <tr>\n",
       "      <th>top</th>\n",
       "      <td>&lt;start&gt;</td>\n",
       "      <td>&lt;end&gt;</td>\n",
       "    </tr>\n",
       "    <tr>\n",
       "      <th>freq</th>\n",
       "      <td>5000</td>\n",
       "      <td>5000</td>\n",
       "    </tr>\n",
       "  </tbody>\n",
       "</table>\n",
       "</div>"
      ],
      "text/plain": [
       "           text target_word\n",
       "count    121300      121300\n",
       "unique   111424        9914\n",
       "top     <start>       <end>\n",
       "freq       5000        5000"
      ]
     },
     "execution_count": 16,
     "metadata": {},
     "output_type": "execute_result"
    }
   ],
   "source": [
    "windowed_data = []\n",
    "for _, row in tqdm(filtered_reviews_df.sample(n=5000).iterrows()):\n",
    "    words = row['text'].split()\n",
    "    for i in range(1, len(words)):\n",
    "        text = ' '.join(words[:i])\n",
    "        target_word = words[i]\n",
    "        windowed_data.append({\n",
    "            'text': text,\n",
    "            'target_word': target_word\n",
    "        })\n",
    "        \n",
    "windowed_df = pd.DataFrame(windowed_data)\n",
    "windowed_df.describe()"
   ]
  },
  {
   "cell_type": "code",
   "execution_count": 17,
   "id": "e1eaca41-cc07-4313-a3d0-020351cb3540",
   "metadata": {},
   "outputs": [
    {
     "name": "stderr",
     "output_type": "stream",
     "text": [
      "100%|██████████| 121300/121300 [00:00<00:00, 694764.47it/s]\n",
      "100%|██████████| 112064/112064 [00:00<00:00, 181370.97it/s]\n",
      "100%|██████████| 112064/112064 [00:00<00:00, 402636.40it/s]\n",
      "100%|██████████| 112064/112064 [00:00<00:00, 892491.19it/s]\n"
     ]
    },
    {
     "data": {
      "text/html": [
       "<div>\n",
       "<style scoped>\n",
       "    .dataframe tbody tr th:only-of-type {\n",
       "        vertical-align: middle;\n",
       "    }\n",
       "\n",
       "    .dataframe tbody tr th {\n",
       "        vertical-align: top;\n",
       "    }\n",
       "\n",
       "    .dataframe thead th {\n",
       "        text-align: right;\n",
       "    }\n",
       "</style>\n",
       "<table border=\"1\" class=\"dataframe\">\n",
       "  <thead>\n",
       "    <tr style=\"text-align: right;\">\n",
       "      <th></th>\n",
       "      <th>output</th>\n",
       "      <th>wc</th>\n",
       "      <th>seq_len</th>\n",
       "    </tr>\n",
       "  </thead>\n",
       "  <tbody>\n",
       "    <tr>\n",
       "      <th>count</th>\n",
       "      <td>324.000000</td>\n",
       "      <td>324.000000</td>\n",
       "      <td>324.000000</td>\n",
       "    </tr>\n",
       "    <tr>\n",
       "      <th>mean</th>\n",
       "      <td>14815.120370</td>\n",
       "      <td>4.317901</td>\n",
       "      <td>3.089506</td>\n",
       "    </tr>\n",
       "    <tr>\n",
       "      <th>std</th>\n",
       "      <td>56069.632358</td>\n",
       "      <td>2.415287</td>\n",
       "      <td>1.950156</td>\n",
       "    </tr>\n",
       "    <tr>\n",
       "      <th>min</th>\n",
       "      <td>32.000000</td>\n",
       "      <td>2.000000</td>\n",
       "      <td>1.000000</td>\n",
       "    </tr>\n",
       "    <tr>\n",
       "      <th>25%</th>\n",
       "      <td>727.750000</td>\n",
       "      <td>3.000000</td>\n",
       "      <td>2.000000</td>\n",
       "    </tr>\n",
       "    <tr>\n",
       "      <th>50%</th>\n",
       "      <td>3277.500000</td>\n",
       "      <td>4.000000</td>\n",
       "      <td>3.000000</td>\n",
       "    </tr>\n",
       "    <tr>\n",
       "      <th>75%</th>\n",
       "      <td>8612.000000</td>\n",
       "      <td>4.000000</td>\n",
       "      <td>3.000000</td>\n",
       "    </tr>\n",
       "    <tr>\n",
       "      <th>max</th>\n",
       "      <td>580625.000000</td>\n",
       "      <td>14.000000</td>\n",
       "      <td>11.000000</td>\n",
       "    </tr>\n",
       "  </tbody>\n",
       "</table>\n",
       "</div>"
      ],
      "text/plain": [
       "              output          wc     seq_len\n",
       "count     324.000000  324.000000  324.000000\n",
       "mean    14815.120370    4.317901    3.089506\n",
       "std     56069.632358    2.415287    1.950156\n",
       "min        32.000000    2.000000    1.000000\n",
       "25%       727.750000    3.000000    2.000000\n",
       "50%      3277.500000    4.000000    3.000000\n",
       "75%      8612.000000    4.000000    3.000000\n",
       "max    580625.000000   14.000000   11.000000"
      ]
     },
     "execution_count": 17,
     "metadata": {},
     "output_type": "execute_result"
    }
   ],
   "source": [
    "def get_output(target_word):\n",
    "    if target_word in text_preprocessor.stopwords:\n",
    "        return -1\n",
    "    if target_word not in input_dict:\n",
    "        return -1\n",
    "    \n",
    "    return input_dict[target_word]\n",
    "\n",
    "windowed_df['output'] = windowed_df['target_word'].progress_apply(get_output)\n",
    "windowed_df = windowed_df[windowed_df['output'] != -1]\n",
    "\n",
    "windowed_df['seq'] = windowed_df['text'].progress_apply(lambda row: [input_dict[word] for word in row.split() if word in input_dict])\n",
    "windowed_df['wc'] = windowed_df['text'].progress_apply(lambda x: len([word for word in x.split() if word is not '']))\n",
    "windowed_df['seq_len'] = windowed_df['seq'].progress_apply(lambda seq: len(seq))\n",
    "\n",
    "# check how many entries lost more than 20% of words due to vocabulary limitations:\n",
    "insufficient_vocabulary_df = windowed_df[(windowed_df['seq_len'] * 1.25 < windowed_df['wc'])]\n",
    "insufficient_vocabulary_df.describe()"
   ]
  },
  {
   "cell_type": "code",
   "execution_count": 18,
   "id": "c345e379-eb64-4852-bc20-478814222014",
   "metadata": {},
   "outputs": [
    {
     "data": {
      "text/html": [
       "<div>\n",
       "<style scoped>\n",
       "    .dataframe tbody tr th:only-of-type {\n",
       "        vertical-align: middle;\n",
       "    }\n",
       "\n",
       "    .dataframe tbody tr th {\n",
       "        vertical-align: top;\n",
       "    }\n",
       "\n",
       "    .dataframe thead th {\n",
       "        text-align: right;\n",
       "    }\n",
       "</style>\n",
       "<table border=\"1\" class=\"dataframe\">\n",
       "  <thead>\n",
       "    <tr style=\"text-align: right;\">\n",
       "      <th></th>\n",
       "      <th>output</th>\n",
       "      <th>wc</th>\n",
       "      <th>seq_len</th>\n",
       "    </tr>\n",
       "  </thead>\n",
       "  <tbody>\n",
       "    <tr>\n",
       "      <th>count</th>\n",
       "      <td>111740.000000</td>\n",
       "      <td>111740.000000</td>\n",
       "      <td>111740.000000</td>\n",
       "    </tr>\n",
       "    <tr>\n",
       "      <th>mean</th>\n",
       "      <td>9195.328003</td>\n",
       "      <td>13.983524</td>\n",
       "      <td>13.888088</td>\n",
       "    </tr>\n",
       "    <tr>\n",
       "      <th>std</th>\n",
       "      <td>31063.498077</td>\n",
       "      <td>9.160414</td>\n",
       "      <td>9.098469</td>\n",
       "    </tr>\n",
       "    <tr>\n",
       "      <th>min</th>\n",
       "      <td>2.000000</td>\n",
       "      <td>1.000000</td>\n",
       "      <td>1.000000</td>\n",
       "    </tr>\n",
       "    <tr>\n",
       "      <th>25%</th>\n",
       "      <td>365.000000</td>\n",
       "      <td>7.000000</td>\n",
       "      <td>6.000000</td>\n",
       "    </tr>\n",
       "    <tr>\n",
       "      <th>50%</th>\n",
       "      <td>1865.000000</td>\n",
       "      <td>13.000000</td>\n",
       "      <td>12.000000</td>\n",
       "    </tr>\n",
       "    <tr>\n",
       "      <th>75%</th>\n",
       "      <td>6700.500000</td>\n",
       "      <td>20.000000</td>\n",
       "      <td>20.000000</td>\n",
       "    </tr>\n",
       "    <tr>\n",
       "      <th>max</th>\n",
       "      <td>610648.000000</td>\n",
       "      <td>41.000000</td>\n",
       "      <td>41.000000</td>\n",
       "    </tr>\n",
       "  </tbody>\n",
       "</table>\n",
       "</div>"
      ],
      "text/plain": [
       "              output             wc        seq_len\n",
       "count  111740.000000  111740.000000  111740.000000\n",
       "mean     9195.328003      13.983524      13.888088\n",
       "std     31063.498077       9.160414       9.098469\n",
       "min         2.000000       1.000000       1.000000\n",
       "25%       365.000000       7.000000       6.000000\n",
       "50%      1865.000000      13.000000      12.000000\n",
       "75%      6700.500000      20.000000      20.000000\n",
       "max    610648.000000      41.000000      41.000000"
      ]
     },
     "execution_count": 18,
     "metadata": {},
     "output_type": "execute_result"
    }
   ],
   "source": [
    "clean_seq_reviews_df = windowed_df[~windowed_df.index.isin(insufficient_vocabulary_df.index)]\n",
    "clean_seq_reviews_df.describe()"
   ]
  },
  {
   "cell_type": "code",
   "execution_count": 19,
   "id": "0b8f648c-e860-467b-b06c-2489829733dc",
   "metadata": {},
   "outputs": [
    {
     "name": "stderr",
     "output_type": "stream",
     "text": [
      "100%|██████████| 111740/111740 [00:00<00:00, 274668.66it/s]\n"
     ]
    }
   ],
   "source": [
    "max_seq_len = clean_seq_reviews_df['seq_len'].max()\n",
    "clean_seq_reviews_df['pad_seq'] = clean_seq_reviews_df['seq'].progress_apply(lambda seq: [0] * (max_seq_len - len(seq)) + seq)"
   ]
  },
  {
   "cell_type": "code",
   "execution_count": 20,
   "id": "d6ee0ff1-0699-415d-a995-2b338a37c8c1",
   "metadata": {},
   "outputs": [
    {
     "data": {
      "text/html": [
       "<div>\n",
       "<style scoped>\n",
       "    .dataframe tbody tr th:only-of-type {\n",
       "        vertical-align: middle;\n",
       "    }\n",
       "\n",
       "    .dataframe tbody tr th {\n",
       "        vertical-align: top;\n",
       "    }\n",
       "\n",
       "    .dataframe thead th {\n",
       "        text-align: right;\n",
       "    }\n",
       "</style>\n",
       "<table border=\"1\" class=\"dataframe\">\n",
       "  <thead>\n",
       "    <tr style=\"text-align: right;\">\n",
       "      <th></th>\n",
       "      <th>text</th>\n",
       "      <th>target_word</th>\n",
       "      <th>output</th>\n",
       "      <th>seq</th>\n",
       "      <th>wc</th>\n",
       "      <th>seq_len</th>\n",
       "      <th>pad_seq</th>\n",
       "    </tr>\n",
       "  </thead>\n",
       "  <tbody>\n",
       "    <tr>\n",
       "      <th>0</th>\n",
       "      <td>&lt;start&gt;</td>\n",
       "      <td>love</td>\n",
       "      <td>577</td>\n",
       "      <td>[1]</td>\n",
       "      <td>1</td>\n",
       "      <td>1</td>\n",
       "      <td>[0, 0, 0, 0, 0, 0, 0, 0, 0, 0, 0, 0, 0, 0, 0, ...</td>\n",
       "    </tr>\n",
       "    <tr>\n",
       "      <th>2</th>\n",
       "      <td>&lt;start&gt; love this</td>\n",
       "      <td>use</td>\n",
       "      <td>70</td>\n",
       "      <td>[1, 577, 22]</td>\n",
       "      <td>3</td>\n",
       "      <td>3</td>\n",
       "      <td>[0, 0, 0, 0, 0, 0, 0, 0, 0, 0, 0, 0, 0, 0, 0, ...</td>\n",
       "    </tr>\n",
       "    <tr>\n",
       "      <th>3</th>\n",
       "      <td>&lt;start&gt; love this use</td>\n",
       "      <td>cold</td>\n",
       "      <td>2190</td>\n",
       "      <td>[1, 577, 22, 70]</td>\n",
       "      <td>4</td>\n",
       "      <td>4</td>\n",
       "      <td>[0, 0, 0, 0, 0, 0, 0, 0, 0, 0, 0, 0, 0, 0, 0, ...</td>\n",
       "    </tr>\n",
       "    <tr>\n",
       "      <th>4</th>\n",
       "      <td>&lt;start&gt; love this use cold</td>\n",
       "      <td>cuts</td>\n",
       "      <td>1932</td>\n",
       "      <td>[1, 577, 22, 70, 2190]</td>\n",
       "      <td>5</td>\n",
       "      <td>5</td>\n",
       "      <td>[0, 0, 0, 0, 0, 0, 0, 0, 0, 0, 0, 0, 0, 0, 0, ...</td>\n",
       "    </tr>\n",
       "    <tr>\n",
       "      <th>5</th>\n",
       "      <td>&lt;start&gt; love this use cold cuts</td>\n",
       "      <td>given</td>\n",
       "      <td>229</td>\n",
       "      <td>[1, 577, 22, 70, 2190, 1932]</td>\n",
       "      <td>6</td>\n",
       "      <td>6</td>\n",
       "      <td>[0, 0, 0, 0, 0, 0, 0, 0, 0, 0, 0, 0, 0, 0, 0, ...</td>\n",
       "    </tr>\n",
       "  </tbody>\n",
       "</table>\n",
       "</div>"
      ],
      "text/plain": [
       "                              text target_word  output  \\\n",
       "0                          <start>        love     577   \n",
       "2                <start> love this         use      70   \n",
       "3            <start> love this use        cold    2190   \n",
       "4       <start> love this use cold        cuts    1932   \n",
       "5  <start> love this use cold cuts       given     229   \n",
       "\n",
       "                            seq  wc  seq_len  \\\n",
       "0                           [1]   1        1   \n",
       "2                  [1, 577, 22]   3        3   \n",
       "3              [1, 577, 22, 70]   4        4   \n",
       "4        [1, 577, 22, 70, 2190]   5        5   \n",
       "5  [1, 577, 22, 70, 2190, 1932]   6        6   \n",
       "\n",
       "                                             pad_seq  \n",
       "0  [0, 0, 0, 0, 0, 0, 0, 0, 0, 0, 0, 0, 0, 0, 0, ...  \n",
       "2  [0, 0, 0, 0, 0, 0, 0, 0, 0, 0, 0, 0, 0, 0, 0, ...  \n",
       "3  [0, 0, 0, 0, 0, 0, 0, 0, 0, 0, 0, 0, 0, 0, 0, ...  \n",
       "4  [0, 0, 0, 0, 0, 0, 0, 0, 0, 0, 0, 0, 0, 0, 0, ...  \n",
       "5  [0, 0, 0, 0, 0, 0, 0, 0, 0, 0, 0, 0, 0, 0, 0, ...  "
      ]
     },
     "execution_count": 20,
     "metadata": {},
     "output_type": "execute_result"
    }
   ],
   "source": [
    "clean_seq_reviews_df.head()"
   ]
  },
  {
   "cell_type": "markdown",
   "id": "821f8030-e728-43a2-abde-855e66e655b9",
   "metadata": {
    "tags": []
   },
   "source": [
    "Encode data with embeddings"
   ]
  },
  {
   "cell_type": "code",
   "execution_count": 21,
   "id": "9506ec79-9612-469b-bb4a-a57e762502ba",
   "metadata": {},
   "outputs": [],
   "source": [
    "def encode_seq(seq):\n",
    "    words = [reversed_input_dict[item] for item in seq]\n",
    "    encoded = [em.get_vector(word) for word in words]\n",
    "    return encoded\n",
    "\n",
    "def get_arrayed_data(df_set):\n",
    "    setX = np.stack(df_set['pad_seq'].progress_apply(encode_seq).values, axis=0)\n",
    "    setY = np.stack(df_set['output'].progress_apply(lambda x: encode_seq([x])[0]).values, axis=0)        \n",
    "    return (setX, setY)"
   ]
  },
  {
   "cell_type": "code",
   "execution_count": 22,
   "id": "d9898dc4-90b7-45e8-9a6b-e418db3d8e4c",
   "metadata": {
    "tags": []
   },
   "outputs": [
    {
     "name": "stderr",
     "output_type": "stream",
     "text": [
      "100%|██████████| 800/800 [00:00<00:00, 38100.59it/s]\n",
      "100%|██████████| 800/800 [00:00<00:00, 274047.96it/s]"
     ]
    },
    {
     "name": "stdout",
     "output_type": "stream",
     "text": [
      "(800, 41, 290)\n",
      "(800, 11890)\n",
      "(800, 290)\n"
     ]
    },
    {
     "name": "stderr",
     "output_type": "stream",
     "text": [
      "\n"
     ]
    }
   ],
   "source": [
    "trainX, trainY = get_arrayed_data(clean_seq_reviews_df.sample(n=800))\n",
    "print(trainX.shape)\n",
    "trainX = trainX.reshape((trainX.shape[0], trainX.shape[1] * trainX.shape[2]))\n",
    "print(trainX.shape)\n",
    "print(trainY.shape)"
   ]
  },
  {
   "cell_type": "code",
   "execution_count": 23,
   "id": "04f8b774-90ad-48ca-a8cb-dbcdc279f309",
   "metadata": {},
   "outputs": [
    {
     "name": "stdout",
     "output_type": "stream",
     "text": [
      "Training finished, elapsed seconds: 375.062504529953\n"
     ]
    }
   ],
   "source": [
    "import time\n",
    "from sklearn.svm import SVR\n",
    "from sklearn.multioutput import MultiOutputRegressor\n",
    "\n",
    "regressor = SVR()\n",
    "mo_regressor = MultiOutputRegressor(estimator=regressor)\n",
    "start_training = time.time()\n",
    "\n",
    "mo_regressor.fit(trainX, trainY)\n",
    "end_training = time.time()\n",
    "print(f'Training finished, elapsed seconds: {end_training-start_training}')"
   ]
  },
  {
   "cell_type": "markdown",
   "id": "3da92b5a-d62e-49dd-83fb-e6efee969139",
   "metadata": {},
   "source": [
    "Doubling train set size will increase training time in 3.4 times"
   ]
  },
  {
   "cell_type": "markdown",
   "id": "d3345a8a-88a9-4287-9a16-feb4057a88bb",
   "metadata": {},
   "source": [
    "### Producing result"
   ]
  },
  {
   "cell_type": "code",
   "execution_count": 35,
   "id": "3258ea2b-8bfc-4535-b715-2f128f04b7c1",
   "metadata": {},
   "outputs": [],
   "source": [
    "def generate_sequence(initial_sentence, max_generated_length=max_seq_len):\n",
    "    sentence = f'{start_token} {initial_sentence.lower()}'\n",
    "    inapropriate_tokens = [start_token, pad_token]\n",
    "    \n",
    "    for i in tqdm(range(max_generated_length)):\n",
    "        sequence = [input_dict[word] for word in sentence.split() if word in input_dict]\n",
    "        if len(sequence) >= max_seq_len:\n",
    "            return sentence\n",
    "\n",
    "        padded_sequence = [0] * (max_seq_len - len(sequence)) + sequence\n",
    "\n",
    "        encoded_sequence = encode_seq(padded_sequence)\n",
    "        array = np.array(encoded_sequence)\n",
    "        input_array = array.reshape(1, array.shape[0] * array.shape[1])\n",
    "        result = mo_regressor.predict(input_array).reshape(em.shape)\n",
    "\n",
    "        word_scores = em.get_words(result, k=3)\n",
    "        for word_score in word_scores:\n",
    "            word = word_score[0]\n",
    "            if word not in inapropriate_tokens:\n",
    "                new_word = word\n",
    "                break\n",
    "                \n",
    "        sentence += ' ' + new_word\n",
    "\n",
    "        if new_word == end_token:\n",
    "            print('End token received.')\n",
    "            return sentence"
   ]
  },
  {
   "cell_type": "code",
   "execution_count": 36,
   "id": "8e857421-a2f0-4a90-b425-2f0957406f4b",
   "metadata": {},
   "outputs": [
    {
     "name": "stderr",
     "output_type": "stream",
     "text": [
      " 90%|█████████ | 37/41 [01:08<00:07,  1.85s/it]\n"
     ]
    },
    {
     "data": {
      "text/plain": [
       "'<start> i have bought all plus that all all tehut all all all plus plus plus louie louie plus that tehut now this plus louie fow think this really fow fow and altogether nabs was time worth ared gwb seeds way'"
      ]
     },
     "execution_count": 36,
     "metadata": {},
     "output_type": "execute_result"
    }
   ],
   "source": [
    "generate_sequence('I have bought')"
   ]
  },
  {
   "cell_type": "code",
   "execution_count": 37,
   "id": "2b5a2856-6d0c-4239-983e-a77472fc0eeb",
   "metadata": {},
   "outputs": [
    {
     "name": "stderr",
     "output_type": "stream",
     "text": [
      " 73%|███████▎  | 30/41 [00:53<00:19,  1.78s/it]\n"
     ]
    },
    {
     "data": {
      "text/plain": [
       "'<start> really this was an amazing stuff for me to find all all plus plus plus louie louie plus that tehut now this this louie fow think this really fow fow and altogether nabs was time worth ispy gwb seeds way'"
      ]
     },
     "execution_count": 37,
     "metadata": {},
     "output_type": "execute_result"
    }
   ],
   "source": [
    "generate_sequence('really this was an amazing stuff for me to find')"
   ]
  },
  {
   "cell_type": "code",
   "execution_count": 38,
   "id": "a04ef602-6ec3-4d65-a1ed-2936ec245a11",
   "metadata": {},
   "outputs": [
    {
     "name": "stderr",
     "output_type": "stream",
     "text": [
      " 98%|█████████▊| 40/41 [01:13<00:01,  1.84s/it]\n"
     ]
    },
    {
     "data": {
      "text/plain": [
       "'<start>  all all tehut all plus that all all tehut all all all plus plus plus louie louie plus that tehut now this plus louie fow think this really fow fow and altogether nabs was time worth ispy gwb seeds way'"
      ]
     },
     "execution_count": 38,
     "metadata": {},
     "output_type": "execute_result"
    }
   ],
   "source": [
    "generate_sequence('')"
   ]
  },
  {
   "cell_type": "markdown",
   "id": "cb1b028a-2023-4bf0-853d-0e5e78c575a9",
   "metadata": {},
   "source": [
    "### Summary\n",
    "\n",
    "Base model performs poorly, just as expected. \n",
    "1. Model uses flattened representation of input vector, due to the limitations of sklearn algorithms.\n",
    "2. Because embeddings encoding had to take place before training, train set was reduced to fit in memory\n",
    "3. In addition to previous, because computational powers are limited, train set was additionally reduced\n",
    "4. While there is a possibility to choose words that might fit, it wasn't used. Stopwords, which are dominant in generated texts, should have lowest priority.\n",
    "5. Outputs were not really balanced."
   ]
  },
  {
   "cell_type": "code",
   "execution_count": 28,
   "id": "14c7c13c-4f4a-4e3a-b02c-575e4c2c404a",
   "metadata": {},
   "outputs": [],
   "source": []
  },
  {
   "cell_type": "code",
   "execution_count": null,
   "id": "b6b57dfc-a8f8-4843-9c38-7b3534cd10cb",
   "metadata": {},
   "outputs": [],
   "source": []
  }
 ],
 "metadata": {
  "kernelspec": {
   "display_name": "Python 3",
   "language": "python",
   "name": "python3"
  },
  "language_info": {
   "codemirror_mode": {
    "name": "ipython",
    "version": 3
   },
   "file_extension": ".py",
   "mimetype": "text/x-python",
   "name": "python",
   "nbconvert_exporter": "python",
   "pygments_lexer": "ipython3",
   "version": "3.9.6"
  }
 },
 "nbformat": 4,
 "nbformat_minor": 5
}
